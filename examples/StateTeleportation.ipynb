{
 "cells": [
  {
   "cell_type": "markdown",
   "metadata": {},
   "source": [
    "# State teleportation"
   ]
  },
  {
   "cell_type": "code",
   "execution_count": 1,
   "metadata": {},
   "outputs": [],
   "source": [
    "import sys\n",
    "sys.path.append('../')\n",
    "\n",
    "import photonqat as pq\n",
    "import numpy as np\n",
    "import matplotlib.pyplot as plt"
   ]
  },
  {
   "cell_type": "markdown",
   "metadata": {},
   "source": [
    "## Photonqat"
   ]
  },
  {
   "cell_type": "code",
   "execution_count": 3,
   "metadata": {},
   "outputs": [
    {
     "data": {
      "image/png": "[encoded data removed]",
      "text/plain": [
       "<Figure size 432x288 with 1 Axes>"
      ]
     },
     "metadata": {
      "needs_background": "light"
     },
     "output_type": "display_data"
    },
    {
     "name": "stdout",
     "output_type": "stream",
     "text": [
      "measured x = -2.5459686475360788\n",
      "measured p = 5.750171757302678\n",
      "mu = [1.7985349  1.25655425]\n"
     ]
    }
   ],
   "source": [
    "G = pq.Gaussian_trans(3)\n",
    "\n",
    "G.Displace(0, 1 + 0.5j) # state to teleport\n",
    "G.Psqueeze(1, 2)\n",
    "G.Xsqueeze(2, 2)\n",
    "G.BS(1, 2, np.pi/4) # 50:50 beam splitter\n",
    "G.BS(0, 1, np.pi/4) # 50:50 beam splitter\n",
    "x0 = G.MeasureX(0)\n",
    "p1 = G.MeasureP(1)\n",
    "G.Xgate(2, x0 * np.sqrt(2))\n",
    "G.Zgate(2, p1 * np.sqrt(2))\n",
    "\n",
    "G.plotGaussianWigner(2) # plot\n",
    "print('measured x =', x0)\n",
    "print('measured p =', p1)\n",
    "print('mu =', G.mean(2)) # mu of qumode 0"
   ]
  },
  {
   "cell_type": "markdown",
   "metadata": {},
   "source": [
    "## Strawberry fields"
   ]
  },
  {
   "cell_type": "code",
   "execution_count": 8,
   "metadata": {},
   "outputs": [
    {
     "name": "stdout",
     "output_type": "stream",
     "text": [
      "measured x = 0.23091559987889632\n",
      "measured p = 5.468767616719379\n",
      "mu = [0.96990117+0.62111946j]\n"
     ]
    },
    {
     "data": {
      "text/plain": [
       "<matplotlib.contour.QuadContourSet at 0x11ef94390>"
      ]
     },
     "execution_count": 8,
     "metadata": {},
     "output_type": "execute_result"
    },
    {
     "data": {
      "image/png": "[encoded data removed]",
      "text/plain": [
       "<Figure size 432x288 with 1 Axes>"
      ]
     },
     "metadata": {
      "needs_background": "light"
     },
     "output_type": "display_data"
    }
   ],
   "source": [
    "import strawberryfields as sf\n",
    "from strawberryfields.ops import *\n",
    "from strawberryfields.utils import scale\n",
    "from numpy import pi, sqrt\n",
    "\n",
    "# initialize engine and program objects\n",
    "eng = sf.Engine(backend=\"gaussian\")\n",
    "teleportation = sf.Program(3)\n",
    "\n",
    "with teleportation.context as q:\n",
    "    psi, alice, bob = q[0], q[1], q[2]\n",
    "\n",
    "    # state to be teleported:\n",
    "    Coherent(1+0.5j) | psi\n",
    "\n",
    "    # 50-50 beamsplitter\n",
    "    BS = BSgate(pi/4, 0)\n",
    "\n",
    "    # maximally entangled states\n",
    "    Squeezed(-2) | alice\n",
    "    Squeezed(2) | bob\n",
    "    BS | (alice, bob)\n",
    "\n",
    "    # Alice performs the joint measurement\n",
    "    # in the maximally entangled basis\n",
    "    BS | (psi, alice)\n",
    "    MeasureX | psi\n",
    "    MeasureP | alice\n",
    "\n",
    "    # Bob conditionally displaces his mode\n",
    "    # based on Alice's measurement result\n",
    "    Xgate(scale(psi, sqrt(2))) | bob\n",
    "    Zgate(scale(alice, sqrt(2))) | bob\n",
    "    # end circuit\n",
    "\n",
    "results = eng.run(teleportation)\n",
    "print('measured x =', q[0].val)\n",
    "print('measured p =', q[1].val)\n",
    "print('mu =', results.state.displacement([2]))\n",
    "\n",
    "x = np.arange(-5, 5, 0.1)\n",
    "p = np.arange(-5, 5, 0.1)\n",
    "W = results.state.wigner(2, x, p)\n",
    "X, P = np.meshgrid(x, p)\n",
    "plt.contourf(X, P, W)"
   ]
  },
  {
   "cell_type": "code",
   "execution_count": null,
   "metadata": {},
   "outputs": [],
   "source": []
  }
 ],
 "metadata": {
  "kernelspec": {
   "display_name": "Python 3",
   "language": "python",
   "name": "python3"
  },
  "language_info": {
   "codemirror_mode": {
    "name": "ipython",
    "version": 3
   },
   "file_extension": ".py",
   "mimetype": "text/x-python",
   "name": "python",
   "nbconvert_exporter": "python",
   "pygments_lexer": "ipython3",
   "version": "3.6.5"
  }
 },
 "nbformat": 4,
 "nbformat_minor": 2
}
