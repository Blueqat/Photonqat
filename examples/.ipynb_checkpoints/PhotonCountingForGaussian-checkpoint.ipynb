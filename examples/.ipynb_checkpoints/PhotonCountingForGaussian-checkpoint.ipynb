{
 "cells": [
  {
   "cell_type": "code",
   "execution_count": 19,
   "metadata": {},
   "outputs": [
    {
     "data": {
      "text/plain": [
       "<module 'photonqat' from '../photonqat/__init__.py'>"
      ]
     },
     "execution_count": 19,
     "metadata": {},
     "output_type": "execute_result"
    }
   ],
   "source": [
    "import sys\n",
    "sys.path.append('../')\n",
    "\n",
    "import photonqat as pq\n",
    "from photonqat.ordering import *\n",
    "\n",
    "import importlib\n",
    "importlib.reload(pq)"
   ]
  },
  {
   "cell_type": "code",
   "execution_count": 20,
   "metadata": {},
   "outputs": [],
   "source": [
    "import numpy as np\n",
    "import strawberryfields as sf\n",
    "from strawberryfields.ops import *\n",
    "import matplotlib.pyplot as plt\n",
    "import hafnian as hf\n",
    "from scipy import special"
   ]
  },
  {
   "cell_type": "markdown",
   "metadata": {},
   "source": [
    "## Photonqat\n",
    "\n",
    "基本的なゲート動作と測定を一通り行っています。"
   ]
  },
  {
   "cell_type": "code",
   "execution_count": 32,
   "metadata": {},
   "outputs": [
    {
     "data": {
      "image/png": "[encoded data removed]",
      "text/plain": [
       "<Figure size 432x288 with 1 Axes>"
      ]
     },
     "metadata": {
      "needs_background": "light"
     },
     "output_type": "display_data"
    },
    {
     "name": "stdout",
     "output_type": "stream",
     "text": [
      "mu0 = [0.5202601 0.5202601]\n",
      "cov = [[ 1.19054892 -0.9067151 ]\n",
      " [-0.9067151   1.19054892]]\n",
      "Probability of photon [1 0] :  0.008762673727190256\n"
     ]
    }
   ],
   "source": [
    "G = pq.Gaussian_trans(2) # two qumode [0, 1]\n",
    "G.Displace(0, 2) # Displacement gate, x to x+2\n",
    "G.Xsqueeze(0, 1) # X squeeIng gate, r=1\n",
    "G.rotation(0, np.pi/4) # pi/4 rotation gate\n",
    "G.BS(0, 1, np.pi/4) # 50:50 beam splitter\n",
    "G.plotGaussianWigner(0) # plot\n",
    "print('mu0 =', G.mean(0)) # mu of qumode 0\n",
    "print('cov =', G.cov(0)) # covarince of qumode 1\n",
    "m = np.array([1, 0])\n",
    "prob = G.PhotonDetectionProb(m, m)\n",
    "print(\"Probability of photon\", m, \": \", prob)"
   ]
  },
  {
   "cell_type": "markdown",
   "metadata": {},
   "source": [
    "## Strawberry Fields\n",
    "\n",
    "上のコードと同様の操作をしています。  "
   ]
  },
  {
   "cell_type": "code",
   "execution_count": 33,
   "metadata": {},
   "outputs": [
    {
     "name": "stdout",
     "output_type": "stream",
     "text": [
      "mu0 = [0.5202601 0.5202601]\n",
      "cov = [[ 1.19054892 -0.9067151 ]\n",
      " [-0.9067151   1.19054892]]\n",
      "Probability of photon [1 0] :  0.008762673727190232\n"
     ]
    },
    {
     "data": {
      "image/png": "[encoded data removed]",
      "text/plain": [
       "<Figure size 432x288 with 1 Axes>"
      ]
     },
     "metadata": {
      "needs_background": "light"
     },
     "output_type": "display_data"
    }
   ],
   "source": [
    "eng = sf.Engine(backend=\"gaussian\")\n",
    "gaussian = sf.Program(2)\n",
    "\n",
    "with gaussian.context as q:\n",
    "        sf.hbar = 1 # for comparison to photonqat (hbar = 1)\n",
    "        # prepare the initial states\n",
    "        Dgate(2) | q[0] # displacement gate\n",
    "        Sgate(1) | q[0] # position squeezed\n",
    "        Rgate(np.pi/4) | q[0] # rotation gate\n",
    "        BSgate(np.pi/4, 0) | (q[0], q[1])  # 50-50 beamsplitter\n",
    "\n",
    "results = eng.run(gaussian)\n",
    "mu0, cov0 = results.state.reduced_gaussian([0])\n",
    "mu1, cov1 = results.state.reduced_gaussian([1])\n",
    "print('mu0 =', mu0)\n",
    "print('cov =', cov0)\n",
    "\n",
    "x = np.arange(-5, 5, 0.1)\n",
    "p = np.arange(-5, 5, 0.1)\n",
    "W = results.state.wigner(0, x, p)\n",
    "X, P = np.meshgrid(x, p)\n",
    "plt.contourf(X, P, W)\n",
    "\n",
    "m = np.array([1, 0])\n",
    "prob = results.state.fock_prob(m)\n",
    "print(\"Probability of photon\", m, \": \", prob)"
   ]
  },
  {
   "cell_type": "markdown",
   "metadata": {},
   "source": [
    "## 以下、メモ"
   ]
  },
  {
   "cell_type": "code",
   "execution_count": 5,
   "metadata": {},
   "outputs": [],
   "source": [
    "import hafnian as hf"
   ]
  },
  {
   "cell_type": "markdown",
   "metadata": {},
   "source": [
    "## 結果比較用"
   ]
  },
  {
   "cell_type": "code",
   "execution_count": 6,
   "metadata": {},
   "outputs": [
    {
     "name": "stdout",
     "output_type": "stream",
     "text": [
      "[[ 1.1905 -0.9067  0.6905 -0.9067]\n",
      " [-0.9067  1.1905 -0.9067  0.6905]\n",
      " [ 0.6905 -0.9067  1.1905 -0.9067]\n",
      " [-0.9067  0.6905 -0.9067  1.1905]]\n",
      "0.6274786999142904\n",
      "0.09283568403265495\n"
     ]
    },
    {
     "data": {
      "text/plain": [
       "0.7203143839469454"
      ]
     },
     "execution_count": 6,
     "metadata": {},
     "output_type": "execute_result"
    }
   ],
   "source": [
    "G = pq.Gaussian_trans(2) # two qumode [0, 1]\n",
    "G.Displace(0, 1) # Displacement gate, x to x+2\n",
    "G.Xsqueeze(0, 1)\n",
    "G.rotation(0, np.pi/4) # pi/4 rotation gate\n",
    "G.BS(0, 1, np.pi/4) # 50:50 beam splitter\n",
    "print(np.round(G.V, decimals=4))\n",
    "prob_list = []\n",
    "for i in range(2):\n",
    "    m = np.array([i, i])\n",
    "    prob = G.PhotonDetectionProb(m, m)\n",
    "    prob_list.append(prob)\n",
    "    print(prob)\n",
    "np.sum(prob_list)"
   ]
  },
  {
   "cell_type": "code",
   "execution_count": 7,
   "metadata": {},
   "outputs": [
    {
     "name": "stdout",
     "output_type": "stream",
     "text": [
      "[[ 1.1905  0.6905 -0.9067 -0.9067]\n",
      " [ 0.6905  1.1905 -0.9067 -0.9067]\n",
      " [-0.9067 -0.9067  1.1905  0.6905]\n",
      " [-0.9067 -0.9067  0.6905  1.1905]]\n",
      "0.6274786999142906\n",
      "0.09283568403265503\n"
     ]
    },
    {
     "data": {
      "text/plain": [
       "0.7203143839469457"
      ]
     },
     "execution_count": 7,
     "metadata": {},
     "output_type": "execute_result"
    }
   ],
   "source": [
    "eng = sf.Engine(backend=\"gaussian\")\n",
    "gaussian = sf.Program(2)\n",
    "\n",
    "with gaussian.context as q:\n",
    "        sf.hbar = 1\n",
    "        # prepare the initial states\n",
    "        Dgate(1) | q[0] # displacement gate\n",
    "        Sgate(1) | q[0]\n",
    "        Rgate(np.pi/4) | q[0] # rotation gate\n",
    "        BSgate(np.pi/4, 0) | (q[0], q[1])  # 50-50 beamsplitter\n",
    "\n",
    "results = eng.run(gaussian)\n",
    "print(np.round(results.state.cov(), decimals=4))\n",
    "prob_list = []\n",
    "for i in range(2):\n",
    "    m = np.array([i, i])\n",
    "    prob = results.state.fock_prob(m)\n",
    "    prob_list.append(prob)\n",
    "    print(prob)\n",
    "np.sum(prob_list)"
   ]
  },
  {
   "cell_type": "code",
   "execution_count": 15,
   "metadata": {},
   "outputs": [
    {
     "name": "stderr",
     "output_type": "stream",
     "text": [
      "/Users/ryunagai/.pyenv/versions/3.6.5/envs/StrawberyFields_0.11.1/lib/python3.6/site-packages/ipykernel_launcher.py:17: ComplexWarning: Casting complex values to real discards the imaginary part\n"
     ]
    },
    {
     "name": "stdout",
     "output_type": "stream",
     "text": [
      "4.0791275215100876e+223\n",
      "[[-1.03724980e-002  1.67203219e-002  1.44314807e-016  4.71224549e-003\n",
      "   7.64438467e-003  4.94065646e-324  9.88131292e-324  0.00000000e+000\n",
      "   0.00000000e+000  0.00000000e+000  0.00000000e+000  0.00000000e+000\n",
      "   0.00000000e+000  0.00000000e+000  0.00000000e+000  0.00000000e+000\n",
      "   0.00000000e+000  0.00000000e+000  0.00000000e+000  0.00000000e+000\n",
      "   0.00000000e+000  0.00000000e+000  0.00000000e+000  0.00000000e+000\n",
      "   0.00000000e+000]\n",
      " [ 1.67203219e-002 -1.75757763e-002 -1.27126345e-002  1.56750556e-018\n",
      "  -3.52656192e-003  0.00000000e+000  0.00000000e+000  0.00000000e+000\n",
      "   0.00000000e+000  0.00000000e+000  0.00000000e+000  0.00000000e+000\n",
      "   0.00000000e+000  6.95171545e-310  0.00000000e+000  0.00000000e+000\n",
      "   0.00000000e+000  0.00000000e+000  0.00000000e+000  0.00000000e+000\n",
      "   0.00000000e+000  0.00000000e+000  0.00000000e+000  0.00000000e+000\n",
      "   0.00000000e+000]\n",
      " [ 2.00633905e-016 -1.27126345e-002 -2.33751116e-002  7.59197716e-003\n",
      "   1.51466954e-017  0.00000000e+000  0.00000000e+000  0.00000000e+000\n",
      "   0.00000000e+000  0.00000000e+000  0.00000000e+000  0.00000000e+000\n",
      "   0.00000000e+000  0.00000000e+000  0.00000000e+000  0.00000000e+000\n",
      "   0.00000000e+000  0.00000000e+000  0.00000000e+000  2.40966241e-314\n",
      "   0.00000000e+000  0.00000000e+000  2.12199579e-314  0.00000000e+000\n",
      "   0.00000000e+000]\n",
      " [ 4.71224549e-003  2.99924881e-017  7.59197716e-003  2.28841139e-002\n",
      "  -3.36227128e-003  0.00000000e+000  0.00000000e+000  0.00000000e+000\n",
      "   0.00000000e+000  0.00000000e+000  0.00000000e+000  0.00000000e+000\n",
      "   0.00000000e+000  9.88131292e-322  3.95252517e-323  0.00000000e+000\n",
      "   0.00000000e+000  0.00000000e+000  0.00000000e+000  0.00000000e+000\n",
      "   0.00000000e+000  0.00000000e+000  0.00000000e+000  0.00000000e+000\n",
      "   0.00000000e+000]\n",
      " [ 7.64438467e-003 -3.52656192e-003 -8.99629264e-017 -3.36227128e-003\n",
      "  -1.75757763e-002  0.00000000e+000  0.00000000e+000  0.00000000e+000\n",
      "   0.00000000e+000  0.00000000e+000  0.00000000e+000  0.00000000e+000\n",
      "   0.00000000e+000  0.00000000e+000  0.00000000e+000  0.00000000e+000\n",
      "   0.00000000e+000  0.00000000e+000  0.00000000e+000  0.00000000e+000\n",
      "   6.95171443e-310  0.00000000e+000  0.00000000e+000  4.94065646e-324\n",
      "   1.23516411e-322]\n",
      " [ 1.23516411e-322  0.00000000e+000  0.00000000e+000  0.00000000e+000\n",
      "   0.00000000e+000  0.00000000e+000  0.00000000e+000  0.00000000e+000\n",
      "   0.00000000e+000  0.00000000e+000  0.00000000e+000  0.00000000e+000\n",
      "   0.00000000e+000  0.00000000e+000  0.00000000e+000  0.00000000e+000\n",
      "   0.00000000e+000  0.00000000e+000  0.00000000e+000  0.00000000e+000\n",
      "   0.00000000e+000  0.00000000e+000  0.00000000e+000  0.00000000e+000\n",
      "   0.00000000e+000]\n",
      " [ 0.00000000e+000  0.00000000e+000  0.00000000e+000  0.00000000e+000\n",
      "   0.00000000e+000  0.00000000e+000  0.00000000e+000  2.40966268e-314\n",
      "   0.00000000e+000  0.00000000e+000  0.00000000e+000  0.00000000e+000\n",
      "   0.00000000e+000  2.24846386e-314  6.95171545e-310  6.95171545e-310\n",
      "   0.00000000e+000  0.00000000e+000  0.00000000e+000  0.00000000e+000\n",
      "   0.00000000e+000  1.48219694e-323 -2.41484176e-001  6.24775729e-033\n",
      "  -2.41484176e-001]\n",
      " [ 6.24775729e-033 -8.86017301e-017 -3.61803552e-001  2.43643281e-001\n",
      "   2.43643281e-001  9.18491569e-002  4.06104224e-032  9.18491569e-002\n",
      "   4.06104224e-032  9.18491569e-002  4.06104224e-032  9.18491569e-002\n",
      "   4.06104224e-032 -2.41484176e-001  6.24775729e-033 -2.41484176e-001\n",
      "   6.24775729e-033  0.00000000e+000  2.24927318e-314  4.94065646e-324\n",
      "   0.00000000e+000  1.97626258e-323  0.00000000e+000  0.00000000e+000\n",
      "   3.61803552e-001]\n",
      " [-8.86017301e-017  3.61803552e-001 -8.86017301e-017  3.61803552e-001\n",
      "  -8.86017301e-017  3.61803552e-001 -8.86017301e-017  3.61803552e-001\n",
      "  -2.41484176e-001 -1.68961681e-048  0.00000000e+000  0.00000000e+000\n",
      "  -8.86017301e-017  3.61803552e-001  2.43643281e-001 -2.43643281e-001\n",
      "  -8.86017301e-017  3.61803552e-001 -8.86017301e-017  3.61803552e-001\n",
      "  -8.86017301e-017  3.61803552e-001 -8.86017301e-017  3.61803552e-001\n",
      "  -8.86017301e-017]\n",
      " [ 3.61803552e-001 -8.86017301e-017  3.61803552e-001 -2.41484176e-001\n",
      "   4.94065646e-324  4.94065646e-324  0.00000000e+000 -8.86017301e-017\n",
      "   3.61803552e-001 -8.86017301e-017  3.61803552e-001  2.43643281e-001\n",
      "  -2.43643281e-001 -8.86017301e-017  3.61803552e-001 -8.86017301e-017\n",
      "   3.61803552e-001 -8.86017301e-017  3.61803552e-001 -8.86017301e-017\n",
      "   3.61803552e-001 -8.86017301e-017  3.61803552e-001 -2.41484176e-001\n",
      "  -1.68961681e-048]\n",
      " [ 0.00000000e+000  0.00000000e+000 -8.86017301e-017  3.61803552e-001\n",
      "  -8.86017301e-017  3.61803552e-001  0.00000000e+000  2.40975279e-314\n",
      "   0.00000000e+000  1.90979735e-313  0.00000000e+000  0.00000000e+000\n",
      "   4.24400436e-314  0.00000000e+000  6.42285340e-323  1.48539833e-313\n",
      "   0.00000000e+000  0.00000000e+000  3.16202013e-320  0.00000000e+000\n",
      "   0.00000000e+000  2.97079525e-313  0.00000000e+000  0.00000000e+000\n",
      "   4.24400436e-314]\n",
      " [ 0.00000000e+000  6.91691904e-323  1.90979749e-313  0.00000000e+000\n",
      "   0.00000000e+000  3.16202013e-320  0.00000000e+000  0.00000000e+000\n",
      "   3.18299482e-313  0.00000000e+000  0.00000000e+000  6.36600002e-314\n",
      "   0.00000000e+000  7.41098469e-323  8.48799581e-314  0.00000000e+000\n",
      "   0.00000000e+000  1.66954663e-319  0.00000000e+000  0.00000000e+000\n",
      "   1.27319875e-313  0.00000000e+000  0.00000000e+000  2.12200857e-314\n",
      "   0.00000000e+000]\n",
      " [ 0.00000000e+000  2.12201236e-314  0.00000000e+000  0.00000000e+000\n",
      "   8.60069476e-320  0.00000000e+000  0.00000000e+000  2.12201236e-314\n",
      "   0.00000000e+000  0.00000000e+000  3.39519440e-313  0.00000000e+000\n",
      "   0.00000000e+000  1.06099916e-313  0.00000000e+000  7.90505033e-323\n",
      "   8.48799581e-314  0.00000000e+000  0.00000000e+000  1.66954663e-319\n",
      "   0.00000000e+000  0.00000000e+000  1.27319875e-313  0.00000000e+000\n",
      "   0.00000000e+000]\n",
      " [ 2.12200857e-314  0.00000000e+000  0.00000000e+000  2.12201236e-314\n",
      "   0.00000000e+000  0.00000000e+000  8.60069476e-320  0.00000000e+000\n",
      "   0.00000000e+000  2.12201236e-314  0.00000000e+000  0.00000000e+000\n",
      "   3.60739398e-313  0.00000000e+000  0.00000000e+000  3.81959370e-313\n",
      "   0.00000000e+000  8.39911598e-323  4.03179334e-313  0.00000000e+000\n",
      "   0.00000000e+000  4.24399292e-313  0.00000000e+000  0.00000000e+000\n",
      "   4.45619244e-313]\n",
      " [ 0.00000000e+000  0.00000000e+000  4.66839208e-313  0.00000000e+000\n",
      "   0.00000000e+000  4.88059166e-313  0.00000000e+000  0.00000000e+000\n",
      "   1.65689855e-319  0.00000000e+000  0.00000000e+000  4.45619244e-313\n",
      "   0.00000000e+000  0.00000000e+000  4.66839208e-313  0.00000000e+000\n",
      "   0.00000000e+000  5.09279124e-313  0.00000000e+000  0.00000000e+000\n",
      "   1.65689855e-319  0.00000000e+000  0.00000000e+000  2.97079538e-313\n",
      "   0.00000000e+000]\n",
      " [ 0.00000000e+000  3.18299496e-313  0.00000000e+000  0.00000000e+000\n",
      "   8.48799973e-314  0.00000000e+000  0.00000000e+000  1.06099917e-313\n",
      "   0.00000000e+000  0.00000000e+000  3.39519454e-313  0.00000000e+000\n",
      "   0.00000000e+000  3.60739412e-313  0.00000000e+000  0.00000000e+000\n",
      "   4.24400448e-314  0.00000000e+000  0.00000000e+000  7.58884832e-320\n",
      "   0.00000000e+000  0.00000000e+000  3.31031358e-312  2.40975287e-314\n",
      "   0.00000000e+000]\n",
      " [ 0.00000000e+000  0.00000000e+000  0.00000000e+000  0.00000000e+000\n",
      "   0.00000000e+000  0.00000000e+000  0.00000000e+000  0.00000000e+000\n",
      "   0.00000000e+000  0.00000000e+000  0.00000000e+000  0.00000000e+000\n",
      "   0.00000000e+000  0.00000000e+000  0.00000000e+000  0.00000000e+000\n",
      "   0.00000000e+000  0.00000000e+000  0.00000000e+000  0.00000000e+000\n",
      "   0.00000000e+000  0.00000000e+000  0.00000000e+000  0.00000000e+000\n",
      "   0.00000000e+000]\n",
      " [ 0.00000000e+000  0.00000000e+000  0.00000000e+000  0.00000000e+000\n",
      "   0.00000000e+000  0.00000000e+000  0.00000000e+000  0.00000000e+000\n",
      "   0.00000000e+000  0.00000000e+000  0.00000000e+000  0.00000000e+000\n",
      "   0.00000000e+000  0.00000000e+000  0.00000000e+000  0.00000000e+000\n",
      "   0.00000000e+000  0.00000000e+000  0.00000000e+000  0.00000000e+000\n",
      "   0.00000000e+000  0.00000000e+000  0.00000000e+000  0.00000000e+000\n",
      "   6.24775729e-033]\n",
      " [ 0.00000000e+000  6.24775729e-033  2.43643281e-001  2.43643281e-001\n",
      "  -8.86017301e-017 -3.61803552e-001 -8.86017301e-017  3.61803552e-001\n",
      "  -2.41484176e-001 -1.68961681e-048 -2.41484176e-001 -1.68961681e-048\n",
      "  -2.41484176e-001 -1.68961681e-048 -8.86017301e-017  3.61803552e-001\n",
      "  -8.86017301e-017  3.61803552e-001 -8.86017301e-017  3.61803552e-001\n",
      "  -8.86017301e-017  3.61803552e-001  2.43643281e-001 -2.43643281e-001\n",
      "  -8.86017301e-017]\n",
      " [ 3.61803552e-001 -8.86017301e-017  3.61803552e-001  9.18491569e-002\n",
      "  -4.72344855e-032  9.18491569e-002 -4.72344855e-032  9.18491569e-002\n",
      "  -4.72344855e-032 -8.86017301e-017  3.61803552e-001 -8.86017301e-017\n",
      "   3.61803552e-001  9.88131292e-324  9.88131292e-324 -8.86017301e-017\n",
      "   3.61803552e-001 -8.86017301e-017  3.61803552e-001  2.43643281e-001\n",
      "  -2.43643281e-001 -8.86017301e-017  3.61803552e-001  9.18491569e-002\n",
      "  -4.72344855e-032]\n",
      " [ 9.18491569e-002 -4.72344855e-032  9.18491569e-002 -4.72344855e-032\n",
      "  -8.86017301e-017  3.61803552e-001 -8.86017301e-017  3.61803552e-001\n",
      "  -8.86017301e-017  3.61803552e-001 -8.86017301e-017  3.61803552e-001\n",
      "   6.95171443e-310  3.61803552e-001  6.95171443e-310  3.61803552e-001\n",
      "   2.43643281e-001 -2.43643281e-001  9.18491569e-002 -4.72344855e-032\n",
      "   2.24830251e-314 -4.72344855e-032  9.18491569e-002 -4.72344855e-032\n",
      "  -2.41484176e-001]\n",
      " [ 4.07859939e-033 -2.41484176e-001  4.07859939e-033 -2.41484176e-001\n",
      "   4.07859939e-033 -2.41484176e-001  4.07859939e-033  9.18491569e-002\n",
      "  -3.01039340e-032  9.18491569e-002 -3.01039340e-032  9.18491569e-002\n",
      "  -3.01039340e-032  2.43643281e-001  2.43643281e-001 -8.86017301e-017\n",
      "  -3.61803552e-001 -8.86017301e-017 -3.61803552e-001 -2.41484176e-001\n",
      "   4.07859939e-033 -2.41484176e-001  4.07859939e-033 -2.41484176e-001\n",
      "   4.07859939e-033]\n",
      " [-2.41484176e-001  4.07859939e-033  9.18491569e-002 -3.01039340e-032\n",
      "   9.18491569e-002 -3.01039340e-032  9.18491569e-002 -3.01039340e-032\n",
      "  -8.86017301e-017 -3.61803552e-001  2.43643281e-001  2.43643281e-001\n",
      "  -8.86017301e-017 -3.61803552e-001 -2.41484176e-001  4.07859939e-033\n",
      "  -2.41484176e-001  4.07859939e-033 -2.41484176e-001  4.07859939e-033\n",
      "  -2.41484176e-001  4.07859939e-033  9.18491569e-002 -3.01039340e-032\n",
      "   9.18491569e-002]\n",
      " [-3.01039340e-032  0.00000000e+000 -3.01039340e-032  6.95171442e-310\n",
      "  -3.61803552e-001 -8.86017301e-017 -3.61803552e-001  2.43643281e-001\n",
      "   2.43643281e-001  2.24830251e-314  3.66962174e-062  3.60157140e+179\n",
      "   3.64460982e-086  8.61834973e-043  1.95999129e-062  6.52629400e-038\n",
      "   6.04565450e-154  4.90751796e-062  1.61471430e+136  1.72292064e-047\n",
      "   5.20076647e-090  3.66962174e-062  4.08404623e+179  4.44891569e-086\n",
      "   5.64436658e-062]\n",
      " [ 4.56343872e-072  7.12310785e-067  4.07912752e+223  1.17686653e-047\n",
      "   5.45165527e-067  1.17554052e-047  5.20941437e-090  5.59939840e-067\n",
      "   3.59841049e+179  3.44353335e-086  1.08779037e-071  1.81148931e-152\n",
      "   7.25906939e-043  3.11563951e-033  3.93798328e-062  1.26931239e-076\n",
      "   1.58607196e-047  1.21224160e-099  1.30421756e-076  3.76239802e+179\n",
      "   6.12743508e-154  5.93741678e-038  4.66439126e-062  4.24801999e-086\n",
      "   6.01616421e-067]]\n"
     ]
    }
   ],
   "source": [
    "cutoffDim = 5\n",
    "N = 2\n",
    "photonNumList = []\n",
    "rho = np.empty([cutoffDim ** N, cutoffDim ** N])\n",
    "for i in range(cutoffDim ** N):\n",
    "    photonNum = []\n",
    "    for j in range(N):\n",
    "        photonNum.insert(0, np.int(np.floor(i / (cutoffDim ** j))) % cutoffDim)\n",
    "    photonNumList.append(photonNum)\n",
    "    \n",
    "for i in range(cutoffDim ** N):\n",
    "    for j in range(cutoffDim ** N):\n",
    "        m = photonNumList[i]\n",
    "        n = photonNumList[j]\n",
    "        row = [m[i] ** (N - i - 1) for i in range(N)]\n",
    "        col = [n[i] ** (N - i - 1) for i in range(N)]\n",
    "        rho[row, col] = hf.quantum.density_matrix_element(results.state.means(), results.state.cov(), m, n)\n",
    "print(np.max(rho))\n",
    "print(rho)"
   ]
  },
  {
   "cell_type": "markdown",
   "metadata": {},
   "source": [
    "## Gaussian to Fock"
   ]
  },
  {
   "cell_type": "code",
   "execution_count": 58,
   "metadata": {},
   "outputs": [
    {
     "name": "stdout",
     "output_type": "stream",
     "text": [
      "[[ 1.1905 -0.9067  0.6905 -0.9067]\n",
      " [-0.9067  1.1905 -0.9067  0.6905]\n",
      " [ 0.6905 -0.9067  1.1905 -0.9067]\n",
      " [-0.9067  0.6905 -0.9067  1.1905]]\n",
      "(25, 25)\n"
     ]
    },
    {
     "data": {
      "text/plain": [
       "array([[ 5.14996487e-003,  1.11425420e-003,  1.00572457e-016,\n",
       "        -1.21662313e-003, -5.44176423e-003,  0.00000000e+000,\n",
       "         0.00000000e+000, -3.80797078e-001, -5.38408316e-017,\n",
       "        -3.80797078e-001, -5.38408316e-017, -3.80797078e-001,\n",
       "         0.00000000e+000,  4.11688504e-033,  0.00000000e+000,\n",
       "         4.11688504e-033,  0.00000000e+000,  4.11688504e-033,\n",
       "         0.00000000e+000,  4.11688504e-033, -1.48213349e-016,\n",
       "         3.07221577e-032, -1.48213349e-016,  3.07221577e-032,\n",
       "         4.38523043e-002],\n",
       "       [ 1.11425420e-003,  5.75009708e-003,  1.51509486e-003,\n",
       "         2.18042009e-015, -1.17738835e-003, -5.38408316e-017,\n",
       "        -3.80797078e-001, -5.38408316e-017, -3.80797078e-001,\n",
       "        -5.38408316e-017, -3.80797078e-001,  0.00000000e+000,\n",
       "         1.48219694e-323,  1.48219694e-323,  4.11688504e-033,\n",
       "         0.00000000e+000,  4.11688504e-033,  0.00000000e+000,\n",
       "         4.11688504e-033, -1.48213349e-016,  3.07221577e-032,\n",
       "        -1.48213349e-016,  3.07221577e-032, -5.38408316e-017,\n",
       "        -3.80797078e-001],\n",
       "       [-2.87349876e-017,  1.51509486e-003,  9.52171889e-003,\n",
       "         1.65428987e-003, -6.56936536e-016, -4.38523043e-002,\n",
       "        -1.09351983e-016, -3.80797078e-001, -1.09351983e-016,\n",
       "        -3.80797078e-001, -1.54019660e-016, -1.28545794e-032,\n",
       "        -1.54019660e-016, -1.28545794e-032, -1.54019660e-016,\n",
       "        -1.28545794e-032, -1.54019660e-016, -1.28545794e-032,\n",
       "         5.55111512e-017,  1.58101007e-322,  3.95252517e-323,\n",
       "         1.67015854e-032, -5.38408316e-017, -3.80797078e-001,\n",
       "        -5.38408316e-017],\n",
       "       [-1.21662313e-003,  1.09969013e-015,  1.65428987e-003,\n",
       "         5.74827932e-004,  1.28555755e-003, -1.09351983e-016,\n",
       "        -3.80797078e-001, -1.09351983e-016, -3.80797078e-001,\n",
       "        -1.54019660e-016, -1.28545794e-032, -1.54019660e-016,\n",
       "        -1.28545794e-032, -1.54019660e-016, -1.28545794e-032,\n",
       "        -1.54019660e-016, -1.28545794e-032,  5.55111512e-017,\n",
       "         1.67015854e-032,  5.55111512e-017,  1.67015854e-032,\n",
       "        -5.38408316e-017, -3.80797078e-001, -5.38408316e-017,\n",
       "        -3.80797078e-001],\n",
       "       [-5.44176423e-003, -1.17738835e-003,  1.15299065e-015,\n",
       "         1.28555755e-003,  5.75009708e-003, -3.80797078e-001,\n",
       "         4.38523043e-002, -4.38523043e-002, -1.54019660e-016,\n",
       "        -1.28545794e-032, -1.54019660e-016, -1.28545794e-032,\n",
       "        -1.54019660e-016, -1.28545794e-032, -1.54019660e-016,\n",
       "        -1.28545794e-032,  5.55111512e-017,  1.67015854e-032,\n",
       "         5.55111512e-017,  1.67015854e-032, -5.38408316e-017,\n",
       "        -3.80797078e-001, -5.38408316e-017, -3.80797078e-001,\n",
       "        -1.09351983e-016],\n",
       "       [-3.80797078e-001, -1.09351983e-016, -3.80797078e-001,\n",
       "         4.38523043e-002, -4.38523043e-002, -1.09351983e-016,\n",
       "        -3.80797078e-001, -1.54019660e-016,  1.97626258e-323,\n",
       "         4.94065646e-324, -1.28545794e-032, -1.54019660e-016,\n",
       "        -1.28545794e-032, -1.54019660e-016, -1.28545794e-032,\n",
       "         5.55111512e-017,  1.67015854e-032,  5.55111512e-017,\n",
       "         1.67015854e-032,  0.00000000e+000,  4.11688504e-033,\n",
       "         0.00000000e+000,  4.11688504e-033, -1.54019660e-016,\n",
       "        -1.28545794e-032],\n",
       "       [-1.54019660e-016, -1.28545794e-032, -1.54019660e-016,\n",
       "        -1.28545794e-032, -1.54019660e-016, -1.28545794e-032,\n",
       "        -1.09351983e-016,  3.80797078e-001,  4.38523043e-002,\n",
       "         4.38523043e-002, -1.09351983e-016,  3.80797078e-001,\n",
       "        -1.09351983e-016,  3.80797078e-001, -5.38408316e-017,\n",
       "         2.38233473e-314,  6.94714332e-310,  3.80797078e-001,\n",
       "         0.00000000e+000,  1.48219694e-323,  0.00000000e+000,\n",
       "         1.48219694e-323, -1.54019660e-016, -1.28545794e-032,\n",
       "        -1.54019660e-016],\n",
       "       [-1.28545794e-032, -1.54019660e-016, -1.28545794e-032,\n",
       "        -1.54019660e-016, -1.28545794e-032,  4.38523043e-002,\n",
       "         4.38523043e-002, -1.09351983e-016,  3.80797078e-001,\n",
       "        -1.09351983e-016,  3.80797078e-001, -1.09351983e-016,\n",
       "         3.80797078e-001, -5.38408316e-017,  3.80797078e-001,\n",
       "        -5.38408316e-017,  3.80797078e-001,  0.00000000e+000,\n",
       "         4.11688504e-033,  0.00000000e+000,  4.11688504e-033,\n",
       "        -1.54019660e-016, -1.28545794e-032, -1.54019660e-016,\n",
       "        -1.28545794e-032],\n",
       "       [-1.54019660e-016, -1.28545794e-032, -1.54019660e-016,\n",
       "        -1.28545794e-032, -1.09351983e-016,  3.80797078e-001,\n",
       "        -1.09351983e-016,  3.80797078e-001, -1.09351983e-016,\n",
       "         3.80797078e-001,  4.38523043e-002,  4.38523043e-002,\n",
       "        -5.38408316e-017,  3.80797078e-001, -5.38408316e-017,\n",
       "         3.80797078e-001,  0.00000000e+000,  4.11688504e-033,\n",
       "         0.00000000e+000,  4.11688504e-033, -1.54019660e-016,\n",
       "        -1.28545794e-032, -1.54019660e-016, -1.28545794e-032,\n",
       "        -1.54019660e-016],\n",
       "       [-1.28545794e-032, -1.54019660e-016, -1.28545794e-032,\n",
       "        -1.09351983e-016,  3.80797078e-001, -1.09351983e-016,\n",
       "         3.80797078e-001,  0.00000000e+000,  1.48219694e-323,\n",
       "         0.00000000e+000,  1.48219694e-323, -5.38408316e-017,\n",
       "         3.80797078e-001, -5.38408316e-017,  3.80797078e-001,\n",
       "        -1.48213349e-016,  3.07221577e-032, -1.48213349e-016,\n",
       "         3.07221577e-032,  5.55111512e-017,  1.67015854e-032,\n",
       "         5.55111512e-017,  1.67015854e-032,  5.55111512e-017,\n",
       "         1.67015854e-032],\n",
       "       [ 5.55111512e-017,  1.67015854e-032, -5.38408316e-017,\n",
       "         3.80797078e-001, -5.38408316e-017,  3.80797078e-001,\n",
       "         0.00000000e+000,  3.80797078e-001,  0.00000000e+000,\n",
       "         3.80797078e-001, -1.09351983e-016,  3.80797078e-001,\n",
       "         4.38523043e-002,  4.38523043e-002, -1.48213349e-016,\n",
       "         3.07221577e-032, -1.48213349e-016,  3.07221577e-032,\n",
       "         5.55111512e-017,  1.67015854e-032,  5.55111512e-017,\n",
       "         1.67015854e-032,  5.55111512e-017,  1.67015854e-032,\n",
       "         5.55111512e-017],\n",
       "       [ 1.67015854e-032, -5.38408316e-017,  3.80797078e-001,\n",
       "        -5.38408316e-017,  3.80797078e-001, -5.38408316e-017,\n",
       "         3.80797078e-001, -5.38408316e-017,  3.80797078e-001,\n",
       "         4.38523043e-002,  4.38523043e-002, -1.09351983e-016,\n",
       "         3.80797078e-001,  0.00000000e+000,  4.11688504e-033,\n",
       "         0.00000000e+000,  4.11688504e-033, -1.48213349e-016,\n",
       "         3.07221577e-032, -1.48213349e-016,  3.07221577e-032,\n",
       "         1.97626258e-323,  1.97626258e-323, -5.38408316e-017,\n",
       "        -3.80797078e-001],\n",
       "       [-1.09351983e-016, -3.80797078e-001,  4.38523043e-002,\n",
       "        -4.38523043e-002, -1.09351983e-016, -3.80797078e-001,\n",
       "        -1.09351983e-016, -3.80797078e-001, -1.54019660e-016,\n",
       "        -1.28545794e-032, -1.54019660e-016, -1.28545794e-032,\n",
       "         5.55111512e-017,  1.67015854e-032,  5.55111512e-017,\n",
       "         1.67015854e-032, -5.38408316e-017, -3.80797078e-001,\n",
       "        -5.38408316e-017, -3.80797078e-001, -1.09351983e-016,\n",
       "        -3.80797078e-001,  4.38523043e-002, -4.38523043e-002,\n",
       "        -5.38408316e-017],\n",
       "       [-3.80797078e-001, -5.38408316e-017, -3.80797078e-001,\n",
       "         2.21304573e-314, -3.80797078e-001, -5.38408316e-017,\n",
       "        -3.80797078e-001,  0.00000000e+000,  4.11688504e-033,\n",
       "         0.00000000e+000,  4.11688504e-033,  0.00000000e+000,\n",
       "         4.11688504e-033,  0.00000000e+000,  4.11688504e-033,\n",
       "        -1.48213349e-016,  3.07221577e-032, -1.48213349e-016,\n",
       "         3.07221577e-032, -1.48213349e-016,  3.07221577e-032,\n",
       "        -1.48213349e-016,  3.07221577e-032,  4.38523043e-002,\n",
       "        -4.38523043e-002],\n",
       "       [-1.09351983e-016, -3.80797078e-001, -5.38408316e-017,\n",
       "        -3.80797078e-001, -5.38408316e-017, -3.80797078e-001,\n",
       "        -5.38408316e-017, -3.80797078e-001, -5.38408316e-017,\n",
       "        -3.80797078e-001,  0.00000000e+000,  4.11688504e-033,\n",
       "         0.00000000e+000,  4.11688504e-033,  0.00000000e+000,\n",
       "         4.11688504e-033,  0.00000000e+000,  4.11688504e-033,\n",
       "        -1.48213349e-016,  3.07221577e-032, -1.48213349e-016,\n",
       "         3.07221577e-032, -1.48213349e-016,  3.07221577e-032,\n",
       "        -1.48213349e-016],\n",
       "       [ 3.07221577e-032, -5.38408316e-017, -3.80797078e-001,\n",
       "        -5.38408316e-017, -3.80797078e-001, -1.09351983e-016,\n",
       "        -3.80797078e-001,  4.38523043e-002, -4.38523043e-002,\n",
       "         0.00000000e+000,  2.21401640e-314,  0.00000000e+000,\n",
       "         8.39911598e-323,  4.94065646e-324, -1.28545794e-032,\n",
       "        -1.54019660e-016, -1.28545794e-032, -1.54019660e-016,\n",
       "        -1.28545794e-032, -1.54019660e-016, -1.28545794e-032,\n",
       "         5.55111512e-017,  1.67015854e-032,  5.55111512e-017,\n",
       "         1.67015854e-032],\n",
       "       [ 5.55111512e-017,  1.67015854e-032,  5.55111512e-017,\n",
       "         1.67015854e-032, -5.38408316e-017, -3.80797078e-001,\n",
       "        -5.38408316e-017, -3.80797078e-001,  4.38523043e-002,\n",
       "        -4.38523043e-002, -1.09351983e-016, -3.80797078e-001,\n",
       "        -1.09351983e-016, -3.80797078e-001, -1.09351983e-016,\n",
       "        -3.80797078e-001, -1.54019660e-016, -1.28545794e-032,\n",
       "        -1.54019660e-016, -1.28545794e-032, -1.54019660e-016,\n",
       "        -1.28545794e-032, -1.54019660e-016, -1.28545794e-032,\n",
       "         5.55111512e-017],\n",
       "       [ 1.67015854e-032,  5.55111512e-017,  1.67015854e-032,\n",
       "         5.55111512e-017,  1.67015854e-032,  5.55111512e-017,\n",
       "         1.67015854e-032, -5.38408316e-017, -3.80797078e-001,\n",
       "        -5.38408316e-017, -3.80797078e-001, -1.09351983e-016,\n",
       "        -3.80797078e-001, -1.09351983e-016, -3.80797078e-001,\n",
       "        -1.09351983e-016, -3.80797078e-001,  4.38523043e-002,\n",
       "        -4.38523043e-002, -1.54019660e-016, -1.28545794e-032,\n",
       "        -1.54019660e-016, -1.28545794e-032, -1.54019660e-016,\n",
       "        -1.28545794e-032],\n",
       "       [-1.54019660e-016, -1.28545794e-032,  5.55111512e-017,\n",
       "         1.67015854e-032,  5.55111512e-017,  1.67015854e-032,\n",
       "         5.55111512e-017,  1.67015854e-032,  5.55111512e-017,\n",
       "         1.67015854e-032, -5.38408316e-017, -3.80797078e-001,\n",
       "        -5.38408316e-017, -3.80797078e-001, -1.09351983e-016,\n",
       "        -3.80797078e-001, -1.09351983e-016, -3.80797078e-001,\n",
       "         4.38523043e-002, -4.38523043e-002, -1.09351983e-016,\n",
       "        -3.80797078e-001, -1.54019660e-016, -1.28545794e-032,\n",
       "        -1.54019660e-016],\n",
       "       [-1.28545794e-032, -1.54019660e-016, -1.28545794e-032,\n",
       "        -1.54019660e-016, -1.28545794e-032,  5.55111512e-017,\n",
       "         1.67015854e-032,  5.55111512e-017,  1.67015854e-032,\n",
       "         5.55111512e-017,  1.67015854e-032,  5.55111512e-017,\n",
       "         1.67015854e-032,  0.00000000e+000,  4.11688504e-033,\n",
       "         0.00000000e+000,  4.11688504e-033, -1.54019660e-016,\n",
       "        -1.28545794e-032, -1.54019660e-016, -1.28545794e-032,\n",
       "        -1.54019660e-016, -1.28545794e-032, -1.54019660e-016,\n",
       "        -1.28545794e-032],\n",
       "       [-1.09351983e-016,  3.80797078e-001,  4.38523043e-002,\n",
       "         4.38523043e-002, -1.09351983e-016,  3.80797078e-001,\n",
       "        -1.09351983e-016,  3.80797078e-001, -5.38408316e-017,\n",
       "         3.80797078e-001, -5.38408316e-017,  3.80797078e-001,\n",
       "        -5.38408316e-017,  3.80797078e-001, -5.38408316e-017,\n",
       "         3.80797078e-001,  0.00000000e+000,  4.11688504e-033,\n",
       "         0.00000000e+000,  4.11688504e-033, -1.54019660e-016,\n",
       "        -1.28545794e-032, -1.54019660e-016, -1.28545794e-032,\n",
       "        -1.54019660e-016],\n",
       "       [-1.28545794e-032, -1.54019660e-016, -1.28545794e-032,\n",
       "         4.38523043e-002,  4.38523043e-002, -1.09351983e-016,\n",
       "         3.80797078e-001, -1.09351983e-016,  3.80797078e-001,\n",
       "        -1.09351983e-016,  3.80797078e-001, -5.38408316e-017,\n",
       "         3.80797078e-001, -5.38408316e-017,  3.80797078e-001,\n",
       "        -5.38408316e-017,  3.80797078e-001, -5.38408316e-017,\n",
       "         3.80797078e-001,  0.00000000e+000,  4.11688504e-033,\n",
       "         0.00000000e+000,  4.11688504e-033, -1.54019660e-016,\n",
       "         2.38233422e-314],\n",
       "       [ 6.94714352e-310, -1.28545794e-032, -1.54019660e-016,\n",
       "        -1.28545794e-032, -1.54019660e-016, -1.28545794e-032,\n",
       "        -1.09351983e-016,  3.80797078e-001, -1.09351983e-016,\n",
       "         3.80797078e-001, -1.09351983e-016,  3.80797078e-001,\n",
       "         4.38523043e-002,  4.38523043e-002, -5.38408316e-017,\n",
       "         3.80797078e-001, -5.38408316e-017,  3.80797078e-001,\n",
       "        -5.38408316e-017,  3.80797078e-001, -5.38408316e-017,\n",
       "         3.80797078e-001,  0.00000000e+000,  4.11688504e-033,\n",
       "         0.00000000e+000],\n",
       "       [ 4.11688504e-033, -1.54019660e-016, -1.28545794e-032,\n",
       "        -1.54019660e-016, -1.28545794e-032, -1.54019660e-016,\n",
       "        -1.28545794e-032, -1.54019660e-016, -1.28545794e-032,\n",
       "        -1.09351983e-016,  3.80797078e-001, -1.09351983e-016,\n",
       "         3.80797078e-001,  4.38523043e-002,  4.38523043e-002,\n",
       "        -1.09351983e-016,  3.80797078e-001, -5.38408316e-017,\n",
       "         3.80797078e-001, -5.38408316e-017,  3.80797078e-001,\n",
       "        -5.38408316e-017,  3.80797078e-001, -5.38408316e-017,\n",
       "         3.80797078e-001],\n",
       "       [-1.48213349e-016,  3.07221577e-032, -1.48213349e-016,\n",
       "         3.07221577e-032,  5.55111512e-017,  1.67015854e-032,\n",
       "         5.55111512e-017,  1.67015854e-032,  5.55111512e-017,\n",
       "         1.67015854e-032,  5.55111512e-017,  1.67015854e-032,\n",
       "        -5.38408316e-017,  3.80797078e-001, -5.38408316e-017,\n",
       "         3.80797078e-001, -5.38408316e-017,  3.80797078e-001,\n",
       "        -5.38408316e-017,  3.80797078e-001, -1.09351983e-016,\n",
       "         3.80797078e-001,  4.38523043e-002,  4.38523043e-002,\n",
       "        -1.09351983e-016]])"
      ]
     },
     "execution_count": 58,
     "metadata": {},
     "output_type": "execute_result"
    }
   ],
   "source": [
    "G = pq.Gaussian_trans(2) # two qumode [0, 1]\n",
    "G.Displace(0, 1) # Displacement gate, x to x+2\n",
    "G.Xsqueeze(0, 1)\n",
    "G.rotation(0, np.pi/4) # pi/4 rotation gate\n",
    "G.BS(0, 1, np.pi/4) # 50:50 beam splitter\n",
    "print(np.round(G.V, decimals=4))\n",
    "\n",
    "#G.PhotonDetectionProb([1, 1], [1, 1])\n",
    "rho = G.GaussianToFock(cutoffDim = 4)\n",
    "print(rho.shape)\n",
    "rho"
   ]
  },
  {
   "cell_type": "markdown",
   "metadata": {},
   "source": [
    "$\\sigma_{jk} = \\mathrm{Tr} [\\rho \\{ \\hat{\\zeta_j}, \\hat{\\zeta_k} \\}] / 2 - \\beta_j \\beta_k^*$"
   ]
  },
  {
   "cell_type": "markdown",
   "metadata": {},
   "source": [
    "# 以下、photonqat と Strawberry Fieldsの等価検証用"
   ]
  },
  {
   "cell_type": "markdown",
   "metadata": {},
   "source": [
    "## Beta"
   ]
  },
  {
   "cell_type": "code",
   "execution_count": 7,
   "metadata": {},
   "outputs": [
    {
     "name": "stdout",
     "output_type": "stream",
     "text": [
      "[0.2601+0.2601j 0.2601-0.2601j]\n"
     ]
    }
   ],
   "source": [
    "# photonqat\n",
    "mu = G.mu\n",
    "cov = G.V\n",
    "N = np.int(cov.shape[0] / 2)\n",
    "beta = RtoTvec(mu)\n",
    "print(np.round(beta, decimals = 4))"
   ]
  },
  {
   "cell_type": "code",
   "execution_count": 8,
   "metadata": {},
   "outputs": [
    {
     "name": "stdout",
     "output_type": "stream",
     "text": [
      "[0.2601+0.2601j 0.2601-0.2601j]\n"
     ]
    }
   ],
   "source": [
    "# Strawberry Fields\n",
    "print(np.round(hf.quantum.Beta(results.state.means(), hbar=1), decimals = 4))"
   ]
  },
  {
   "cell_type": "markdown",
   "metadata": {},
   "source": [
    "## Qmat"
   ]
  },
  {
   "cell_type": "code",
   "execution_count": 12,
   "metadata": {},
   "outputs": [
    {
     "name": "stdout",
     "output_type": "stream",
     "text": [
      "[[ 2.3811+0.j     -0.    +1.8134j]\n",
      " [-0.    -1.8134j  2.3811+0.j    ]]\n"
     ]
    }
   ],
   "source": [
    "# photonqat\n",
    "#cov_Q = RtoTmat(cov) + np.eye(2 * N) * 0.5\n",
    "cov_Q = pq.baseFunc.RtoQmat(cov)\n",
    "print(np.round(cov_Q, decimals = 4))"
   ]
  },
  {
   "cell_type": "code",
   "execution_count": 10,
   "metadata": {},
   "outputs": [
    {
     "name": "stdout",
     "output_type": "stream",
     "text": [
      "[[ 2.3811+0.j     -0.    +1.8134j]\n",
      " [-0.    -1.8134j  2.3811+0.j    ]]\n"
     ]
    }
   ],
   "source": [
    "# Strawberry Fields\n",
    "print(np.round(hf.quantum.Qmat(results.state.cov(), hbar = 1), decimals = 4))"
   ]
  },
  {
   "cell_type": "markdown",
   "metadata": {},
   "source": [
    "## Prefactor"
   ]
  },
  {
   "cell_type": "code",
   "execution_count": 218,
   "metadata": {},
   "outputs": [
    {
     "data": {
      "text/plain": [
       "(0.5105908601618125+1.7714679034837777e-18j)"
      ]
     },
     "execution_count": 218,
     "metadata": {},
     "output_type": "execute_result"
    }
   ],
   "source": [
    "# photonqat\n",
    "xi = RtoSvec(mu) # (x1, ..., xN, p1, ..., pN)\n",
    "V = RtoSmat(cov)\n",
    "Vxx = V[:N, :N]\n",
    "Vxp = V[:N, N:]\n",
    "Vpp = V[N:, N:]\n",
    "A = Vxx - 1j * (Vxp - Vxp.T) + Vpp\n",
    "B = Vxx + 1j * (Vxp - Vxp.T) + Vpp\n",
    "C = Vxx - 1j * (Vxp + Vxp.T) - Vpp\n",
    "sigma_Q = RtoTmat(cov) + np.eye(2 * N) * 0.5\n",
    "cov_Q_inv = np.linalg.inv(sigma_Q)\n",
    "cov_Q_det = np.linalg.det(sigma_Q)\n",
    "T1 = np.exp(-0.5 * np.dot(np.dot(np.conj(beta), cov_Q_inv), beta))\n",
    "m = np.array([0, 0])\n",
    "T2 = np.sqrt(cov_Q_det * np.prod(special.factorial(m)) * np.prod(special.factorial(m)))\n",
    "T = T1 / T2\n",
    "T"
   ]
  },
  {
   "cell_type": "code",
   "execution_count": 227,
   "metadata": {},
   "outputs": [
    {
     "data": {
      "text/plain": [
       "(0.5105908601618125+0j)"
      ]
     },
     "execution_count": 227,
     "metadata": {},
     "output_type": "execute_result"
    }
   ],
   "source": [
    "# Strawberry Fields\n",
    "hf.quantum.prefactor(results.state.means(), results.state.cov(), hbar=1)"
   ]
  },
  {
   "cell_type": "markdown",
   "metadata": {},
   "source": [
    "## Amat"
   ]
  },
  {
   "cell_type": "code",
   "execution_count": 178,
   "metadata": {},
   "outputs": [
    {
     "data": {
      "text/plain": [
       "array([[-0.+0.3808j, -0.+0.3808j, -0.-0.j    , -0.-0.j    ],\n",
       "       [-0.+0.3808j, -0.+0.3808j, -0.+0.j    , -0.-0.j    ],\n",
       "       [-0.-0.j    , -0.+0.j    , -0.-0.3808j, -0.-0.3808j],\n",
       "       [-0.-0.j    , -0.-0.j    , -0.-0.3808j, -0.-0.3808j]])"
      ]
     },
     "execution_count": 178,
     "metadata": {},
     "output_type": "execute_result"
    }
   ],
   "source": [
    "# photonqat\n",
    "X = np.block([[np.zeros([N, N]), np.eye(N)], [np.eye(N), np.zeros([N, N])]])\n",
    "A = np.dot(X, (np.eye(2 * N) - cov_Q_inv))\n",
    "A = (A + A.T) / 2 # cancel the numeric error of symmetray\n",
    "np.round(A, decimals = 5)"
   ]
  },
  {
   "cell_type": "code",
   "execution_count": 179,
   "metadata": {},
   "outputs": [
    {
     "data": {
      "text/plain": [
       "array([[-0.+0.3808j, -0.+0.3808j, -0.+0.j    , -0.+0.j    ],\n",
       "       [-0.+0.3808j, -0.+0.3808j, -0.-0.j    , -0.+0.j    ],\n",
       "       [-0.-0.j    , -0.-0.j    , -0.-0.3808j, -0.-0.3808j],\n",
       "       [-0.+0.j    , -0.+0.j    , -0.-0.3808j, -0.-0.3808j]])"
      ]
     },
     "execution_count": 179,
     "metadata": {},
     "output_type": "execute_result"
    }
   ],
   "source": [
    "# Strawberry Fields\n",
    "Amat = hf.quantum.Amat(results.state.cov(), hbar=1)\n",
    "np.round(Amat, decimals = 5)"
   ]
  },
  {
   "cell_type": "markdown",
   "metadata": {},
   "source": [
    "## Gamma"
   ]
  },
  {
   "cell_type": "code",
   "execution_count": 180,
   "metadata": {},
   "outputs": [
    {
     "name": "stdout",
     "output_type": "stream",
     "text": [
      "[0.32402714-0.32402714j 0.32402714-0.32402714j 0.32402714+0.32402714j\n",
      " 0.32402714+0.32402714j]\n"
     ]
    }
   ],
   "source": [
    "# photonqat\n",
    "gamma = np.dot(np.conj(beta), cov_Q_inv)\n",
    "print(gamma)"
   ]
  },
  {
   "cell_type": "code",
   "execution_count": 181,
   "metadata": {},
   "outputs": [
    {
     "name": "stdout",
     "output_type": "stream",
     "text": [
      "[0.32402714-0.32402714j 0.32402714-0.32402714j 0.32402714+0.32402714j\n",
      " 0.32402714+0.32402714j]\n"
     ]
    }
   ],
   "source": [
    "# Strawberry Fields\n",
    "print(beta.conj() - A @ beta)"
   ]
  },
  {
   "cell_type": "markdown",
   "metadata": {},
   "source": [
    "## The case with vacuum input to hafnian"
   ]
  },
  {
   "cell_type": "code",
   "execution_count": 151,
   "metadata": {},
   "outputs": [
    {
     "data": {
      "text/plain": [
       "1"
      ]
     },
     "execution_count": 151,
     "metadata": {},
     "output_type": "execute_result"
    }
   ],
   "source": [
    "A = np.arange(4).reshape([2, 2])\n",
    "A_rp = np.repeat(A, np.array([0, 0]), axis = 0)\n",
    "A_rp = np.repeat(A_rp, np.array([0, 0]), axis = 1)\n",
    "hf.quantum.hafnian(A_rp)"
   ]
  },
  {
   "cell_type": "code",
   "execution_count": null,
   "metadata": {},
   "outputs": [],
   "source": []
  }
 ],
 "metadata": {
  "kernelspec": {
   "display_name": "Python 3",
   "language": "python",
   "name": "python3"
  },
  "language_info": {
   "codemirror_mode": {
    "name": "ipython",
    "version": 3
   },
   "file_extension": ".py",
   "mimetype": "text/x-python",
   "name": "python",
   "nbconvert_exporter": "python",
   "pygments_lexer": "ipython3",
   "version": "3.6.5"
  }
 },
 "nbformat": 4,
 "nbformat_minor": 2
}
