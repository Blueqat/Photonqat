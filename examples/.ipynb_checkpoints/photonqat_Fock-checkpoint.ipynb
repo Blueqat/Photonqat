{
 "cells": [
  {
   "cell_type": "code",
   "execution_count": 1,
   "metadata": {},
   "outputs": [
    {
     "data": {
      "text/plain": [
       "<module 'photonqat' from '../photonqat/__init__.py'>"
      ]
     },
     "execution_count": 1,
     "metadata": {},
     "output_type": "execute_result"
    }
   ],
   "source": [
    "import sys\n",
    "sys.path.append('../')\n",
    "\n",
    "import photonqat as pq\n",
    "\n",
    "import importlib\n",
    "importlib.reload(pq)"
   ]
  },
  {
   "cell_type": "code",
   "execution_count": 2,
   "metadata": {},
   "outputs": [],
   "source": [
    "import numpy as np\n",
    "import matplotlib.pyplot as plt"
   ]
  },
  {
   "cell_type": "markdown",
   "metadata": {},
   "source": [
    "## Photonqat\n",
    "\n",
    "真空場状態とコヒーレント状態を準備し、スクイージング、ビームスプリッタ操作を行う。  \n",
    "出力状態をWigner関数を用いて可視化する。  \n",
    "cutoffの値を大きくすると計算時間がかかるが、計算結果の精度が上がる。  \n",
    "要求される精度(=cutoff値)はゲートの種類やパラメータによって決まる。\n",
    "単純に言うとWigner関数の分布が中心$(x, p)=(0, 0)$から離れるほどcutoff値を大きくしないと正しい結果を計算できない。"
   ]
  },
  {
   "cell_type": "code",
   "execution_count": 8,
   "metadata": {},
   "outputs": [
    {
     "data": {
      "image/png": "[encoded data removed]",
      "text/plain": [
       "<Figure size 432x288 with 1 Axes>"
      ]
     },
     "metadata": {
      "needs_background": "light"
     },
     "output_type": "display_data"
    }
   ],
   "source": [
    "alpha = (1 + 1j)\n",
    "mode = 0\n",
    "r = -0.5\n",
    "F = pq.Fock(2, cutoff = 15)\n",
    "F.coherentState(0, alpha)\n",
    "F.Sgate(0, r)\n",
    "\n",
    "F.BSgate(0, 1, -np.pi/4)\n",
    "(x, p, W) = F.Wignerfunc(1, plot = 'y', xrange = 5.0, prange = 5.0) # plot"
   ]
  },
  {
   "cell_type": "code",
   "execution_count": 6,
   "metadata": {},
   "outputs": [
    {
     "name": "stdout",
     "output_type": "stream",
     "text": [
      "[0 0 0 2 0 0 0 2 0 0 0 0 0 0 2 0 2 0 2 0 0 2 0 2 0 0 0 0 0 2 2 2 0 0 2 2 0\n",
      " 0 0 0 2 2 2 0 2 0 0 2 2 0]\n",
      "2つのSingle photon Modeをビームスプリッタに入力すると出力モードの光子数は必ず1方のモードが2, もう1方が0になる\n"
     ]
    }
   ],
   "source": [
    "mode = 0\n",
    "F = pq.Fock(2, cutoff = 20)\n",
    "F.photonNumberState(0, 1)\n",
    "F.photonNumberState(1, 1)\n",
    "F.BSgate(0, 1, -np.pi/4)\n",
    "res = F.photonSampling(0, ite = 50)\n",
    "print(res)\n",
    "print(\"2つのSingle photon Modeをビームスプリッタに入力すると出力モードの光子数は必ず1方のモードが2, もう1方が0になる\")"
   ]
  },
  {
   "cell_type": "markdown",
   "metadata": {},
   "source": [
    "## 以下、メモ"
   ]
  },
  {
   "cell_type": "code",
   "execution_count": null,
   "metadata": {},
   "outputs": [],
   "source": []
  }
 ],
 "metadata": {
  "kernelspec": {
   "display_name": "Python 3",
   "language": "python",
   "name": "python3"
  },
  "language_info": {
   "codemirror_mode": {
    "name": "ipython",
    "version": 3
   },
   "file_extension": ".py",
   "mimetype": "text/x-python",
   "name": "python",
   "nbconvert_exporter": "python",
   "pygments_lexer": "ipython3",
   "version": "3.6.5"
  }
 },
 "nbformat": 4,
 "nbformat_minor": 2
}
