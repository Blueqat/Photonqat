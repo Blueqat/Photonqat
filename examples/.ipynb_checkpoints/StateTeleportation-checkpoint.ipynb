{
 "cells": [
  {
   "cell_type": "markdown",
   "metadata": {},
   "source": [
    "# State teleportation"
   ]
  },
  {
   "cell_type": "code",
   "execution_count": 1,
   "metadata": {},
   "outputs": [],
   "source": [
    "import sys\n",
    "sys.path.append('../')\n",
    "\n",
    "import photonqat as pq\n",
    "import numpy as np\n",
    "import matplotlib.pyplot as plt"
   ]
  },
  {
   "cell_type": "markdown",
   "metadata": {},
   "source": [
    "## Photonqat"
   ]
  },
  {
   "cell_type": "code",
   "execution_count": 13,
   "metadata": {},
   "outputs": [
    {
     "data": {
      "image/png": "[encoded data removed]",
      "text/plain": [
       "<Figure size 432x288 with 1 Axes>"
      ]
     },
     "metadata": {
      "needs_background": "light"
     },
     "output_type": "display_data"
    },
    {
     "name": "stdout",
     "output_type": "stream",
     "text": [
      "measured x = 1.9433053574191999\n",
      "measured p = 3.6499719254058878\n",
      "mu = [1.46220204 0.86735431]\n"
     ]
    }
   ],
   "source": [
    "r = 2\n",
    "\n",
    "G = pq.Gaussian(3)\n",
    "\n",
    "G.D(0, 1 + 0.5j) # state to teleport\n",
    "G.S(1, -r)\n",
    "G.S(2, r)\n",
    "G.BS(1, 2, np.pi/4) # 50:50 beam splitter\n",
    "G.BS(0, 1, np.pi/4) # 50:50 beam splitter\n",
    "x0 = G.MeasX(0)\n",
    "p1 = G.MeasP(1)\n",
    "G.Xgate(2, x0 * np.sqrt(2))\n",
    "G.Zgate(2, p1 * np.sqrt(2))\n",
    "\n",
    "G.Wigner(2) # plot\n",
    "print('measured x =', x0)\n",
    "print('measured p =', p1)\n",
    "print('mu =', G.mean(2)) # mu of qumode 0"
   ]
  },
  {
   "cell_type": "code",
   "execution_count": null,
   "metadata": {},
   "outputs": [],
   "source": []
  },
  {
   "cell_type": "code",
   "execution_count": null,
   "metadata": {},
   "outputs": [],
   "source": []
  }
 ],
 "metadata": {
  "kernelspec": {
   "display_name": "Python 3",
   "language": "python",
   "name": "python3"
  },
  "language_info": {
   "codemirror_mode": {
    "name": "ipython",
    "version": 3
   },
   "file_extension": ".py",
   "mimetype": "text/x-python",
   "name": "python",
   "nbconvert_exporter": "python",
   "pygments_lexer": "ipython3",
   "version": "3.6.5"
  }
 },
 "nbformat": 4,
 "nbformat_minor": 2
}
