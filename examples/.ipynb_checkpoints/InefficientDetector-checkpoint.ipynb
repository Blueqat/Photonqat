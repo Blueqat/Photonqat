{
 "cells": [
  {
   "cell_type": "code",
   "execution_count": 1,
   "metadata": {},
   "outputs": [],
   "source": [
    "import sys\n",
    "sys.path.append('../')\n",
    "\n",
    "import photonqat as pq"
   ]
  },
  {
   "cell_type": "code",
   "execution_count": 2,
   "metadata": {},
   "outputs": [],
   "source": [
    "import numpy as np\n",
    "import strawberryfields as sf\n",
    "from strawberryfields.ops import *\n",
    "import matplotlib.pyplot as plt"
   ]
  },
  {
   "cell_type": "markdown",
   "metadata": {},
   "source": [
    "ガウス操作に光子数測定を組み合わせることで古典計算機で効率的に計算できない操作を行うことが可能  \n",
    "しかし現実の計測器に光子1個分の分解能を要求するのは現状かなり厳しい  \n",
    "そこで、光子数を知ることはできないが光子がきたことを検出できる計測器を用いた計算も研究されている\n",
    "\n",
    "10.1103/PhysRevA.72.033822  \n",
    "\"Conditional generation of arbitrary single-mode quantum states of light by repeated photon subtractions\""
   ]
  },
  {
   "cell_type": "markdown",
   "metadata": {},
   "source": [
    "測定演算子  \n",
    "$\\Pi_0 = |0\\rangle \\langle 0|$  \n",
    "$\\Pi_1 = I - |0\\rangle \\langle 0|$  "
   ]
  },
  {
   "cell_type": "markdown",
   "metadata": {},
   "source": [
    "$W_{AB}(r_{AB}) = \\frac{\\sqrt{\\rm{det}\\Gamma_{AB}}}{\\pi^{2}}\\exp\\{ {-(r_{AB} - d_{AB})^T \\Gamma_{AB}(r_{AB} - d_{AB})}\\}$\n",
    "\n",
    "$d_{AB} = (d_A, d_B)^T = S(\\mu_A, \\mu_B)^T$\n",
    "\n",
    "$\\Gamma_{AB} = \\gamma_{AB}^{-1}$\n",
    "\n",
    "$\\gamma_{AB} = S(\\gamma_A \\oplus I_B)S^T + G$\n",
    "\n",
    "$S = S_\\eta S_{BS} = (I_A \\oplus \\sqrt{\\eta}I_B) S_{BS}$\n",
    "\n",
    "$G = 0_A \\oplus (1-\\eta)I_B$"
   ]
  },
  {
   "cell_type": "code",
   "execution_count": 57,
   "metadata": {},
   "outputs": [
    {
     "name": "stdout",
     "output_type": "stream",
     "text": [
      "[[1.00000000e+00 0.00000000e+00 1.01465364e-17 0.00000000e+00]\n",
      " [0.00000000e+00 1.00000000e+00 0.00000000e+00 1.01465364e-17]\n",
      " [1.01465364e-17 0.00000000e+00 1.00000000e+00 0.00000000e+00]\n",
      " [0.00000000e+00 1.01465364e-17 0.00000000e+00 1.00000000e+00]]\n"
     ]
    }
   ],
   "source": [
    "N = 2\n",
    "G = pq.Gaussian_trans(N)\n",
    "G.Displace(0, 1+0.5j) # Displacement gate, x to x+2\n",
    "G.BS(0, 1, np.pi/4) # 50:50 beam splitter\n",
    "#G.plotGaussianWigner(0) # plot\n",
    "print(G.V)\n",
    "\n",
    "eta = 0.5\n",
    "S_eta = np.eye(2 * N)\n",
    "g = np.zeros([2 * N, 2 * N])\n",
    "idx_B = 1\n",
    "idx_B = 2 * idx_B\n",
    "S_eta[idx_B, idx_B] = np.sqrt(eta)\n",
    "g[idx_B, idx_B] = (1 - eta)\n",
    "S_eta[idx_B+1, idx_B+1] = np.sqrt(eta)\n",
    "g[idx_B+1, idx_B+1] = (1 - eta)\n",
    "gamma_AB = np.dot(np.dot(S_eta, G.V), S_eta.T)  + g\n",
    "dA = G.mean(0)\n",
    "dB = G.mean(1)"
   ]
  },
  {
   "cell_type": "markdown",
   "metadata": {},
   "source": [
    "$W_{AB}$に対応する密度演算子を$\\rho_{AB}$とする。  \n",
    "inefficient detectorがphotonを検出した時のモードAの状態は次式。  \n",
    "$\\rho_{A,out} = \\mathrm{Tr_B}[\\rho_{AB}(I_A \\oplus \\Pi_{1,B})]$\n",
    "\n",
    "POVM演算子はWinger関数でも書ける。  \n",
    "$W_{\\Pi_1}(r) = \\frac{1}{2\\pi} - \\frac{1}{\\pi}e^{-x^2 -p^2}$\n",
    "\n",
    "$\\rho_{A,out} $を再びWigner関数に書き直すと以下のようにGaussian Wignerの和となる。  \n",
    "Gaussian Wignerの和であり、解析的に式がわかっている以上計算は難しくない  \n",
    "それでもGauss操作だけでは実現できない状態を作れている\n",
    "\n",
    "$W(r)P = C_1 W_G(r;\\Gamma_1, d_1) + C_2 W_G(r;\\Gamma_2, d_2)$\n",
    "\n",
    "$P$; 上のようなモードAが生成される確率\n",
    "\n",
    "$\\Gamma_{AB} = \\begin{pmatrix}\n",
    "\\Upsilon_A & \\sigma \\\\\n",
    "\\sigma^T & \\Upsilon_B \\\\\n",
    "\\end{pmatrix}\n",
    "$\n",
    "\n",
    "$\\Gamma_1 = \\Upsilon_A - \\sigma\\Upsilon_B^{-1}\\sigma^T$  \n",
    "$d_1 = d_A + z_2$  \n",
    "$C_1 = 1$\n",
    "\n",
    "$\\Gamma_2 = \\Upsilon_A - \\sigma\\tilde{\\Upsilon}_B^{-1}\\sigma^T$  \n",
    "$d_2 = d_A + \\Gamma_2^{-1}\\sigma\\tilde{\\Upsilon}_B^{-1} d_B  + z_2$  \n",
    "$C_2 = -2\\sqrt{\\frac{\\mathrm{det}(\\Gamma_{AB}) }{\\mathrm{det}(\\Gamma_{2}) \\mathrm{det}(\\tilde{\\Upsilon}_B)} } \\exp[-d_B^T M d_B]$\n",
    "\n",
    "$\\tilde{\\Upsilon}_B = \\Upsilon_B + I$  \n",
    "$M = \\Upsilon_B \\tilde{\\Upsilon}_B^{-1} - \\tilde{\\Upsilon}_B^{-1} \\sigma^T \\Gamma_2^{-1}\\sigma \\tilde{\\Upsilon}_B^{-1}$\n",
    "\n",
    "$S_{s} = \\begin{pmatrix}\n",
    "e^{s_{out}} & 0 \\\\\n",
    "0 & e^{-s_{out}} \\\\\n",
    "\\end{pmatrix}\n",
    "$"
   ]
  },
  {
   "cell_type": "markdown",
   "metadata": {},
   "source": [
    "anti squeezeする\n",
    "\n",
    "$W_{out}(r)P = C_1 W_G(r;\\Gamma_1^{'}, d_1^{'}) + C_2 W_G(r;\\Gamma_2^{'}, d_2^{'})$  \n",
    "$\\Gamma_{1, 2}^{'} = S_s^{-1}\\Gamma_{1,2}S_s^{-1}$  \n",
    "$d_{1, 2}^{'} = S_s d_{1,2}$\n",
    "\n",
    "$P = C_1 + C_2$"
   ]
  },
  {
   "cell_type": "code",
   "execution_count": 63,
   "metadata": {},
   "outputs": [
    {
     "name": "stdout",
     "output_type": "stream",
     "text": [
      "[[-7.17468466e-18  0.00000000e+00]\n",
      " [ 0.00000000e+00 -7.17468466e-18]]\n"
     ]
    }
   ],
   "source": [
    "alpha2 = 1 + 1j\n",
    "z2 = np.sqrt(2) * np.array([np.real(alpha2), np.imag(alpha2)])\n",
    "\n",
    "Gamma_AB = np.linalg.inv(gamma_AB)\n",
    "idx_A = 0\n",
    "Ups_A = Gamma_AB[idx_A:idx_A+2, idx_A:idx_A+2]\n",
    "Ups_B = Gamma_AB[idx_B:idx_B+2, idx_B:idx_B+2]\n",
    "sigma = Gamma_AB[idx_A:idx_A+2, idx_B:idx_B+2]\n",
    "\n",
    "Ups_B_inv = np.linalg.inv(Ups_B)\n",
    "Ups_Btilde = Ups_B + np.eye(2)\n",
    "Ups_Btilde_inv = np.linalg.inv(Ups_Btilde)\n",
    "sigma_T = sigma.T\n",
    "\n",
    "Gamma_1 = Ups_A - np.dot(np.dot(sigma, Ups_B_inv), sigma_T)\n",
    "d1 = dA + z2\n",
    "C1 = 1\n",
    "\n",
    "Gamma_2 = Ups_A - np.dot(np.dot(sigma, Ups_Btilde_inv), sigma_T)\n",
    "Gamma_2_inv = np.linalg.inv(Gamma_2)\n",
    "d2 = dA + np.dot(np.dot(np.dot(Gamma_2_inv, sigma), Ups_Btilde_inv), dB) + z2\n",
    "det_GammaAB = np.linalg.det(Gamma_AB)\n",
    "det_Gamma_2 = np.linalg.det(Gamma_2)\n",
    "det_Ups_Btilde = np.linalg.det(Ups_Btilde)\n",
    "CC = np.sqrt(det_GammaAB / det_Gamma_2 / det_Ups_Btilde)\n",
    "M = np.dot(Ups_B, Ups_Btilde_inv) - np.linalg.multi_dot([Ups_Btilde_inv, sigma_T, Gamma_2_inv, sigma, Ups_Btilde_inv])\n",
    "C2 = -2 * CC * np.exp(np.dot(np.dot(-dB.T, M), dB))\n",
    "\n",
    "print(sigma)"
   ]
  },
  {
   "cell_type": "markdown",
   "metadata": {},
   "source": [
    "あまり意味がない気がしたので中断"
   ]
  },
  {
   "cell_type": "code",
   "execution_count": null,
   "metadata": {},
   "outputs": [],
   "source": []
  }
 ],
 "metadata": {
  "kernelspec": {
   "display_name": "Python 3",
   "language": "python",
   "name": "python3"
  },
  "language_info": {
   "codemirror_mode": {
    "name": "ipython",
    "version": 3
   },
   "file_extension": ".py",
   "mimetype": "text/x-python",
   "name": "python",
   "nbconvert_exporter": "python",
   "pygments_lexer": "ipython3",
   "version": "3.6.5"
  }
 },
 "nbformat": 4,
 "nbformat_minor": 2
}
