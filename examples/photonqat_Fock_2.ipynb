{
 "cells": [
  {
   "cell_type": "code",
   "execution_count": 1,
   "metadata": {},
   "outputs": [],
   "source": [
    "import sys\n",
    "sys.path.append('../')\n",
    "\n",
    "%load_ext autoreload\n",
    "import photonqat as pq\n",
    "\n",
    "import importlib"
   ]
  },
  {
   "cell_type": "code",
   "execution_count": 2,
   "metadata": {},
   "outputs": [],
   "source": [
    "%autoreload"
   ]
  },
  {
   "cell_type": "code",
   "execution_count": 3,
   "metadata": {},
   "outputs": [],
   "source": [
    "import numpy as np\n",
    "import matplotlib.pyplot as plt"
   ]
  },
  {
   "cell_type": "markdown",
   "metadata": {},
   "source": [
    "## Photonqat\n",
    "\n",
    "真空場状態とコヒーレント状態を準備し、スクイージング、ビームスプリッタ操作を行う。  \n",
    "出力状態をWigner関数を用いて可視化する。  \n",
    "cutoffの値を大きくすると計算時間がかかるが、計算結果の精度が上がる。  \n",
    "要求される精度(=cutoff値)はゲートの種類やパラメータによって決まる。\n",
    "cutoff値が小さすぎるとWigner関数が歪む。  \n",
    "簡潔に言うと、Wigner関数の分布が中心$(x, p)=(0, 0)$から離れるほどcutoff値を大きくする必要がある。  \n",
    "位相平面上で中心からの距離は光子数に対応するから。"
   ]
  },
  {
   "cell_type": "code",
   "execution_count": 10,
   "metadata": {},
   "outputs": [
    {
     "data": {
      "image/png": "[encoded data removed]",
      "text/plain": [
       "<Figure size 432x288 with 1 Axes>"
      ]
     },
     "metadata": {
      "needs_background": "light"
     },
     "output_type": "display_data"
    }
   ],
   "source": [
    "alpha = 1\n",
    "mode = 0\n",
    "F = pq.Fock(1, cutoff = 15)\n",
    "F.catState(0, alpha, 'e')\n",
    "\n",
    "(x, p, W) = F.Wignerfunc(0, plot = 'y', xrange = 5.0, prange = 5.0) # plot"
   ]
  },
  {
   "cell_type": "code",
   "execution_count": 15,
   "metadata": {},
   "outputs": [
    {
     "data": {
      "image/png": "[encoded data removed]",
      "text/plain": [
       "<Figure size 432x288 with 1 Axes>"
      ]
     },
     "metadata": {
      "needs_background": "light"
     },
     "output_type": "display_data"
    }
   ],
   "source": [
    "alpha = 1\n",
    "mode = 0\n",
    "F = pq.Fock(1, cutoff = 15)\n",
    "F.catState(0, alpha, 'o')\n",
    "\n",
    "(x, p, W) = F.Wignerfunc(0, plot = 'y', xrange = 5.0, prange = 5.0) # plot"
   ]
  },
  {
   "cell_type": "code",
   "execution_count": null,
   "metadata": {},
   "outputs": [],
   "source": []
  }
 ],
 "metadata": {
  "kernelspec": {
   "display_name": "Python 3",
   "language": "python",
   "name": "python3"
  },
  "language_info": {
   "codemirror_mode": {
    "name": "ipython",
    "version": 3
   },
   "file_extension": ".py",
   "mimetype": "text/x-python",
   "name": "python",
   "nbconvert_exporter": "python",
   "pygments_lexer": "ipython3",
   "version": "3.6.5"
  }
 },
 "nbformat": 4,
 "nbformat_minor": 2
}
