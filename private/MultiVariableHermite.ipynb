{
 "cells": [
  {
   "cell_type": "markdown",
   "metadata": {},
   "source": [
    "N mode Gaussian WignerのPhoton Number Distribution は 2N variable Hermite Polynomialを使って計算できる。\n",
    "\n",
    "arXiv:1903.02310 [quant-ph]"
   ]
  },
  {
   "cell_type": "code",
   "execution_count": 1,
   "metadata": {},
   "outputs": [],
   "source": [
    "import numpy as np\n",
    "from scipy import special\n",
    "import matplotlib.pyplot as plt\n",
    "import strawberryfields as sf"
   ]
  },
  {
   "cell_type": "markdown",
   "metadata": {},
   "source": [
    "## 2 variable Hemite Polynomial"
   ]
  },
  {
   "cell_type": "code",
   "execution_count": 510,
   "metadata": {},
   "outputs": [],
   "source": [
    "mu = np.array([2, 2])\n",
    "sigma = np.array([[1, 0.2], [0.2, 2]])"
   ]
  },
  {
   "cell_type": "code",
   "execution_count": 511,
   "metadata": {},
   "outputs": [
    {
     "name": "stdout",
     "output_type": "stream",
     "text": [
      "0.07455510616671301\n"
     ]
    }
   ],
   "source": [
    "d = np.linalg.det(sigma)\n",
    "T = np.trace(sigma)\n",
    "R11 = 2 * (sigma[1, 1] - sigma[0, 0] - 2j * sigma[0, 1])\n",
    "R12 = 1 - 4*d\n",
    "R22 = 2 * (sigma[1, 1] - sigma[0, 0] + 2j * sigma[0, 1])\n",
    "R = 1 / (1 + 2*T + 4*d) * np.array([[R11, R12], [R12, R22]])\n",
    "\n",
    "y1 = np.sqrt(2) / (2*T - 4*d - 1) * ( (mu[0] - 1j * mu[1]) * (T - 1) + (sigma[1, 1] - sigma[0, 0] + 2j * sigma[0, 1]) * (mu[0] + 1j * mu[1]))\n",
    "y2 = np.conj(y1)\n",
    "y = np.array([y1, y2])\n",
    "L = 1 + 2*T + 4*d\n",
    "P0 = 2 / np.sqrt(L) * np.exp(-1 / L * (((2*sigma[0, 0] + 1) * mu[1]**2) + ((2*sigma[1, 1] + 1) * mu[0]**2) )) \\\n",
    "* np.exp(4 * sigma[0, 1] / L * mu[1] * mu[0])\n",
    "\n",
    "print(P0)"
   ]
  },
  {
   "cell_type": "code",
   "execution_count": 512,
   "metadata": {},
   "outputs": [
    {
     "name": "stdout",
     "output_type": "stream",
     "text": [
      "[1.00000000e+00+0.00000000e+00j 1.47514912e+00+0.00000000e+00j\n",
      " 3.29721881e+00+0.00000000e+00j 9.71591099e+00-1.11022302e-16j\n",
      " 3.54100786e+01+0.00000000e+00j 1.53577968e+02-1.99840144e-15j\n",
      " 7.72014592e+02-6.52811138e-14j 4.41152231e+03-1.90958360e-13j\n",
      " 2.82312872e+04-9.36140054e-13j 1.99938991e+05-2.61124455e-12j\n",
      " 1.55201332e+06-9.35482802e-11j 1.30993390e+07-3.78725851e-09j\n",
      " 1.19408576e+08+1.95495087e-08j 1.16885924e+09+3.71801729e-07j\n",
      " 1.22259419e+10-2.63056991e-06j 1.36059048e+11-1.59754667e-05j\n",
      " 1.60493485e+12-5.37426297e-04j 1.99996034e+13-3.46970672e-03j\n",
      " 2.62498537e+14-5.29976517e-02j 3.61922299e+15+8.13596738e-01j\n",
      " 5.22928473e+16-1.70359354e+01j]\n"
     ]
    },
    {
     "name": "stderr",
     "output_type": "stream",
     "text": [
      "/Users/ryunagai/.pyenv/versions/3.6.5/envs/StrawberyFields_0.11.1/lib/python3.6/site-packages/numpy/core/_asarray.py:85: ComplexWarning: Casting complex values to real discards the imaginary part\n"
     ]
    },
    {
     "data": {
      "text/plain": [
       "[<matplotlib.lines.Line2D at 0x11be81668>]"
      ]
     },
     "execution_count": 512,
     "metadata": {},
     "output_type": "execute_result"
    },
    {
     "data": {
      "image/png": "[encoded data removed]",
      "text/plain": [
       "<Figure size 432x288 with 1 Axes>"
      ]
     },
     "metadata": {
      "needs_background": "light"
     },
     "output_type": "display_data"
    }
   ],
   "source": [
    "N = 20\n",
    "H = np.zeros([N + 1, N + 1]) + 0j\n",
    "\n",
    "for n1 in range(N+1):\n",
    "    for n2 in range(N+1):\n",
    "        for n3 in range(N+1):\n",
    "            for n4 in range(N+1):\n",
    "                for n5 in range(N+1):\n",
    "                    N1 = n1 + 2 * n3 + n5\n",
    "                    N2 = n2 + 2 * n4 + n5\n",
    "                    if (N1==N2) and (N1 <= N):\n",
    "                        C = np.dot(y, R[:, 0])**n1 * np.dot(y, R[:, 1])**n2 * (-R[0, 0] / 2)**(n3) * (-R[1, 1] / 2)**(n4) * (-R[0, 1])**n5\n",
    "                        C = C / (np.prod(special.factorial([n1, n2, n3, n4, n5])))\n",
    "                        H[N1, N2] += C * np.prod(special.factorial([N1, N2]))\n",
    "print(np.diag(H))\n",
    "plt.plot((np.diag(H)))"
   ]
  },
  {
   "cell_type": "code",
   "execution_count": 246,
   "metadata": {},
   "outputs": [
    {
     "name": "stdout",
     "output_type": "stream",
     "text": [
      "(0.9960069763865881-2.241790790556556e-17j)\n"
     ]
    },
    {
     "data": {
      "image/png": "[encoded data removed]",
      "text/plain": [
       "<Figure size 432x288 with 1 Axes>"
      ]
     },
     "metadata": {
      "needs_background": "light"
     },
     "output_type": "display_data"
    }
   ],
   "source": [
    "P = P0 * ((np.diag(H) / special.factorial([i for i in range(N + 1)])))\n",
    "plt.plot(P)\n",
    "print(np.sum(P))"
   ]
  },
  {
   "cell_type": "markdown",
   "metadata": {},
   "source": []
  },
  {
   "cell_type": "markdown",
   "metadata": {},
   "source": [
    "## Xanadu Strawberry Fields"
   ]
  },
  {
   "cell_type": "code",
   "execution_count": 40,
   "metadata": {},
   "outputs": [
    {
     "name": "stdout",
     "output_type": "stream",
     "text": [
      "|0000>: 0.17637844761413474\n",
      "|1100>: 0.0685595637122451\n",
      "|0101>: 0.002056097258972289\n",
      "|1111>: 0.008342946399881954\n",
      "|2000>: 0.010312945253440302\n"
     ]
    }
   ],
   "source": [
    "import numpy as np\n",
    "import strawberryfields as sf\n",
    "from strawberryfields.ops import *\n",
    "\n",
    "# initialize engine and program objects\n",
    "eng = sf.Engine(backend=\"gaussian\")\n",
    "gbs = sf.Program(4)\n",
    "\n",
    "# define the linear interferometer\n",
    "U = np.array([\n",
    " [ 0.219546940711-0.256534554457j, 0.611076853957+0.524178937791j,\n",
    "    -0.102700187435+0.474478834685j,-0.027250232925+0.03729094623j],\n",
    " [ 0.451281863394+0.602582912475j, 0.456952590016+0.01230749109j,\n",
    "    0.131625867435-0.450417744715j, 0.035283194078-0.053244267184j],\n",
    " [ 0.038710094355+0.492715562066j,-0.019212744068-0.321842852355j,\n",
    "    -0.240776471286+0.524432833034j,-0.458388143039+0.329633367819j],\n",
    " [-0.156619083736+0.224568570065j, 0.109992223305-0.163750223027j,\n",
    "    -0.421179844245+0.183644837982j, 0.818769184612+0.068015658737j]\n",
    "])\n",
    "\n",
    "\n",
    "with gbs.context as q:\n",
    "    # prepare the input squeezed states\n",
    "    S = Sgate(1)\n",
    "    S | q[0]\n",
    "    S | q[1]\n",
    "    S | q[2]\n",
    "    S | q[3]\n",
    "\n",
    "    # linear interferometer\n",
    "    Interferometer(U) | q\n",
    "    # end circuit\n",
    "\n",
    "# run the engine\n",
    "results = eng.run(gbs)\n",
    "\n",
    "# Fock states to measure at output\n",
    "measure_states = [[0,0,0,0], [1,1,0,0], [0,1,0,1], [1,1,1,1], [2,0,0,0]]\n",
    "\n",
    "# extract the probabilities of calculating several\n",
    "# different Fock states at the output, and print them to the terminal\n",
    "for i in measure_states:\n",
    "    prob = results.state.fock_prob(i)\n",
    "    print(\"|{}>: {}\".format(\"\".join(str(j) for j in i), prob))"
   ]
  },
  {
   "cell_type": "code",
   "execution_count": 41,
   "metadata": {},
   "outputs": [
    {
     "data": {
      "text/plain": [
       "array([[ 4.24887913, -2.63913015, -0.24646106, -0.3900475 , -1.55408783,\n",
       "        -1.36025373,  1.09776694,  0.51845556],\n",
       "       [-2.63913015,  4.26247566,  0.28417147,  0.34068907, -1.36025373,\n",
       "        -1.56965749, -1.13118959, -0.38509899],\n",
       "       [-0.24646106,  0.28417147,  5.43083728,  2.04612871,  1.09776694,\n",
       "        -1.13118959,  1.82876866,  0.46101578],\n",
       "       [-0.3900475 ,  0.34068907,  2.04612871,  0.97384172,  0.51845556,\n",
       "        -0.38509899,  0.46101578,  0.54287828],\n",
       "       [-1.55408783, -1.36025373,  1.09776694,  0.51845556,  3.27551226,\n",
       "         2.63913015,  0.24646106,  0.3900475 ],\n",
       "       [-1.36025373, -1.56965749, -1.13118959, -0.38509899,  2.63913015,\n",
       "         3.26191572, -0.28417147, -0.34068907],\n",
       "       [ 1.09776694, -1.13118959,  1.82876866,  0.46101578,  0.24646106,\n",
       "        -0.28417147,  2.09355411, -2.04612871],\n",
       "       [ 0.51845556, -0.38509899,  0.46101578,  0.54287828,  0.3900475 ,\n",
       "        -0.34068907, -2.04612871,  6.55054966]])"
      ]
     },
     "execution_count": 41,
     "metadata": {},
     "output_type": "execute_result"
    }
   ],
   "source": [
    "cov = results.state.cov()\n",
    "cov\n",
    "#results.state.means()"
   ]
  },
  {
   "cell_type": "code",
   "execution_count": 8,
   "metadata": {},
   "outputs": [
    {
     "name": "stdout",
     "output_type": "stream",
     "text": [
      "|0>: 0.1113168113828589\n",
      "|1>: 0.34543988421225996\n",
      "|2>: 0.30518524364851035\n",
      "|3>: 0.03856434008920449\n",
      "|4>: 0.036632136326058724\n",
      "|5>: 0.08097082578290182\n",
      "|6>: 0.0051232383329247455\n",
      "|7>: 0.023403289161592913\n",
      "|8>: 0.021395268510089063\n",
      "|9>: 0.000573900365801342\n",
      "total prob = 0.9686049378122025\n"
     ]
    }
   ],
   "source": [
    "import numpy as np\n",
    "import strawberryfields as sf\n",
    "from strawberryfields.ops import *\n",
    "\n",
    "# initialize engine and program objects\n",
    "eng = sf.Engine(backend=\"gaussian\")\n",
    "gbs = sf.Program(1)\n",
    "\n",
    "with gbs.context as q:\n",
    "    # prepare the input squeezed states\n",
    "    S = Sgate(1)\n",
    "    D = Dgate(1)\n",
    "    S | q[0]\n",
    "    D | q[0]\n",
    "\n",
    "# run the engine\n",
    "results = eng.run(gbs)\n",
    "\n",
    "# Fock states to measure at output\n",
    "measure_states = [[0], [1], [2], [3], [4], [5], [6], [7], [8], [9]]\n",
    "\n",
    "# extract the probabilities of calculating several\n",
    "# different Fock states at the output, and print them to the terminal\n",
    "total_prob = 0\n",
    "for i in measure_states:\n",
    "    prob = results.state.fock_prob(i)\n",
    "    print(\"|{}>: {}\".format(\"\".join(str(j) for j in i), prob))\n",
    "    total_prob += prob\n",
    "print(\"total prob =\", total_prob)"
   ]
  },
  {
   "cell_type": "markdown",
   "metadata": {},
   "source": [
    "Returns the $\\langle i | \\rho | j \\rangle$ element of the density matrix\n",
    "of a Gaussian state defined by covariance matrix cov.\n",
    "\n",
    "Args:\n",
    "    mu (array): length-$2N$ quadrature displacement vector  \n",
    "    cov (array): length-$2N$ covariance matrix  \n",
    "    i (list): list of density matrix rows  \n",
    "    j (list): list of density matrix columns  \n",
    "    include_prefactor (bool): if \"True\", the prefactor is automatically calculated  \n",
    "        used to scale the result.  \n",
    "    tol (float): tolerance for determining if displacement is negligible  \n",
    "    hbar (float): the value of $\\hbar$ in the commutation  \n",
    "        relation $[x,p]=i\\hbar$.  \n",
    "\n",
    "Returns:\n",
    "    complex: the density matrix element"
   ]
  },
  {
   "cell_type": "markdown",
   "metadata": {},
   "source": [
    "From StrawberryFields  \n",
    "StrawberyFields_0.11.1/lib/python3.6/site-packages/hafnian/quantum.py  \n",
    "density_matrix"
   ]
  },
  {
   "cell_type": "code",
   "execution_count": 277,
   "metadata": {},
   "outputs": [
    {
     "data": {
      "text/plain": [
       "'0.11.1'"
      ]
     },
     "execution_count": 277,
     "metadata": {},
     "output_type": "execute_result"
    }
   ],
   "source": [
    "if post_select is None:\n",
    "        post_select = {}\n",
    "\n",
    "    N = len(mu) // 2 # Number of Mode\n",
    "    M = N - len(post_select)\n",
    "\n",
    "    rho = np.zeros([cutoff] * (2 * M), dtype=np.complex128) # 2M x 2M Matrix of Fock density matrices\n",
    "\n",
    "    for idx in product(range(cutoff), repeat=2 * M): # runs over all elements in rho\n",
    "        el = []\n",
    "\n",
    "        counter = count(0)\n",
    "        modes = (np.arange(2 * N) % N).tolist() # [0, 1, ..., N, 0, 1, ..., N] : rows, columns (逆？)\n",
    "        el = [post_select[i] if i in post_select else idx[next(counter)] for i in modes]\n",
    "        # post selectされているモードだけインデックス(光子数)を変える\n",
    "\n",
    "        el = np.array(el).reshape(2, -1) # rowとcolumnに分ける\n",
    "        el0 = el[0].tolist() #rows\n",
    "        el1 = el[1].tolist() # columns\n",
    "\n",
    "        sf_idx = np.array(idx).reshape(2, -1) # rowとcolumnに分ける\n",
    "        sf_el = tuple(sf_idx[::-1].T.flatten()) # row_0, col_0, row_1, col_1, ...といった順に変えてる？\n",
    "\n",
    "        rho[sf_el] = density_matrix_element(mu, cov, el0, el1, include_prefactor=False, hbar=hbar)\n",
    "\n",
    "    rho *= prefactor(mu, cov, hbar=hbar)\n",
    "\n",
    "    if normalize:\n",
    "        # construct the standard 2D density matrix, and take the trace\n",
    "        new_ax = np.arange(2 * M).reshape([M, 2]).T.flatten()\n",
    "        tr = np.trace(rho.transpose(new_ax).reshape([cutoff ** M, cutoff ** M])).real\n",
    "        # renormalize\n",
    "        rho /= tr\n",
    "\n",
    "    return rho"
   ]
  },
  {
   "cell_type": "code",
   "execution_count": 351,
   "metadata": {},
   "outputs": [
    {
     "data": {
      "text/plain": [
       "(4, 4, 4, 4, 4, 4)"
      ]
     },
     "execution_count": 351,
     "metadata": {},
     "output_type": "execute_result"
    }
   ],
   "source": [
    "np.zeros([4, 4]   * 3).shape"
   ]
  },
  {
   "cell_type": "code",
   "execution_count": 360,
   "metadata": {},
   "outputs": [],
   "source": [
    "from itertools import product, count"
   ]
  },
  {
   "cell_type": "code",
   "execution_count": 337,
   "metadata": {},
   "outputs": [
    {
     "name": "stdout",
     "output_type": "stream",
     "text": [
      "([1, 2], [1, 2]) \n",
      "\n",
      "([1, 2], [3, 4]) \n",
      "\n",
      "([3, 4], [1, 2]) \n",
      "\n",
      "([3, 4], [3, 4]) \n",
      "\n",
      "(1, 1, 1, 1)\n",
      "(1, 1, 1, 2)\n",
      "(1, 1, 2, 1)\n",
      "(1, 1, 2, 2)\n",
      "(1, 2, 1, 1)\n",
      "(1, 2, 1, 2)\n",
      "(1, 2, 2, 1)\n",
      "(1, 2, 2, 2)\n",
      "(2, 1, 1, 1)\n",
      "(2, 1, 1, 2)\n",
      "(2, 1, 2, 1)\n",
      "(2, 1, 2, 2)\n",
      "(2, 2, 1, 1)\n",
      "(2, 2, 1, 2)\n",
      "(2, 2, 2, 1)\n",
      "(2, 2, 2, 2)\n"
     ]
    }
   ],
   "source": [
    "for i in product([[1, 2], [3, 4]], [[1, 2], [3, 4]]): # 1次元ベクトル同士の直積\n",
    "    print(i, '\\n')\n",
    "for i in product([1, 2], repeat = 4): # 1次元ベクトル同士の直積\n",
    "    print(i)"
   ]
  },
  {
   "cell_type": "code",
   "execution_count": 373,
   "metadata": {},
   "outputs": [
    {
     "name": "stdout",
     "output_type": "stream",
     "text": [
      "[[1 1]\n",
      " [2 1]]\n",
      "[[1 1]\n",
      " [2 1]]\n",
      "[[2 1]\n",
      " [1 1]]\n"
     ]
    },
    {
     "data": {
      "text/plain": [
       "(2, 1, 1, 1)"
      ]
     },
     "execution_count": 373,
     "metadata": {},
     "output_type": "execute_result"
    }
   ],
   "source": [
    "N = 2\n",
    "idx = (1, 1, 2, 1)\n",
    "post_select = {}\n",
    "counter = count(0)\n",
    "modes = (np.arange(2 * N) % N).tolist() # [0, 1, ..., N, 0, 1, ..., N]\n",
    "el = [post_select[i] if i in post_select else idx[next(counter)] for i in modes]\n",
    "el = np.array(el).reshape(2, -1)\n",
    "print(el)\n",
    "sf_idx = np.array(idx).reshape(2, -1)\n",
    "print(sf_idx)\n",
    "print(sf_idx[::-1])\n",
    "tuple(sf_idx[::-1].T.flatten())"
   ]
  },
  {
   "cell_type": "code",
   "execution_count": 381,
   "metadata": {},
   "outputs": [
    {
     "name": "stdout",
     "output_type": "stream",
     "text": [
      "[[1 2 3]\n",
      " [4 5 6]]\n"
     ]
    },
    {
     "data": {
      "text/plain": [
       "array([4, 1, 5, 2, 6, 3])"
      ]
     },
     "execution_count": 381,
     "metadata": {},
     "output_type": "execute_result"
    }
   ],
   "source": [
    "sf_idx = np.array([1, 2, 3, 4, 5, 6]).reshape(2, -1) # Element: rho1_11, rho2_22, rho3_33\n",
    "print(sf_idx)\n",
    "sf_idx[::-1].T.flatten()"
   ]
  },
  {
   "cell_type": "markdown",
   "metadata": {},
   "source": [
    "From StrawberryFields  \n",
    "StrawberyFields_0.11.1/lib/python3.6/site-packages/hafnian/quantum.py  \n",
    "density_matrix_element"
   ]
  },
  {
   "cell_type": "code",
   "execution_count": 382,
   "metadata": {},
   "outputs": [
    {
     "ename": "IndentationError",
     "evalue": "unexpected indent (<ipython-input-382-043ab6dd919d>, line 3)",
     "output_type": "error",
     "traceback": [
      "\u001b[0;36m  File \u001b[0;32m\"<ipython-input-382-043ab6dd919d>\"\u001b[0;36m, line \u001b[0;32m3\u001b[0m\n\u001b[0;31m    beta = Beta(mu, hbar=hbar)\u001b[0m\n\u001b[0m    ^\u001b[0m\n\u001b[0;31mIndentationError\u001b[0m\u001b[0;31m:\u001b[0m unexpected indent\n"
     ]
    }
   ],
   "source": [
    "rpt = i + j # i: row photonNum of modes, j: column photonNum of modes\n",
    "\n",
    "    beta = Beta(mu, hbar=hbar) # (x, p) to (a, a_dagger)\n",
    "    A = Amat(cov, hbar=hbar) # convert to A matrix in the paper\n",
    "    if np.linalg.norm(beta) < tol:\n",
    "        # no displacement\n",
    "        if np.prod([k + 1 for k in rpt]) ** (1 / len(rpt)) < 3:\n",
    "            A_rpt = reduction(A, rpt)\n",
    "            haf = hafnian(A_rpt)\n",
    "        else:\n",
    "            haf = hafnian_repeated(A, rpt)\n",
    "    else:\n",
    "        # replace the diagonal of A with gamma\n",
    "        # gamma = X @ np.linalg.inv(Q).conj() @ beta\n",
    "        gamma = beta.conj() - A @ beta\n",
    "\n",
    "        if np.prod([k + 1 for k in rpt]) ** (1 / len(rpt)) < 3:\n",
    "            A_rpt = reduction(A, rpt)\n",
    "            np.fill_diagonal(A_rpt, reduction(gamma, rpt))\n",
    "            haf = hafnian(A_rpt, loop=True)\n",
    "        else:\n",
    "            haf = hafnian_repeated(A, rpt, mu=gamma, loop=True)\n",
    "\n",
    "    if include_prefactor:\n",
    "        haf *= prefactor(mu, cov, hbar=2)\n",
    "\n",
    "    return haf / np.sqrt(np.prod(fac(rpt)))"
   ]
  }
 ],
 "metadata": {
  "kernelspec": {
   "display_name": "Python 3",
   "language": "python",
   "name": "python3"
  },
  "language_info": {
   "codemirror_mode": {
    "name": "ipython",
    "version": 3
   },
   "file_extension": ".py",
   "mimetype": "text/x-python",
   "name": "python",
   "nbconvert_exporter": "python",
   "pygments_lexer": "ipython3",
   "version": "3.6.5"
  }
 },
 "nbformat": 4,
 "nbformat_minor": 2
}
