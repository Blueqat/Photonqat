{
 "cells": [
  {
   "cell_type": "code",
   "execution_count": 1,
   "metadata": {},
   "outputs": [],
   "source": [
    "import numpy as np\n",
    "from scipy import special\n",
    "import matplotlib.pyplot as plt\n",
    "from scipy.special import factorial as fact\n",
    "import time\n",
    "from scipy.linalg import expm, inv\n",
    "\n",
    "cutoff = 9"
   ]
  },
  {
   "cell_type": "code",
   "execution_count": 2,
   "metadata": {},
   "outputs": [],
   "source": [
    "def downMat(dim, order):    \n",
    "    if order == 0:\n",
    "        A = np.eye(dim)\n",
    "        return A\n",
    "    else:\n",
    "        A = np.zeros([dim, dim])\n",
    "        for i in np.arange(order, dim):\n",
    "            A[i, i - order] = np.prod(np.sqrt(np.arange(i, i - order, -1)))\n",
    "        return A\n",
    "\n",
    "def upMat(dim, order):        \n",
    "    if order == 0:\n",
    "        A = np.eye(dim)\n",
    "        return A\n",
    "    else:\n",
    "        A = np.zeros([dim, dim])\n",
    "        for i in np.arange(0, dim - order):\n",
    "            A[i, i + order] = np.prod(np.sqrt(np.arange(i + 1, i + 1 + order)))\n",
    "        return A\n",
    "\n",
    "def nMat(dim, order):\n",
    "    if order == 0:\n",
    "        A = np.eye(dim)\n",
    "        return A\n",
    "    else:\n",
    "        A = np.diag(np.arange(dim) ** order)\n",
    "        return A"
   ]
  },
  {
   "cell_type": "code",
   "execution_count": 3,
   "metadata": {},
   "outputs": [],
   "source": [
    "def to_2d_ndarray(a):\n",
    "    if isinstance(a,(np.ndarray)):\n",
    "        return a\n",
    "    else:\n",
    "        return np.array([[a]])\n",
    "    \n",
    "def Sonin_vec(n, alpha, x):\n",
    "    n = to_2d_ndarray(n)\n",
    "    alpha = to_2d_ndarray(alpha)\n",
    "    x = to_2d_ndarray(x)        \n",
    "    N = np.max(n)\n",
    "    a = special.factorial(n + alpha)\n",
    "    S = np.zeros([N + 1, x.shape[0], x.shape[0], n.shape[0], n.shape[0]], dtype = \"float64\")\n",
    "    for i in range(N + 1):\n",
    "        if i == 0:\n",
    "            S[0] = 1\n",
    "        elif i == 1:\n",
    "            I = np.where(n - i >= 0, 1, 0)\n",
    "            I = I[np.newaxis, np.newaxis, :, :]\n",
    "            I_bar = np.logical_not(I).astype(\"float64\")\n",
    "            S[1] = (alpha + 1 - x) * I + I_bar\n",
    "        else:\n",
    "            I = np.where(n - i >= 0, 1, 0)\n",
    "            I = I[np.newaxis, np.newaxis, :, :].astype(\"float64\")\n",
    "            I_bar = np.logical_not(I).astype(int)\n",
    "            res = (2 * i - 1 + alpha - x) * S[i - 1] - (i + alpha - 1) * S[i - 2]\n",
    "            S[i] = res / i * I + S[i -1] * I_bar\n",
    "    return S[N]\n",
    "\n",
    "def FockWignerElement_vec(xmat, pmat, l, m):\n",
    "    A = np.max(np.dstack([l, m]), axis=2)\n",
    "    B = np.abs(l - m)\n",
    "    C = np.min(np.dstack([l, m]), axis=2)\n",
    "    xmat = xmat[:, :, np.newaxis, np.newaxis]\n",
    "    pmat = pmat[:, :, np.newaxis, np.newaxis]\n",
    "    R = xmat**2 + pmat**2\n",
    "    X = xmat + np.sign(l-m) * 1j * pmat\n",
    "    W = 2 * (-1)**C * np.sqrt(2**(B) * special.factorial(C) / special.factorial(A)) * X**(B) * np.exp(-R)\n",
    "    S = Sonin_vec(C, B, 2 * R)\n",
    "    return W * S"
   ]
  },
  {
   "cell_type": "markdown",
   "metadata": {},
   "source": [
    "## Multi mode化"
   ]
  },
  {
   "cell_type": "markdown",
   "metadata": {},
   "source": [
    "prepare multi mode Fock state"
   ]
  },
  {
   "cell_type": "code",
   "execution_count": 4,
   "metadata": {},
   "outputs": [],
   "source": [
    "modeNum = 3\n",
    "cutoff = 9\n",
    "def vacuumState(modeNum, cutoff):\n",
    "    fockState = np.zeros([(cutoff + 1) ** modeNum])\n",
    "    fockState[0] = 1\n",
    "    return fockState.reshape([cutoff + 1] * modeNum)"
   ]
  },
  {
   "cell_type": "code",
   "execution_count": 5,
   "metadata": {},
   "outputs": [],
   "source": [
    "def singleGate_preProcess(fockState, mode):\n",
    "    cutoff = fockState.shape[-1] - 1\n",
    "    fockState = np.swapaxes(fockState, mode, fockState.ndim - 1)\n",
    "    return fockState.reshape(-1, cutoff + 1)\n",
    "\n",
    "def twoModeGate_preProcess(fockState, mode1, mode2):\n",
    "    cutoff = fockState.shape[-1] - 1\n",
    "    fockState = np.swapaxes(fockState, mode2, modeNum - 1)\n",
    "    fockState = np.swapaxes(fockState, mode1, modeNum - 2)\n",
    "    return fockState.reshape(-1, cutoff + 1, cutoff + 1)\n",
    "\n",
    "def singleGate_postProcess(fockState, mode, modeNum):\n",
    "    cutoff = fockState.shape[-1] - 1\n",
    "    fockState = fockState.reshape([cutoff + 1] * modeNum)\n",
    "    return np.swapaxes(fockState, mode, modeNum - 1)\n",
    "\n",
    "def twoModeGate_postProcess(fockState, mode1, mode2, modeNum):\n",
    "    cutoff = fockState.shape[-1] - 1\n",
    "    fockState = fockState.reshape([cutoff + 1] * modeNum)\n",
    "    fockState = np.swapaxes(fockState, mode1, modeNum - 2)\n",
    "    fockState = np.swapaxes(fockState, mode2, modeNum - 1)\n",
    "    return fockState"
   ]
  },
  {
   "cell_type": "code",
   "execution_count": 6,
   "metadata": {},
   "outputs": [],
   "source": [
    "def exp_annihirationMat(fockState, alpha, order = 1, cutoff = 10):\n",
    "    row = fockState.shape[0]\n",
    "    mat = downMat(fockState.shape[-1], order)\n",
    "    mat_ = np.empty(mat.shape, dtype=np.complex)\n",
    "    mat_ = expm(alpha * mat)\n",
    "    res = np.dot(fockState, mat_)\n",
    "    return res\n",
    "\n",
    "def exp_creationMat(fockState, alpha, order = 1, cutoff = 10):\n",
    "    row = fockState.shape[0]\n",
    "    mat = upMat(fockState.shape[-1], order)\n",
    "    mat_ = np.empty(mat.shape, dtype=np.complex)\n",
    "    mat_ = expm(alpha * mat)\n",
    "    res = np.dot(fockState, mat_)\n",
    "    return res\n",
    "\n",
    "def exp_photonNumMat(fockState, alpha, order = 1, cutoff = 10):\n",
    "    row = fockState.shape[0]\n",
    "    mat = nMat(fockState.shape[-1], order)\n",
    "    mat_ = np.empty(mat.shape, dtype=np.complex)\n",
    "    mat_ = expm(alpha * mat)\n",
    "    res = np.dot(fockState, mat_)\n",
    "    return res"
   ]
  },
  {
   "cell_type": "code",
   "execution_count": 7,
   "metadata": {},
   "outputs": [],
   "source": [
    "def reduceState(fockState, mode):\n",
    "    modeNum = fockState.ndim\n",
    "    cutoff = fockState.shape[-1] - 1\n",
    "    fockState = np.swapaxes(fockState, mode, 0)\n",
    "    fockState = fockState.flatten()\n",
    "    rho = np.outer(np.conj(fockState), fockState)\n",
    "    for i in range(modeNum - 1):\n",
    "        rho = partialTrace(rho, cutoff)\n",
    "    return  rho\n",
    "\n",
    "def partialTrace(rho, cutoff):\n",
    "    split = np.int(rho.shape[-1] / (cutoff + 1))\n",
    "    rho = np.array(np.split(rho, split, axis = -1))\n",
    "    rho = np.array(np.split(rho, split, axis = -2))\n",
    "    rho = np.trace(rho, axis1 = -2, axis2 = -1)\n",
    "    return  rho"
   ]
  },
  {
   "cell_type": "code",
   "execution_count": 8,
   "metadata": {},
   "outputs": [],
   "source": [
    "def displacement(fockState, mode, alpha, cutoff):\n",
    "    modeNum = fockState.ndim\n",
    "    state = singleGate_preProcess(fockState, mode)\n",
    "    state = exp_annihirationMat(state, -np.conj(alpha), cutoff = cutoff)\n",
    "    state = exp_creationMat(state, alpha, cutoff = cutoff)\n",
    "    state = singleGate_postProcess(state, mode, modeNum)\n",
    "    return state * np.exp(-np.abs(alpha)**2 / 2)"
   ]
  },
  {
   "cell_type": "markdown",
   "metadata": {},
   "source": [
    "### 試してみる"
   ]
  },
  {
   "cell_type": "code",
   "execution_count": 9,
   "metadata": {},
   "outputs": [],
   "source": [
    "alpha1 = (- 1 + 1j)\n",
    "mode1 = 1\n",
    "alpha2 = (1 - 1j)\n",
    "mode2 = 2\n",
    "modeNum = 3\n",
    "cutoff = 10\n",
    "fockState = vacuumState(modeNum, cutoff)\n",
    "state = displacement(fockState, mode1, alpha1, cutoff)\n",
    "state = displacement(state, mode2, alpha2, cutoff)\n",
    "# reducedState0 = reduceState(state, 0)\n",
    "# reducedState1 = reduceState(state, 1)\n",
    "# reducedState2 = reduceState(state, 2)\n",
    "\n",
    "# print(reducedState0)\n",
    "# print(reducedState1)\n",
    "# print(reducedState2)"
   ]
  },
  {
   "cell_type": "code",
   "execution_count": 10,
   "metadata": {},
   "outputs": [],
   "source": [
    "def FockWigner_vec(xmat, pmat, fockState, mode, tol=1e-10):\n",
    "    if fockState.ndim < mode + 1:\n",
    "        raise  ValueError(\"The mode is not exist.\")\n",
    "    if fockState.ndim > 1:\n",
    "        rho = reduceState(fockState, mode)\n",
    "    else:\n",
    "        rho = np.outer(np.conj(fockState), fockState)\n",
    "    dim = len(fockState)\n",
    "    grid = np.indices([dim, dim])\n",
    "    W = FockWignerElement_vec(xmat, pmat, grid[0], grid[1])\n",
    "    W = rho * W\n",
    "    W = np.sum(np.sum(W, axis = -1), axis = -1)\n",
    "    if np.max(np.imag(W)) < tol:\n",
    "        W = np.real(W)\n",
    "    else:\n",
    "        raise ValueError(\"Wigner plot has imaginary value.\")\n",
    "    return W"
   ]
  },
  {
   "cell_type": "code",
   "execution_count": 11,
   "metadata": {},
   "outputs": [
    {
     "name": "stdout",
     "output_type": "stream",
     "text": [
      "0.30841970443725586\n"
     ]
    },
    {
     "data": {
      "image/png": "[encoded data removed]",
      "text/plain": [
       "<Figure size 432x288 with 1 Axes>"
      ]
     },
     "metadata": {
      "needs_background": "light"
     },
     "output_type": "display_data"
    }
   ],
   "source": [
    "x = np.arange(-5, 5, 0.1)\n",
    "p = np.arange(-5, 5, 0.1)\n",
    "m = len(x)\n",
    "xx, pp = np.meshgrid(x, p)\n",
    "xi_array = np.dstack((pp, xx))\n",
    "start = time.time()\n",
    "        \n",
    "W = FockWigner_vec(xx, pp, state, 1)\n",
    "\n",
    "h = plt.contourf(x, p, W)\n",
    "t = time.time() - start\n",
    "print(t)"
   ]
  },
  {
   "cell_type": "markdown",
   "metadata": {},
   "source": [
    "### Beam Splitter"
   ]
  },
  {
   "cell_type": "markdown",
   "metadata": {},
   "source": [
    "$\\hat{H} = i\\hbar \\theta (\\hat{a}_{1}^{\\dagger}\\hat{a}_{2} -\\hat{a}_{1}  \\hat{a}_{2}^{\\dagger})$\n",
    "\n",
    "$BSgate = \\exp(\\frac{i}{\\hbar}\\hat{H})$"
   ]
  },
  {
   "cell_type": "code",
   "execution_count": 12,
   "metadata": {},
   "outputs": [
    {
     "data": {
      "text/plain": [
       "array([[ 0,  1,  2,  3,  4,  5,  6,  7,  8],\n",
       "       [ 9, 10, 11, 12, 13, 14, 15, 16, 17],\n",
       "       [18, 19, 20, 21, 22, 23, 24, 25, 26]])"
      ]
     },
     "execution_count": 12,
     "metadata": {},
     "output_type": "execute_result"
    }
   ],
   "source": [
    "A = np.arange(27).reshape(3, 3, 3)\n",
    "A.reshape(-1, 9)"
   ]
  },
  {
   "cell_type": "code",
   "execution_count": 48,
   "metadata": {},
   "outputs": [],
   "source": [
    "def twoModeGate_preProcess2(fockState, mode1, mode2):\n",
    "    cutoff = fockState.shape[-1] - 1\n",
    "    modeNum = fockState.ndim\n",
    "    fockState = np.swapaxes(fockState, mode2, modeNum - 1)\n",
    "    fockState = np.swapaxes(fockState, mode1, modeNum - 2)\n",
    "    return fockState.reshape(-1, (cutoff + 1) ** 2)\n",
    "\n",
    "def twoModeGate_postProcess2(fockState, mode1, mode2, modeNum):\n",
    "    dim = np.int(np.sqrt(fockState.shape[-1]))\n",
    "    fockState = fockState.reshape([dim] * modeNum)\n",
    "    fockState = np.swapaxes(fockState, mode1, modeNum - 2)\n",
    "    fockState = np.swapaxes(fockState, mode2, modeNum - 1)\n",
    "    return fockState"
   ]
  },
  {
   "cell_type": "code",
   "execution_count": 49,
   "metadata": {},
   "outputs": [],
   "source": [
    "def ab_ba(fockState, cutoff):\n",
    "    state = np.zeros(fockState.shape) + 0j\n",
    "    dim = cutoff + 1\n",
    "    a = np.arange(dim) * np.ones([dim, dim])\n",
    "    ind1 = np.ravel(a, order = 'F').astype(np.int)\n",
    "    ind2 = np.ravel(a, order = 'K').astype(np.int)\n",
    "    coef =  fockState[:, ind1, ind2]\n",
    "    down1 = down(1, ind1)\n",
    "    up2 = up(1, ind2, cutoff)\n",
    "    state[:, down1[1], up2[1]] -= down1[0] * up2[0] * coef\n",
    "\n",
    "    up1 = up(1, ind1, cutoff)\n",
    "    down2 = down(1, ind2)\n",
    "    state[:, up1[1], down2[1]] += up1[0] * down2[0] * coef\n",
    "    return state\n",
    "\n",
    "def pow_ab_ba(fockState, n, cutoff):\n",
    "    state = np.copy(fockState)\n",
    "    if n == 0:\n",
    "        return state\n",
    "    else:\n",
    "        for i in range(n):\n",
    "            state = ab_ba(state, cutoff)\n",
    "        return state\n",
    "\n",
    "def exp_BS(fockState, alpha, cutoff):\n",
    "    state = np.zeros(fockState.shape) + 0j\n",
    "    for i in range(2 * cutoff + 1): # order\n",
    "        tmpstate = np.copy(fockState)\n",
    "        tmpstate = pow_ab_ba(tmpstate, i, cutoff)\n",
    "        tmpstate = tmpstate / special.factorial([i]) * alpha ** i\n",
    "        state += tmpstate\n",
    "    return state"
   ]
  },
  {
   "cell_type": "code",
   "execution_count": 50,
   "metadata": {},
   "outputs": [],
   "source": [
    "def exp_BSMat(fockState, alpha, cutoff):\n",
    "    state = np.zeros(fockState.shape) + 0j\n",
    "    down = downMat(cutoff + 1, 1)\n",
    "    up = upMat(cutoff + 1, 1)\n",
    "    mat1_ = np.dot(mat_for_mode1(up), mat_for_mode2(down))\n",
    "    mat2_ = np.dot(mat_for_mode1(down), mat_for_mode2(up))\n",
    "    mat_ = mat1_ - mat2_\n",
    "    emat_ = expm(alpha * mat_)\n",
    "    res = np.dot(fockState, emat_)\n",
    "    return res\n",
    "\n",
    "def mat_for_mode2(mat):\n",
    "    l = mat.shape[0]\n",
    "    mat_ = np.zeros(np.array(mat.shape)**2)\n",
    "    for i in range(mat.shape[0]):\n",
    "        mat_[i*l:i*l+l, i*l:i*l+l] = mat\n",
    "    return mat_\n",
    "\n",
    "def mat_for_mode1(mat):\n",
    "    l = mat.shape[0]\n",
    "    mat_ = np.zeros(np.array(mat.shape)**2)\n",
    "    for i in range(mat.shape[0]):\n",
    "        for j in range(mat.shape[0]):\n",
    "            mat_[i*l:i*l+l, j*l:j*l+l] = np.eye(l) * mat[i, j]\n",
    "    return mat_\n",
    "\n",
    "def BSmat(fockState, mode1, mode2, theta, cutoff):\n",
    "    modeNum = fockState.ndim\n",
    "    if modeNum < 2:\n",
    "        raise ValueError(\"The gate requires more than one mode.\")\n",
    "    state = twoModeGate_preProcess2(fockState, mode1, mode2)\n",
    "    state = exp_BSMat(state, -theta, cutoff)\n",
    "    state = twoModeGate_postProcess2(state, mode1, mode2, modeNum)\n",
    "    return state"
   ]
  },
  {
   "cell_type": "code",
   "execution_count": 51,
   "metadata": {},
   "outputs": [],
   "source": [
    "def BS(fockState, mode1, mode2, theta, cutoff):\n",
    "    modeNum = fockState.ndim\n",
    "    if modeNum < 2:\n",
    "        raise ValueError(\"The gate requires more than one mode.\")\n",
    "    state = twoModeGate_preProcess(fockState, mode1, mode2)\n",
    "    state = exp_BS(state, -theta, cutoff)\n",
    "    state = twoModeGate_postProcess(state, mode1, mode2, modeNum)\n",
    "    return state"
   ]
  },
  {
   "cell_type": "code",
   "execution_count": 62,
   "metadata": {},
   "outputs": [
    {
     "name": "stdout",
     "output_type": "stream",
     "text": [
      "0.9999999995200304\n",
      "0.9999999995200297\n",
      "0.04891204833984375\n"
     ]
    }
   ],
   "source": [
    "alpha = (1 + 1j)\n",
    "mode = 2\n",
    "modeNum = 3\n",
    "cutoff = 15\n",
    "start = time.time()\n",
    "state = vacuumState(modeNum, cutoff)\n",
    "state = displacement(state, mode, alpha, cutoff)\n",
    "print(np.sum(np.abs(state)**2))\n",
    "state2 = BSmat(state, 1, 2, np.pi / 4, cutoff)\n",
    "print(np.sum(np.abs(state2)**2))\n",
    "t = time.time() - start\n",
    "print(t)"
   ]
  },
  {
   "cell_type": "code",
   "execution_count": 66,
   "metadata": {},
   "outputs": [
    {
     "name": "stdout",
     "output_type": "stream",
     "text": [
      "1.3115589618682861\n"
     ]
    },
    {
     "data": {
      "image/png": "[encoded data removed]",
      "text/plain": [
       "<Figure size 432x288 with 1 Axes>"
      ]
     },
     "metadata": {
      "needs_background": "light"
     },
     "output_type": "display_data"
    }
   ],
   "source": [
    "x = np.arange(-5, 5, 0.1)\n",
    "p = np.arange(-5, 5, 0.1)\n",
    "m = len(x)\n",
    "xx, pp = np.meshgrid(x, p)\n",
    "xi_array = np.dstack((pp, xx))\n",
    "start = time.time()\n",
    "        \n",
    "W1 = FockWigner_vec(xx, pp, state2, 1)\n",
    "\n",
    "h = plt.contourf(x, p, W1)\n",
    "t = time.time() - start\n",
    "print(t)"
   ]
  },
  {
   "cell_type": "markdown",
   "metadata": {},
   "source": [
    "## For Check"
   ]
  },
  {
   "cell_type": "code",
   "execution_count": 26,
   "metadata": {},
   "outputs": [],
   "source": [
    "import sys\n",
    "sys.path.append('../')\n",
    "\n",
    "import photonqat as pq\n",
    "import strawberryfields as sf\n",
    "from strawberryfields.ops import *"
   ]
  },
  {
   "cell_type": "code",
   "execution_count": 27,
   "metadata": {},
   "outputs": [
    {
     "name": "stdout",
     "output_type": "stream",
     "text": [
      "mu0 = [0. 0.]\n",
      "mu1 = [1. 1.]\n",
      "mu2 = [1. 1.]\n"
     ]
    }
   ],
   "source": [
    "G = pq.Gaussian(3)\n",
    "#G.Displace(0, alpha) # Displacement gate, x to x+2\n",
    "G.Displace(2, alpha) # Displacement gate, x to x+2\n",
    "G.BS(1, 2, -np.pi/4) # 50:50 beam splitter\n",
    "\n",
    "print('mu0 =', G.mean(0))\n",
    "print('mu1 =', G.mean(1))\n",
    "print('mu2 =', G.mean(2))"
   ]
  },
  {
   "cell_type": "code",
   "execution_count": 28,
   "metadata": {},
   "outputs": [
    {
     "name": "stdout",
     "output_type": "stream",
     "text": [
      "mu0 = [0. 0.]\n",
      "mu1 = [1. 1.]\n",
      "mu2 = [1. 1.]\n"
     ]
    }
   ],
   "source": [
    "eng = sf.Engine(backend=\"gaussian\")\n",
    "gaussian = sf.Program(3)\n",
    "\n",
    "with gaussian.context as q:\n",
    "        sf.hbar = 1\n",
    "        # prepare the initial states\n",
    "        Dgate(alpha) | q[2] # displacement gate\n",
    "        BSgate(-np.pi/4, 0) | (q[1], q[2])  # 50-50 beamsplitter\n",
    "\n",
    "\n",
    "results = eng.run(gaussian)\n",
    "mu0, cov0 = results.state.reduced_gaussian([0])\n",
    "mu1, cov1 = results.state.reduced_gaussian([1])\n",
    "mu2, cov2 = results.state.reduced_gaussian([2])\n",
    "print('mu0 =', mu0)\n",
    "print('mu1 =', mu1)\n",
    "print('mu2 =', mu2)"
   ]
  },
  {
   "cell_type": "markdown",
   "metadata": {},
   "source": [
    "Generate beamsplitter factors in the Fock basis.\n",
    "\n",
    "This function generates the beamsplitter prefactors,\n",
    "\n",
    "$ prefac_{N,n,M,m,k} = (-1)^{N-k}\\sqrt{binom(n,k)binom(m,N-k)binom(N,k)binom(M,n-k)}$\n",
    "\n",
    "for a specific cutoff dimension $D$.\n",
    "\n",
    "Note that the last dimension will only contain non-zero values\n",
    "for indices $0$ to $n$\n",
    "\n",
    "Args:\n",
    "D (int): generate prefactors for $D$ dimensions."
   ]
  },
  {
   "cell_type": "code",
   "execution_count": null,
   "metadata": {},
   "outputs": [],
   "source": []
  }
 ],
 "metadata": {
  "kernelspec": {
   "display_name": "Python 3",
   "language": "python",
   "name": "python3"
  },
  "language_info": {
   "codemirror_mode": {
    "name": "ipython",
    "version": 3
   },
   "file_extension": ".py",
   "mimetype": "text/x-python",
   "name": "python",
   "nbconvert_exporter": "python",
   "pygments_lexer": "ipython3",
   "version": "3.6.5"
  }
 },
 "nbformat": 4,
 "nbformat_minor": 2
}
