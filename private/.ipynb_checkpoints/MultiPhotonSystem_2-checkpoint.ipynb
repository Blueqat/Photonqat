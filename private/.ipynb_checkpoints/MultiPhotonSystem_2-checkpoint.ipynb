{
 "cells": [
  {
   "cell_type": "code",
   "execution_count": 1,
   "metadata": {},
   "outputs": [],
   "source": [
    "import numpy as np\n",
    "from scipy import special\n",
    "import matplotlib.pyplot as plt\n",
    "import time\n",
    "\n",
    "cutoffDim = 9"
   ]
  },
  {
   "cell_type": "code",
   "execution_count": 109,
   "metadata": {},
   "outputs": [],
   "source": [
    "def down(order, n, cutoff = 10):\n",
    "    if order > n:\n",
    "        return [0, 0]\n",
    "    n_ = n - order\n",
    "    coeff = np.prod(np.sqrt(np.arange(n, n - order, -1)))\n",
    "    return [coeff, n_]\n",
    "\n",
    "def up(order, n, cutoff = 10):\n",
    "    n_ = n + order\n",
    "    if n_ > cutoff:\n",
    "        return [0, 0]\n",
    "    coeff = np.prod(np.sqrt(np.arange(n + 1, n + 1 + order)))\n",
    "    return [coeff, n_]\n",
    "\n",
    "def photonNum(order, n, cutoff = 10):\n",
    "    coeff = n ** order\n",
    "    return [coeff, n]\n",
    "\n",
    "def to_2d_ndarray(a):\n",
    "    if isinstance(a,(np.ndarray)):\n",
    "        return a\n",
    "    else:\n",
    "        return np.array([[a]])\n",
    "    \n",
    "def Sonin_vec(n, alpha, x):\n",
    "    n = to_2d_ndarray(n)\n",
    "    alpha = to_2d_ndarray(alpha)\n",
    "    x = to_2d_ndarray(x)        \n",
    "    N = np.max(n)\n",
    "    a = special.factorial(n + alpha)\n",
    "    S = np.zeros([N + 1, x.shape[0], x.shape[0], n.shape[0], n.shape[0]], dtype = \"float64\")\n",
    "    for i in range(N + 1):\n",
    "        if i == 0:\n",
    "            S[0] = 1\n",
    "        elif i == 1:\n",
    "            I = np.where(n - i >= 0, 1, 0)\n",
    "            I = I[np.newaxis, np.newaxis, :, :]\n",
    "            I_bar = np.logical_not(I).astype(\"float64\")\n",
    "            S[1] = (alpha + 1 - x) * I + I_bar\n",
    "        else:\n",
    "            I = np.where(n - i >= 0, 1, 0)\n",
    "            I = I[np.newaxis, np.newaxis, :, :].astype(\"float64\")\n",
    "            I_bar = np.logical_not(I).astype(int)\n",
    "            res = (2 * i - 1 + alpha - x) * S[i - 1] - (i + alpha - 1) * S[i - 2]\n",
    "            S[i] = res / i * I + S[i -1] * I_bar\n",
    "    return S[N]\n",
    "\n",
    "def FockWignerElement_vec(xmat, pmat, l, m):\n",
    "    A = np.max(np.dstack([l, m]), axis=2)\n",
    "    B = np.abs(l - m)\n",
    "    C = np.min(np.dstack([l, m]), axis=2)\n",
    "    xmat = xmat[:, :, np.newaxis, np.newaxis]\n",
    "    pmat = pmat[:, :, np.newaxis, np.newaxis]\n",
    "    R = xmat**2 + pmat**2\n",
    "    X = xmat + np.sign(l-m) * 1j * pmat\n",
    "    W = 2 * (-1)**C * np.sqrt(2**(B) * special.factorial(C) / special.factorial(A)) * X**(B) * np.exp(-R)\n",
    "    S = Sonin_vec(C, B, 2 * R)\n",
    "    return W * S"
   ]
  },
  {
   "cell_type": "markdown",
   "metadata": {},
   "source": [
    "## Multi mode化"
   ]
  },
  {
   "cell_type": "markdown",
   "metadata": {},
   "source": [
    "prepare multi mode Fock state"
   ]
  },
  {
   "cell_type": "code",
   "execution_count": 110,
   "metadata": {},
   "outputs": [
    {
     "data": {
      "text/plain": [
       "array([[1.+0.j, 0.+0.j, 0.+0.j, 0.+0.j, 0.+0.j, 0.+0.j, 0.+0.j, 0.+0.j,\n",
       "        0.+0.j, 0.+0.j],\n",
       "       [1.+0.j, 0.+0.j, 0.+0.j, 0.+0.j, 0.+0.j, 0.+0.j, 0.+0.j, 0.+0.j,\n",
       "        0.+0.j, 0.+0.j],\n",
       "       [1.+0.j, 0.+0.j, 0.+0.j, 0.+0.j, 0.+0.j, 0.+0.j, 0.+0.j, 0.+0.j,\n",
       "        0.+0.j, 0.+0.j]])"
      ]
     },
     "execution_count": 110,
     "metadata": {},
     "output_type": "execute_result"
    }
   ],
   "source": [
    "modeNum = 3\n",
    "cutoffDim = 9\n",
    "def vacuumState(modeNum, cutoffDim):\n",
    "    fockState = np.zeros([modeNum, cutoffDim + 1]) + 0j\n",
    "    fockState[:, 0] = 1\n",
    "    return fockState\n",
    "vacuumState(modeNum, cutoffDim)"
   ]
  },
  {
   "cell_type": "code",
   "execution_count": 111,
   "metadata": {},
   "outputs": [],
   "source": [
    "def singleGate_preProcess(fockState, mode):\n",
    "    fockState = np.swapaxes(fockState, mode, modeNum - 1)\n",
    "    return fockState.reshape(-1, cutoffDim + 1)\n",
    "\n",
    "def singleGate_postProcess(fockState, mode):\n",
    "    fockState = fockState.reshape([cutoffDim + 1] * modeNum)\n",
    "    return np.swapaxes(fockState, mode, modeNum - 1)\n",
    "\n",
    "def exp_annihiration(fockState, alpha, cutoff):\n",
    "    state = np.zeros(fockState.shape) + 0j\n",
    "    for j in range(fockState.shape[-1]):\n",
    "        for i in range(cutoff + 1):\n",
    "            tmp =  down(i, j) # order, n\n",
    "            state[np.int(tmp[1])] += tmp[0] * fockState[j] / special.factorial([i]) * alpha ** i\n",
    "    return state\n",
    "\n",
    "def exp_creation(fockState, alpha, cutoff):\n",
    "    state = np.zeros(fockState.shape) + 0j\n",
    "    for j in range(fockState.shape[-1]):\n",
    "        for i in range(cutoff + 1):\n",
    "            tmp =  up(i, j, cutoffDim)\n",
    "            state[np.int(tmp[1])] += tmp[0] * fockState[j] / special.factorial([i]) * alpha ** i\n",
    "    return state\n",
    "\n",
    "def exp_photonNum(fockState, alpha, cutoff):\n",
    "    state = np.zeros(fockState.shape) + 0j\n",
    "    for j in range(fockState.shape[-1]):\n",
    "        for i in range(cutoff + 1):\n",
    "            tmp =  photonNum(i, j, cutoffDim)\n",
    "            state[np.int(tmp[1])] += tmp[0] * fockState[j] / special.factorial([i]) * alpha ** i\n",
    "    return state\n",
    "\n",
    "def exp_twoMode(state1, state2, alpha, cutoff):\n",
    "    state1_ = np.zeros(state1.shape) + 0j\n",
    "    state2_ = np.zeros(state2.shape) + 0j\n",
    "    for j in range(state1.shape[-1]):\n",
    "        for i in range(cutoff + 1):\n",
    "            tmp1 = down(i, j, cutoffDim)\n",
    "            tmp2 = up(i, j, cutoffDim)\n",
    "            state1_[np.int(tmp1[1])] += tmp1[0] * state1[j] / special.factorial([i]) * alpha ** i\n",
    "            state2_[np.int(tmp2[1])] += tmp2[0] * state2[j] / special.factorial([i]) * alpha ** i\n",
    "    return [state1_, state2_]"
   ]
  },
  {
   "cell_type": "code",
   "execution_count": 112,
   "metadata": {},
   "outputs": [
    {
     "data": {
      "text/plain": [
       "(0.4725017055412994+0.0205017443244588j)"
      ]
     },
     "execution_count": 112,
     "metadata": {},
     "output_type": "execute_result"
    }
   ],
   "source": [
    "def reduceState(fockState, mode):\n",
    "    ax = [i for i in range(modeNum) if i != mode]\n",
    "    state = fockState.sum(axis = tuple(ax))\n",
    "    return  state / np.sum(np.abs(state)**2)\n",
    "reduceState(fockState, 2)"
   ]
  },
  {
   "cell_type": "code",
   "execution_count": 113,
   "metadata": {},
   "outputs": [],
   "source": [
    "def displacement(fockState, mode, alpha, cutoff):\n",
    "    state = fockState[mode]\n",
    "    state = exp_annihiration(state, -np.conj(alpha), cutoff)\n",
    "    state = exp_creation(state, alpha, cutoff)\n",
    "    state = state * np.exp(-np.abs(alpha)**2 / 2)\n",
    "    fockState[mode] = state\n",
    "    return fockState"
   ]
  },
  {
   "cell_type": "markdown",
   "metadata": {},
   "source": [
    "### 試してみる"
   ]
  },
  {
   "cell_type": "code",
   "execution_count": 114,
   "metadata": {},
   "outputs": [
    {
     "name": "stdout",
     "output_type": "stream",
     "text": [
      "[[ 1.        +0.j          0.        +0.j          0.        +0.j\n",
      "   0.        +0.j          0.        +0.j          0.        +0.j\n",
      "   0.        +0.j          0.        +0.j          0.        +0.j\n",
      "   0.        +0.j        ]\n",
      " [ 1.        +0.j          0.        +0.j          0.        +0.j\n",
      "   0.        +0.j          0.        +0.j          0.        +0.j\n",
      "   0.        +0.j          0.        +0.j          0.        +0.j\n",
      "   0.        +0.j        ]\n",
      " [ 0.36787944+0.j         -0.36787944+0.36787944j  0.        -0.5202601j\n",
      "   0.30037231+0.30037231j -0.30037231+0.j          0.13433058-0.13433058j\n",
      "   0.        +0.10968046j -0.04145532-0.04145532j  0.02931334+0.j\n",
      "  -0.00977111+0.00977111j]]\n"
     ]
    }
   ],
   "source": [
    "alpha = - 1 + 1j\n",
    "mode = 2\n",
    "fockState = vacuumState(modeNum, cutoffDim)\n",
    "state = displacement(fockState, mode, alpha, cutoffDim)\n",
    "print(state)"
   ]
  },
  {
   "cell_type": "code",
   "execution_count": 115,
   "metadata": {},
   "outputs": [],
   "source": [
    "def FockWigner_vec(xmat, pmat, fockState, mode, tol=1e-10):\n",
    "    state = fockState[mode]\n",
    "    dim = len(state)\n",
    "    rho = np.outer(np.conj(state), state)\n",
    "    grid = np.indices([dim, dim])\n",
    "    W = FockWignerElement_vec(xmat, pmat, grid[0], grid[1])\n",
    "    W = rho * W\n",
    "    W = np.sum(np.sum(W, axis = -1), axis = -1)\n",
    "    if np.max(np.imag(W)) < tol:\n",
    "        W = np.real(W)\n",
    "    else:\n",
    "        raise ValueError(\"Wigner plot has imaginary value.\")\n",
    "    return W"
   ]
  },
  {
   "cell_type": "code",
   "execution_count": 173,
   "metadata": {},
   "outputs": [
    {
     "name": "stdout",
     "output_type": "stream",
     "text": [
      "0.2901649475097656\n"
     ]
    },
    {
     "data": {
      "image/png": "[encoded data removed]",
      "text/plain": [
       "<Figure size 432x288 with 1 Axes>"
      ]
     },
     "metadata": {
      "needs_background": "light"
     },
     "output_type": "display_data"
    }
   ],
   "source": [
    "x = np.arange(-5, 5, 0.1)\n",
    "p = np.arange(-5, 5, 0.1)\n",
    "m = len(x)\n",
    "xx, pp = np.meshgrid(x, p)\n",
    "xi_array = np.dstack((pp, xx))\n",
    "start = time.time()\n",
    "        \n",
    "W = FockWigner_vec(xx, pp, state, 2)\n",
    "\n",
    "h = plt.contourf(x, p, W)\n",
    "t = time.time() - start\n",
    "print(t)"
   ]
  },
  {
   "cell_type": "markdown",
   "metadata": {},
   "source": [
    "### Beam Splitter"
   ]
  },
  {
   "cell_type": "code",
   "execution_count": 123,
   "metadata": {},
   "outputs": [],
   "source": [
    "def BSgate(fockState, mode1, mode2, theta, cutoff):\n",
    "    fockState_ = np.copy(fockState)\n",
    "    a = np.copy(fockState[mode1])\n",
    "    b = np.copy(fockState[mode2])\n",
    "    b_ = exp_photonNum(b, -0.5 * theta**2, cutoff)\n",
    "    a_ = exp_photonNum(a, 0.5 * theta**2, cutoff)\n",
    "    [a_, b_] = exp_twoMode(a_, b_, -theta, cutoff)\n",
    "    [b_, a_] = exp_twoMode(b_, a_, theta, cutoff)\n",
    "    fockState_[mode1] = a_\n",
    "    fockState_[mode2] = b_\n",
    "    return fockState_"
   ]
  },
  {
   "cell_type": "code",
   "execution_count": 140,
   "metadata": {},
   "outputs": [
    {
     "name": "stdout",
     "output_type": "stream",
     "text": [
      "[[1.+0.j 0.+0.j 0.+0.j 0.+0.j 0.+0.j 0.+0.j 0.+0.j 0.+0.j 0.+0.j 0.+0.j]\n",
      " [1.+0.j 0.+0.j 0.+0.j 0.+0.j 0.+0.j 0.+0.j 0.+0.j 0.+0.j 0.+0.j 0.+0.j]\n",
      " [1.+0.j 0.+0.j 0.+0.j 0.+0.j 0.+0.j 0.+0.j 0.+0.j 0.+0.j 0.+0.j 0.+0.j]]\n",
      "[[ 1.00000000e+00+0.j  0.00000000e+00+0.j  0.00000000e+00+0.j\n",
      "   0.00000000e+00+0.j  0.00000000e+00+0.j  0.00000000e+00+0.j\n",
      "   0.00000000e+00+0.j  0.00000000e+00+0.j  0.00000000e+00+0.j\n",
      "   0.00000000e+00+0.j]\n",
      " [ 1.00000000e+00+0.j  7.85398163e-01+0.j  4.36179012e-01+0.j\n",
      "   1.97785304e-01+0.j  7.76701072e-02+0.j  2.72809057e-02+0.j\n",
      "   8.74728023e-03+0.j  2.59665291e-03+0.j  7.21039056e-04+0.j\n",
      "   1.88767583e-04+0.j]\n",
      " [ 5.39641484e-01+0.j -4.23833458e-01+0.j  2.35380078e-01+0.j\n",
      "  -1.06734393e-01+0.j  4.19085551e-02+0.j -1.47402955e-02+0.j\n",
      "   4.67352163e-03+0.j -1.48892559e-03+0.j  2.76265916e-04+0.j\n",
      "  -1.88767583e-04+0.j]]\n",
      "0.18443703651428223\n"
     ]
    },
    {
     "data": {
      "image/png": "[encoded data removed]",
      "text/plain": [
       "<Figure size 432x288 with 1 Axes>"
      ]
     },
     "metadata": {
      "needs_background": "light"
     },
     "output_type": "display_data"
    }
   ],
   "source": [
    "alpha = - 1 + 1j\n",
    "mode = 2\n",
    "fockState = vacuumState(modeNum, cutoffDim)\n",
    "#fockState = displacement(fockState, mode, alpha, cutoffDim)\n",
    "#state2 = displacement(fockState, mode, alpha / 2, cutoffDim)\n",
    "print(fockState)\n",
    "\n",
    "afterState = BSgate(fockState, 1, 2, np.pi / 4, cutoffDim)\n",
    "print(afterState)\n",
    "x = np.arange(-5, 5, 0.1)\n",
    "p = np.arange(-5, 5, 0.1)\n",
    "m = len(x)\n",
    "xx, pp = np.meshgrid(x, p)\n",
    "xi_array = np.dstack((pp, xx))\n",
    "start = time.time()\n",
    "        \n",
    "W = FockWigner_vec(xx, pp, afterState, 1)\n",
    "\n",
    "h = plt.contourf(x, p, W)\n",
    "t = time.time() - start\n",
    "print(t)"
   ]
  },
  {
   "cell_type": "markdown",
   "metadata": {},
   "source": [
    "7.78800783e-01+0.00000000e+00j -3.89400392e-01+3.89400392e-01j\n",
    "   0.00000000e+00-2.75347657e-01j  7.94860221e-02+7.94860221e-02j\n",
    "  -3.97430110e-02+0.00000000e+00j  8.88680743e-03-8.88680743e-03j\n",
    "   0.00000000e+00+3.62802394e-03j -6.85632079e-04-6.85632079e-04j\n",
    "   2.42407546e-04+0.00000000e+00j -4.04012577e-05+4.04012577e-05j]]\n",
    "0.19344210624694824"
   ]
  },
  {
   "cell_type": "code",
   "execution_count": 159,
   "metadata": {},
   "outputs": [
    {
     "name": "stdout",
     "output_type": "stream",
     "text": [
      "[1.+0.j 0.+0.j 0.+0.j 0.+0.j 0.+0.j 0.+0.j 0.+0.j 0.+0.j 0.+0.j 0.+0.j]\n",
      "[1.+0.j 0.+0.j 0.+0.j 0.+0.j 0.+0.j 0.+0.j 0.+0.j 0.+0.j 0.+0.j 0.+0.j]\n",
      "[ 1.00000000e+00+0.j -7.85398163e-01+0.j  4.36179012e-01+0.j\n",
      " -1.97785304e-01+0.j  7.76701072e-02+0.j -2.72809057e-02+0.j\n",
      "  8.74728023e-03+0.j -2.59665291e-03+0.j  7.21039056e-04+0.j\n",
      " -1.88767583e-04+0.j]\n",
      "[1.00000000e+00+0.j 7.85398163e-01+0.j 4.36179012e-01+0.j\n",
      " 1.97785304e-01+0.j 7.76701072e-02+0.j 2.72809057e-02+0.j\n",
      " 8.74728023e-03+0.j 2.59665291e-03+0.j 7.21039056e-04+0.j\n",
      " 1.88767583e-04+0.j]\n",
      "[ 5.39641484e-01+0.j -4.23833458e-01+0.j  2.35380078e-01+0.j\n",
      " -1.06734393e-01+0.j  4.19085551e-02+0.j -1.47402955e-02+0.j\n",
      "  4.67352163e-03+0.j -1.48892559e-03+0.j  2.76265916e-04+0.j\n",
      " -1.88767583e-04+0.j]\n"
     ]
    }
   ],
   "source": [
    "cutoff = 9\n",
    "a = np.zeros(cutoff + 1)\n",
    "b = np.zeros(cutoff + 1)\n",
    "a[0] = 1\n",
    "b[0] = 1\n",
    "b_ = exp_photonNum(b, -0.5 * theta**2, cutoff)\n",
    "print(b_)\n",
    "[a_, b_] = exp_twoMode(a, b, -theta, cutoff)\n",
    "print(a_)\n",
    "print(b_)\n",
    "[b_, a_] = exp_twoMode(b_, a_, theta, cutoff)\n",
    "print(a_)\n",
    "print(b_)"
   ]
  },
  {
   "cell_type": "code",
   "execution_count": 164,
   "metadata": {},
   "outputs": [
    {
     "name": "stdout",
     "output_type": "stream",
     "text": [
      "[1.+0.j 0.+0.j 0.+0.j 0.+0.j 0.+0.j 0.+0.j 0.+0.j 0.+0.j 0.+0.j 0.+0.j]\n"
     ]
    },
    {
     "data": {
      "text/plain": [
       "array([1.        +0.j, 1.        +0.j, 0.70710678+0.j, 0.40824829+0.j,\n",
       "       0.20412415+0.j, 0.09128709+0.j, 0.0372678 +0.j, 0.0140859 +0.j,\n",
       "       0.00498012+0.j, 0.00166004+0.j])"
      ]
     },
     "execution_count": 164,
     "metadata": {},
     "output_type": "execute_result"
    }
   ],
   "source": [
    "cutoff = 9\n",
    "a = np.zeros(cutoff + 1)\n",
    "a[0] = 1\n",
    "state = exp_annihiration(a, 1, cutoff)\n",
    "print(state)\n",
    "state = exp_creation(a, 1, cutoff)\n",
    "state"
   ]
  },
  {
   "cell_type": "code",
   "execution_count": null,
   "metadata": {},
   "outputs": [],
   "source": []
  }
 ],
 "metadata": {
  "kernelspec": {
   "display_name": "Python 3",
   "language": "python",
   "name": "python3"
  },
  "language_info": {
   "codemirror_mode": {
    "name": "ipython",
    "version": 3
   },
   "file_extension": ".py",
   "mimetype": "text/x-python",
   "name": "python",
   "nbconvert_exporter": "python",
   "pygments_lexer": "ipython3",
   "version": "3.6.5"
  }
 },
 "nbformat": 4,
 "nbformat_minor": 2
}
