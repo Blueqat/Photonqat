{
 "cells": [
  {
   "cell_type": "code",
   "execution_count": 27,
   "metadata": {},
   "outputs": [],
   "source": [
    "import numpy as np\n",
    "from scipy import special"
   ]
  },
  {
   "cell_type": "code",
   "execution_count": 28,
   "metadata": {},
   "outputs": [],
   "source": [
    "cutoffDim = 9"
   ]
  },
  {
   "cell_type": "markdown",
   "metadata": {},
   "source": [
    "$$\\newcommand{\\braket}[2]{\\left\\langle{#1}\\middle|{#2}\\right\\rangle}$$\n",
    "$$\\newcommand{\\ket}[1]{\\left|{#1}\\right\\rangle}$$\n",
    "$$\\newcommand{\\bra}[1]{\\left\\langle{#1}\\right|}$$"
   ]
  },
  {
   "cell_type": "markdown",
   "metadata": {},
   "source": [
    "## Photon number stateの例. \n",
    "Coherent stateはPhoton Number Stateにより一般に以下のように表される。\n",
    "\n",
    "$\\ket{\\alpha} = \\exp{(-|\\alpha|^{2} / 2)} \\sum_n \\frac{\\alpha^n}{\\sqrt{n!}} \\ket{n}$"
   ]
  },
  {
   "cell_type": "code",
   "execution_count": 29,
   "metadata": {},
   "outputs": [],
   "source": [
    "def coherentState(alpha, cutoff = 10):\n",
    "    dim = cutoff + 1\n",
    "    n = np.arange(dim)\n",
    "    state = np.exp(- 0.5 * np.abs(alpha)**2) / np.sqrt(special.factorial([n])) * alpha**n\n",
    "    return state"
   ]
  },
  {
   "cell_type": "code",
   "execution_count": 30,
   "metadata": {},
   "outputs": [
    {
     "name": "stdout",
     "output_type": "stream",
     "text": [
      "[[ 0.36787944+0.j          0.36787944+0.36787944j  0.        +0.5202601j\n",
      "  -0.30037231+0.30037231j -0.30037231+0.j         -0.13433058-0.13433058j\n",
      "   0.        -0.10968046j  0.04145532-0.04145532j  0.02931334+0.j\n",
      "   0.00977111+0.00977111j  0.        +0.00617979j]]\n"
     ]
    },
    {
     "data": {
      "text/plain": [
       "0.9999916917756309"
      ]
     },
     "execution_count": 30,
     "metadata": {},
     "output_type": "execute_result"
    }
   ],
   "source": [
    "alpha = 1 + 1j\n",
    "state = coherentState(alpha)\n",
    "print(state)\n",
    "np.sum(np.abs(state) ** 2)"
   ]
  },
  {
   "cell_type": "markdown",
   "metadata": {},
   "source": [
    "## Displacement Operator  \n",
    "Coherent stateは実はvacuum stateにDisplacement operatorを作用させた状態。  \n",
    "$\\ket{\\alpha} = D(\\alpha)\\ket{0}$\n",
    "\n",
    "$D(\\alpha) = \\exp(\\alpha \\hat{a}^{\\dagger} - \\alpha^* \\hat{a})$  \n",
    "ordering theoryを使うと  \n",
    "$D(\\alpha) = \\exp(-|\\alpha|^2 / 2) \\exp(\\alpha \\hat{a}^{\\dagger}) \\exp(-\\alpha^* \\hat{a})$  \n",
    "\n",
    "これを任意のphoton number stateに作用させる計算を考える。"
   ]
  },
  {
   "cell_type": "markdown",
   "metadata": {},
   "source": [
    "annihiration operator.   \n",
    "$\\hat{a} \\ket{n} = \\sqrt{n}\\ket{n-1}$  \n",
    "$\\hat{a} \\ket{0} = 0$"
   ]
  },
  {
   "cell_type": "code",
   "execution_count": 31,
   "metadata": {},
   "outputs": [],
   "source": [
    "def down(order, n):\n",
    "    if order > n:\n",
    "        return [0, 0]\n",
    "    n_ = n - order\n",
    "    coeff = np.prod(np.sqrt(np.arange(n, n - order, -1)))\n",
    "    return [coeff, n_]"
   ]
  },
  {
   "cell_type": "code",
   "execution_count": 32,
   "metadata": {},
   "outputs": [
    {
     "data": {
      "text/plain": [
       "[2.4494897427831783, 1]"
      ]
     },
     "execution_count": 32,
     "metadata": {},
     "output_type": "execute_result"
    }
   ],
   "source": [
    "down(2, 3)"
   ]
  },
  {
   "cell_type": "markdown",
   "metadata": {},
   "source": [
    "creation operator  \n",
    "$\\hat{a}^{\\dagger} \\ket{n} = \\sqrt{n + 1}\\ket{n + 1}$"
   ]
  },
  {
   "cell_type": "code",
   "execution_count": 33,
   "metadata": {},
   "outputs": [],
   "source": [
    "def up(order, n, cutoff = 10):\n",
    "    n_ = n + order\n",
    "    if n_ > cutoff:\n",
    "        return [0, 0]\n",
    "    coeff = np.prod(np.sqrt(np.arange(n + 1, n + 1 + order)))\n",
    "    return [coeff, n_]"
   ]
  },
  {
   "cell_type": "code",
   "execution_count": 34,
   "metadata": {},
   "outputs": [
    {
     "data": {
      "text/plain": [
       "[4.47213595499958, 5]"
      ]
     },
     "execution_count": 34,
     "metadata": {},
     "output_type": "execute_result"
    }
   ],
   "source": [
    "up(2, 3)"
   ]
  },
  {
   "cell_type": "markdown",
   "metadata": {},
   "source": [
    "annihiration/creation operatorを指数関数の肩に乗せる。  \n",
    "指数関数の定義に従いべき級数展開する。"
   ]
  },
  {
   "cell_type": "markdown",
   "metadata": {},
   "source": [
    "$\\exp(\\alpha \\hat{a}) = \\sum_{n} \\frac{1}{n!}(\\alpha \\hat{a})^n$"
   ]
  },
  {
   "cell_type": "code",
   "execution_count": 35,
   "metadata": {},
   "outputs": [],
   "source": [
    "def exp_annihiration(fockState, alpha, cutoff):\n",
    "    if np.isscalar(fockState):\n",
    "        list_ = [fockState]\n",
    "        fockState = np.ones(fockState + 1)\n",
    "    else:\n",
    "        list_ = np.nonzero(fockState)[0]\n",
    "        \n",
    "    state = np.zeros(cutoff + 1) + 0j\n",
    "    for j in list_:\n",
    "        for i in range(cutoff + 1):\n",
    "            tmp =  down(i, j)\n",
    "            state[np.int(tmp[1])] += tmp[0] * fockState[j] / special.factorial([i]) * alpha ** i\n",
    "    return state"
   ]
  },
  {
   "cell_type": "code",
   "execution_count": 36,
   "metadata": {},
   "outputs": [
    {
     "name": "stdout",
     "output_type": "stream",
     "text": [
      "[1.41421356+0.70710678j 0.70710678+0.j         0.        +0.j\n",
      " 0.        +0.j         0.        +0.j         0.        +0.j\n",
      " 0.        +0.j         0.        +0.j         0.        +0.j\n",
      " 0.        +0.j         0.        +0.j        ]\n"
     ]
    }
   ],
   "source": [
    "fockState = np.zeros(10)\n",
    "fockState[0] = 1 / np.sqrt(2)\n",
    "fockState[1] = 1 / np.sqrt(2)\n",
    "print(exp_annihiration(fockState, 1 + 1j, 10))"
   ]
  },
  {
   "cell_type": "markdown",
   "metadata": {},
   "source": [
    "creation operator も全く同様"
   ]
  },
  {
   "cell_type": "code",
   "execution_count": 37,
   "metadata": {},
   "outputs": [],
   "source": [
    "def exp_creation(fockState, alpha, cutoff):\n",
    "    if np.isscalar(fockState):\n",
    "        list_ = [fockState]\n",
    "        fockState = np.ones(fockState + 1)\n",
    "    else:\n",
    "        list_ = np.nonzero(fockState)[0]\n",
    "        \n",
    "    state = np.zeros(cutoff + 1) + 0j\n",
    "    for j in list_:\n",
    "        for i in range(cutoff + 1):\n",
    "            tmp =  up(i, j)\n",
    "            state[np.int(tmp[1])] += tmp[0] * fockState[j] / special.factorial([i]) * alpha ** i\n",
    "    return state"
   ]
  },
  {
   "cell_type": "code",
   "execution_count": 38,
   "metadata": {},
   "outputs": [
    {
     "name": "stdout",
     "output_type": "stream",
     "text": [
      "[ 0.70710678+0.j          1.41421356+0.70710678j  1.        +2.j\n",
      " -0.57735027+2.30940108j -1.73205081+1.15470054j -1.54919334-0.25819889j\n",
      " -0.63245553-0.84327404j  0.07968191-0.63745526j  0.28171808-0.22537447j\n",
      "  0.18781206+0.01878121j  0.05939139+0.07126966j]\n"
     ]
    }
   ],
   "source": [
    "fockState = np.zeros(10)\n",
    "fockState[0] = 1 / np.sqrt(2)\n",
    "fockState[1] = 1 / np.sqrt(2)\n",
    "print(exp_creation(fockState, 1 + 1j, 10))"
   ]
  },
  {
   "cell_type": "markdown",
   "metadata": {},
   "source": [
    "ここで、Displacement operatorを実装してみる。  \n",
    "関数を適切に作っておいたので簡単。\n",
    "\n",
    "$D(\\alpha) = \\exp(-|\\alpha|^2 / 2) \\exp(\\alpha \\hat{a}^{\\dagger}) \\exp(-\\alpha^* \\hat{a})$  "
   ]
  },
  {
   "cell_type": "code",
   "execution_count": 39,
   "metadata": {},
   "outputs": [],
   "source": [
    "def displacement(fockState, alpha, cutoff):\n",
    "    state_ = exp_annihiration(fockState, -np.conj(alpha), cutoff)\n",
    "    state = exp_creation(state_, alpha, cutoff)\n",
    "    return state * np.exp(-np.abs(alpha)**2 / 2)    "
   ]
  },
  {
   "cell_type": "code",
   "execution_count": 14,
   "metadata": {},
   "outputs": [
    {
     "name": "stdout",
     "output_type": "stream",
     "text": [
      "[[ 0.36787944+0.j          0.36787944-0.36787944j  0.        -0.5202601j\n",
      "  -0.30037231-0.30037231j -0.30037231-0.j         -0.13433058+0.13433058j\n",
      "  -0.        +0.10968046j  0.04145532+0.04145532j  0.02931334+0.j\n",
      "   0.00977111-0.00977111j  0.        -0.00617979j]]\n",
      "[ 0.36787944+0.j          0.36787944-0.36787944j  0.        -0.5202601j\n",
      " -0.30037231-0.30037231j -0.30037231+0.j         -0.13433058+0.13433058j\n",
      "  0.        +0.10968046j  0.04145532+0.04145532j  0.02931334+0.j\n",
      "  0.00977111-0.00977111j  0.        -0.00617979j]\n"
     ]
    }
   ],
   "source": [
    "cutoff = 10\n",
    "fockState = np.zeros(10)\n",
    "fockState[0] = 1\n",
    "alpha = 1 - 1j\n",
    "print(coherentState(alpha, cutoff))\n",
    "print(displacement(fockState, alpha, cutoff))"
   ]
  },
  {
   "cell_type": "markdown",
   "metadata": {},
   "source": [
    "一致しているため、ここまではOK"
   ]
  },
  {
   "cell_type": "markdown",
   "metadata": {},
   "source": [
    "### 光子数密度演算子を状態発展させる\n",
    "\n",
    "光子数基底の密度行列は以下のように書ける。  \n",
    "$\\rho = \\sum_{l, m}C_{lm}\\ket{l}\\bra{m}$\n",
    "\n",
    "状態発展  \n",
    "$\\rho' = D^{\\dagger}(\\alpha)\\rho D(\\alpha)$"
   ]
  },
  {
   "cell_type": "code",
   "execution_count": 15,
   "metadata": {},
   "outputs": [],
   "source": [
    "def Displacement(rho, alpha, cutoff=10):\n",
    "    dim = cutoff + 1\n",
    "    rho_ = np.zeros([dim, dim]) + 0j\n",
    "    for row in range(dim):\n",
    "        for col in range(dim):\n",
    "            ket = displacement(row, alpha, cutoff)\n",
    "            bra = displacement(col, alpha, cutoff)\n",
    "            rho_ += rho[row, col] * np.outer(np.conj(ket), bra)\n",
    "    return rho_"
   ]
  },
  {
   "cell_type": "code",
   "execution_count": 16,
   "metadata": {},
   "outputs": [
    {
     "name": "stdout",
     "output_type": "stream",
     "text": [
      "(0.9999916917756311+0j)\n"
     ]
    }
   ],
   "source": [
    "rho = np.zeros([11, 11])\n",
    "rho[0, 0] = 1\n",
    "rho_ = Displacement(rho, 1+1j)\n",
    "print(np.sum(np.diag(rho_)))"
   ]
  },
  {
   "cell_type": "markdown",
   "metadata": {},
   "source": [
    "### 光子数密度演算子のWigner関数\n",
    "\n",
    "$n \\leq n'$の場合  \n",
    "$W_{nn'}(q, p) = \\frac{2(-1)^n}{\\pi} \\sqrt{\\frac{2^{n'} n!}{2^{n} n'!}} (q-ip)^{n'-n}e^{-(q^2+p^2)}L_{n}^{n'-n}(2(q^2+p^2))$  \n",
    "$n' \\leq n$の場合  \n",
    "$W_{nn'}(q, p) = \\frac{2(-1)^{n'}}{\\pi} \\sqrt{\\frac{2^{n} n'!}{2^{n'} n!}} (q+ip)^{n-n'}e^{-(q^2+p^2)}L_{n'}^{n-n'}(2(q^2+p^2))$  "
   ]
  },
  {
   "cell_type": "markdown",
   "metadata": {},
   "source": [
    "量子力学分野でラゲール陪多項式と書かれたものがソニンの多項式であることがままある。  \n",
    "上式$L_l^{m}(x)$もそう。"
   ]
  },
  {
   "cell_type": "markdown",
   "metadata": {},
   "source": [
    "ソニンの多項式  \n",
    "\n",
    "漸化式  \n",
    "$n S^{\\alpha}_{n}(x) = (2n-1+\\alpha-x)S^{\\alpha}_{n-1}(x) -(n + \\alpha -1)S^{\\alpha}_{n-2}(x)$  \n",
    "$S^{\\alpha}_0 (x) = 1$  \n",
    "$S^{\\alpha}_1 (x) = \\alpha + 1 - x$\n",
    "\n",
    "展開式  \n",
    "$S_{n}^{\\alpha}(x) = \\sum^{n}_{k=0}\\frac{(-1)^k (n+\\alpha)!}{(n-k)!(\\alpha + k)! k!}x^k$"
   ]
  },
  {
   "cell_type": "markdown",
   "metadata": {},
   "source": [
    "### 高速化前"
   ]
  },
  {
   "cell_type": "code",
   "execution_count": 17,
   "metadata": {},
   "outputs": [],
   "source": [
    "import matplotlib.pyplot as plt\n",
    "import time"
   ]
  },
  {
   "cell_type": "code",
   "execution_count": 18,
   "metadata": {},
   "outputs": [],
   "source": [
    "def Sonin(n, alpha, x):\n",
    "    S = np.empty([n + 1])\n",
    "    for i in range(n + 1):\n",
    "        if i == 0:\n",
    "            S[0] = 1\n",
    "        elif i == 1:\n",
    "            S[1] = alpha + 1 - x\n",
    "        else:\n",
    "            res = (2 * i - 1 + alpha - x) * S[i - 1] - (i + alpha - 1) * S[i - 2]\n",
    "            S[i] = res / i\n",
    "    return S[n]"
   ]
  },
  {
   "cell_type": "code",
   "execution_count": 19,
   "metadata": {},
   "outputs": [],
   "source": [
    "def Sonin2(n, alpha, x):\n",
    "    a = special.factorial(n + alpha)\n",
    "    k = np.arange(n + 1)\n",
    "    S = (-1)**k * a * x ** k/ special.factorial(n - k) / special.factorial(k + alpha) / special.factorial(k)\n",
    "    return np.sum(S)"
   ]
  },
  {
   "cell_type": "code",
   "execution_count": 20,
   "metadata": {},
   "outputs": [],
   "source": [
    "def FockWignerElement(x, p, l, m):\n",
    "    r = x**2 + p**2\n",
    "    if l >= m:\n",
    "        W = 2 * (-1)**m * np.sqrt(2**(l - m) * special.factorial(m) / special.factorial(l)) * (x + 1j * p)**(l - m) * np.exp(-r)\n",
    "        S = Sonin(m, l - m, 2 * r)\n",
    "        return W * S\n",
    "    else:\n",
    "        W = 2 * (-1)**l * np.sqrt(2**(m - l) * special.factorial(l) / special.factorial(m)) * (x - 1j * p)**(m - l) * np.exp(-r)\n",
    "        S = Sonin(l, m - l, 2 * r)\n",
    "        return W * S\n",
    "\n",
    "def FockWigner(alpha, rho, tol = 1e-10):\n",
    "    x = alpha[0]\n",
    "    p = alpha[1]\n",
    "    dim = rho.shape[0]\n",
    "    W = 0 + 0j\n",
    "    for row in range(dim):\n",
    "        for col in range(dim):\n",
    "            W += rho[row, col] * FockWignerElement(x, p, row, col)\n",
    "    if np.max(np.imag(W)) < tol:\n",
    "        W = np.real(W)\n",
    "    else:\n",
    "        raise ValueError(\"Wigner function has imaginary value.\")\n",
    "    return W"
   ]
  },
  {
   "cell_type": "code",
   "execution_count": 21,
   "metadata": {},
   "outputs": [
    {
     "ename": "KeyboardInterrupt",
     "evalue": "",
     "output_type": "error",
     "traceback": [
      "\u001b[0;31m---------------------------------------------------------------------------\u001b[0m",
      "\u001b[0;31mKeyboardInterrupt\u001b[0m                         Traceback (most recent call last)",
      "\u001b[0;32m<ipython-input-21-2d1858bee925>\u001b[0m in \u001b[0;36m<module>\u001b[0;34m\u001b[0m\n\u001b[1;32m     11\u001b[0m \u001b[0;32mfor\u001b[0m \u001b[0mi\u001b[0m \u001b[0;32min\u001b[0m \u001b[0mrange\u001b[0m\u001b[0;34m(\u001b[0m\u001b[0mm\u001b[0m\u001b[0;34m)\u001b[0m\u001b[0;34m:\u001b[0m\u001b[0;34m\u001b[0m\u001b[0m\n\u001b[1;32m     12\u001b[0m     \u001b[0;32mfor\u001b[0m \u001b[0mj\u001b[0m \u001b[0;32min\u001b[0m \u001b[0mrange\u001b[0m\u001b[0;34m(\u001b[0m\u001b[0mm\u001b[0m\u001b[0;34m)\u001b[0m\u001b[0;34m:\u001b[0m\u001b[0;34m\u001b[0m\u001b[0m\n\u001b[0;32m---> 13\u001b[0;31m         \u001b[0mW\u001b[0m\u001b[0;34m[\u001b[0m\u001b[0mi\u001b[0m\u001b[0;34m]\u001b[0m\u001b[0;34m[\u001b[0m\u001b[0mj\u001b[0m\u001b[0;34m]\u001b[0m \u001b[0;34m=\u001b[0m \u001b[0mFockWigner\u001b[0m\u001b[0;34m(\u001b[0m\u001b[0mxi_array\u001b[0m\u001b[0;34m[\u001b[0m\u001b[0mj\u001b[0m\u001b[0;34m]\u001b[0m\u001b[0;34m[\u001b[0m\u001b[0mi\u001b[0m\u001b[0;34m]\u001b[0m\u001b[0;34m,\u001b[0m \u001b[0mrho\u001b[0m\u001b[0;34m)\u001b[0m\u001b[0;34m\u001b[0m\u001b[0m\n\u001b[0m\u001b[1;32m     14\u001b[0m \u001b[0;34m\u001b[0m\u001b[0m\n\u001b[1;32m     15\u001b[0m \u001b[0mh\u001b[0m \u001b[0;34m=\u001b[0m \u001b[0mplt\u001b[0m\u001b[0;34m.\u001b[0m\u001b[0mcontourf\u001b[0m\u001b[0;34m(\u001b[0m\u001b[0mx\u001b[0m\u001b[0;34m,\u001b[0m \u001b[0mp\u001b[0m\u001b[0;34m,\u001b[0m \u001b[0mW\u001b[0m\u001b[0;34m)\u001b[0m\u001b[0;34m\u001b[0m\u001b[0m\n",
      "\u001b[0;32m<ipython-input-20-0778c71a7edb>\u001b[0m in \u001b[0;36mFockWigner\u001b[0;34m(alpha, rho, tol)\u001b[0m\n\u001b[1;32m     17\u001b[0m     \u001b[0;32mfor\u001b[0m \u001b[0mrow\u001b[0m \u001b[0;32min\u001b[0m \u001b[0mrange\u001b[0m\u001b[0;34m(\u001b[0m\u001b[0mdim\u001b[0m\u001b[0;34m)\u001b[0m\u001b[0;34m:\u001b[0m\u001b[0;34m\u001b[0m\u001b[0m\n\u001b[1;32m     18\u001b[0m         \u001b[0;32mfor\u001b[0m \u001b[0mcol\u001b[0m \u001b[0;32min\u001b[0m \u001b[0mrange\u001b[0m\u001b[0;34m(\u001b[0m\u001b[0mdim\u001b[0m\u001b[0;34m)\u001b[0m\u001b[0;34m:\u001b[0m\u001b[0;34m\u001b[0m\u001b[0m\n\u001b[0;32m---> 19\u001b[0;31m             \u001b[0mW\u001b[0m \u001b[0;34m+=\u001b[0m \u001b[0mrho\u001b[0m\u001b[0;34m[\u001b[0m\u001b[0mrow\u001b[0m\u001b[0;34m,\u001b[0m \u001b[0mcol\u001b[0m\u001b[0;34m]\u001b[0m \u001b[0;34m*\u001b[0m \u001b[0mFockWignerElement\u001b[0m\u001b[0;34m(\u001b[0m\u001b[0mx\u001b[0m\u001b[0;34m,\u001b[0m \u001b[0mp\u001b[0m\u001b[0;34m,\u001b[0m \u001b[0mrow\u001b[0m\u001b[0;34m,\u001b[0m \u001b[0mcol\u001b[0m\u001b[0;34m)\u001b[0m\u001b[0;34m\u001b[0m\u001b[0m\n\u001b[0m\u001b[1;32m     20\u001b[0m     \u001b[0;32mif\u001b[0m \u001b[0mnp\u001b[0m\u001b[0;34m.\u001b[0m\u001b[0mmax\u001b[0m\u001b[0;34m(\u001b[0m\u001b[0mnp\u001b[0m\u001b[0;34m.\u001b[0m\u001b[0mimag\u001b[0m\u001b[0;34m(\u001b[0m\u001b[0mW\u001b[0m\u001b[0;34m)\u001b[0m\u001b[0;34m)\u001b[0m \u001b[0;34m<\u001b[0m \u001b[0mtol\u001b[0m\u001b[0;34m:\u001b[0m\u001b[0;34m\u001b[0m\u001b[0m\n\u001b[1;32m     21\u001b[0m         \u001b[0mW\u001b[0m \u001b[0;34m=\u001b[0m \u001b[0mnp\u001b[0m\u001b[0;34m.\u001b[0m\u001b[0mreal\u001b[0m\u001b[0;34m(\u001b[0m\u001b[0mW\u001b[0m\u001b[0;34m)\u001b[0m\u001b[0;34m\u001b[0m\u001b[0m\n",
      "\u001b[0;32m<ipython-input-20-0778c71a7edb>\u001b[0m in \u001b[0;36mFockWignerElement\u001b[0;34m(x, p, l, m)\u001b[0m\n\u001b[1;32m      2\u001b[0m     \u001b[0mr\u001b[0m \u001b[0;34m=\u001b[0m \u001b[0mx\u001b[0m\u001b[0;34m**\u001b[0m\u001b[0;36m2\u001b[0m \u001b[0;34m+\u001b[0m \u001b[0mp\u001b[0m\u001b[0;34m**\u001b[0m\u001b[0;36m2\u001b[0m\u001b[0;34m\u001b[0m\u001b[0m\n\u001b[1;32m      3\u001b[0m     \u001b[0;32mif\u001b[0m \u001b[0ml\u001b[0m \u001b[0;34m>=\u001b[0m \u001b[0mm\u001b[0m\u001b[0;34m:\u001b[0m\u001b[0;34m\u001b[0m\u001b[0m\n\u001b[0;32m----> 4\u001b[0;31m         \u001b[0mW\u001b[0m \u001b[0;34m=\u001b[0m \u001b[0;36m2\u001b[0m \u001b[0;34m*\u001b[0m \u001b[0;34m(\u001b[0m\u001b[0;34m-\u001b[0m\u001b[0;36m1\u001b[0m\u001b[0;34m)\u001b[0m\u001b[0;34m**\u001b[0m\u001b[0mm\u001b[0m \u001b[0;34m*\u001b[0m \u001b[0mnp\u001b[0m\u001b[0;34m.\u001b[0m\u001b[0msqrt\u001b[0m\u001b[0;34m(\u001b[0m\u001b[0;36m2\u001b[0m\u001b[0;34m**\u001b[0m\u001b[0;34m(\u001b[0m\u001b[0ml\u001b[0m \u001b[0;34m-\u001b[0m \u001b[0mm\u001b[0m\u001b[0;34m)\u001b[0m \u001b[0;34m*\u001b[0m \u001b[0mspecial\u001b[0m\u001b[0;34m.\u001b[0m\u001b[0mfactorial\u001b[0m\u001b[0;34m(\u001b[0m\u001b[0mm\u001b[0m\u001b[0;34m)\u001b[0m \u001b[0;34m/\u001b[0m \u001b[0mspecial\u001b[0m\u001b[0;34m.\u001b[0m\u001b[0mfactorial\u001b[0m\u001b[0;34m(\u001b[0m\u001b[0ml\u001b[0m\u001b[0;34m)\u001b[0m\u001b[0;34m)\u001b[0m \u001b[0;34m*\u001b[0m \u001b[0;34m(\u001b[0m\u001b[0mx\u001b[0m \u001b[0;34m+\u001b[0m \u001b[0;36m1j\u001b[0m \u001b[0;34m*\u001b[0m \u001b[0mp\u001b[0m\u001b[0;34m)\u001b[0m\u001b[0;34m**\u001b[0m\u001b[0;34m(\u001b[0m\u001b[0ml\u001b[0m \u001b[0;34m-\u001b[0m \u001b[0mm\u001b[0m\u001b[0;34m)\u001b[0m \u001b[0;34m*\u001b[0m \u001b[0mnp\u001b[0m\u001b[0;34m.\u001b[0m\u001b[0mexp\u001b[0m\u001b[0;34m(\u001b[0m\u001b[0;34m-\u001b[0m\u001b[0mr\u001b[0m\u001b[0;34m)\u001b[0m\u001b[0;34m\u001b[0m\u001b[0m\n\u001b[0m\u001b[1;32m      5\u001b[0m         \u001b[0mS\u001b[0m \u001b[0;34m=\u001b[0m \u001b[0mSonin\u001b[0m\u001b[0;34m(\u001b[0m\u001b[0mm\u001b[0m\u001b[0;34m,\u001b[0m \u001b[0ml\u001b[0m \u001b[0;34m-\u001b[0m \u001b[0mm\u001b[0m\u001b[0;34m,\u001b[0m \u001b[0;36m2\u001b[0m \u001b[0;34m*\u001b[0m \u001b[0mr\u001b[0m\u001b[0;34m)\u001b[0m\u001b[0;34m\u001b[0m\u001b[0m\n\u001b[1;32m      6\u001b[0m         \u001b[0;32mreturn\u001b[0m \u001b[0mW\u001b[0m \u001b[0;34m*\u001b[0m \u001b[0mS\u001b[0m\u001b[0;34m\u001b[0m\u001b[0m\n",
      "\u001b[0;32m~/.pyenv/versions/3.6.5/envs/StrawberyFields_0.11.1/lib/python3.6/site-packages/scipy/special/basic.py\u001b[0m in \u001b[0;36mfactorial\u001b[0;34m(n, exact)\u001b[0m\n\u001b[1;32m   2132\u001b[0m         \u001b[0mn\u001b[0m \u001b[0;34m=\u001b[0m \u001b[0masarray\u001b[0m\u001b[0;34m(\u001b[0m\u001b[0mn\u001b[0m\u001b[0;34m)\u001b[0m\u001b[0;34m\u001b[0m\u001b[0m\n\u001b[1;32m   2133\u001b[0m         \u001b[0mvals\u001b[0m \u001b[0;34m=\u001b[0m \u001b[0mgamma\u001b[0m\u001b[0;34m(\u001b[0m\u001b[0mn\u001b[0m \u001b[0;34m+\u001b[0m \u001b[0;36m1\u001b[0m\u001b[0;34m)\u001b[0m\u001b[0;34m\u001b[0m\u001b[0m\n\u001b[0;32m-> 2134\u001b[0;31m         \u001b[0;32mreturn\u001b[0m \u001b[0mwhere\u001b[0m\u001b[0;34m(\u001b[0m\u001b[0mn\u001b[0m \u001b[0;34m>=\u001b[0m \u001b[0;36m0\u001b[0m\u001b[0;34m,\u001b[0m \u001b[0mvals\u001b[0m\u001b[0;34m,\u001b[0m \u001b[0;36m0\u001b[0m\u001b[0;34m)\u001b[0m\u001b[0;34m\u001b[0m\u001b[0m\n\u001b[0m\u001b[1;32m   2135\u001b[0m \u001b[0;34m\u001b[0m\u001b[0m\n\u001b[1;32m   2136\u001b[0m \u001b[0;34m\u001b[0m\u001b[0m\n",
      "\u001b[0;32m<__array_function__ internals>\u001b[0m in \u001b[0;36mwhere\u001b[0;34m(*args, **kwargs)\u001b[0m\n",
      "\u001b[0;31mKeyboardInterrupt\u001b[0m: "
     ]
    }
   ],
   "source": [
    "x = np.arange(-5, 5, 0.1)\n",
    "p = np.arange(-5, 5, 0.1)\n",
    "rho = np.zeros([11, 11])\n",
    "rho[0, 0] = 1\n",
    "rho = Displacement(rho, 1-1j)\n",
    "m = len(x)\n",
    "xx, pp = np.meshgrid(x, p)\n",
    "xi_array = np.dstack((pp, xx))\n",
    "start = time.time()\n",
    "W = np.zeros([m, m], dtype = \"complex128\")\n",
    "for i in range(m):\n",
    "    for j in range(m):\n",
    "        W[i][j] = FockWigner(xi_array[j][i], rho)\n",
    "\n",
    "h = plt.contourf(x, p, W)\n",
    "t = time.time() - start\n",
    "print(t)"
   ]
  },
  {
   "cell_type": "markdown",
   "metadata": {},
   "source": [
    "やってみたが計算遅すぎ  \n",
    "for文減らす  "
   ]
  },
  {
   "cell_type": "markdown",
   "metadata": {},
   "source": [
    "### 高速化後"
   ]
  },
  {
   "cell_type": "code",
   "execution_count": 22,
   "metadata": {},
   "outputs": [],
   "source": [
    "def to_2d_ndarray(a):\n",
    "    if isinstance(a,(np.ndarray)):\n",
    "        return a\n",
    "    else:\n",
    "        return np.array([[a]])"
   ]
  },
  {
   "cell_type": "code",
   "execution_count": 23,
   "metadata": {},
   "outputs": [],
   "source": [
    "def Sonin_vec(n, alpha, x):\n",
    "    n = to_2d_ndarray(n)\n",
    "    alpha = to_2d_ndarray(alpha)\n",
    "    x = to_2d_ndarray(x)        \n",
    "    N = np.max(n)\n",
    "    a = special.factorial(n + alpha)\n",
    "    S = np.zeros([N + 1, x.shape[0], x.shape[0], n.shape[0], n.shape[0]], dtype = \"float64\")\n",
    "    for i in range(N + 1):\n",
    "        if i == 0:\n",
    "            S[0] = 1\n",
    "        elif i == 1:\n",
    "            I = np.where(n - i >= 0, 1, 0)\n",
    "            I = I[np.newaxis, np.newaxis, :, :]\n",
    "            I_bar = np.logical_not(I).astype(\"float64\")\n",
    "            S[1] = (alpha + 1 - x) * I + I_bar\n",
    "        else:\n",
    "            I = np.where(n - i >= 0, 1, 0)\n",
    "            I = I[np.newaxis, np.newaxis, :, :].astype(\"float64\")\n",
    "            I_bar = np.logical_not(I).astype(int)\n",
    "            res = (2 * i - 1 + alpha - x) * S[i - 1] - (i + alpha - 1) * S[i - 2]\n",
    "            S[i] = res / i * I + S[i -1] * I_bar\n",
    "    return S[N]"
   ]
  },
  {
   "cell_type": "code",
   "execution_count": 24,
   "metadata": {},
   "outputs": [
    {
     "name": "stdout",
     "output_type": "stream",
     "text": [
      "-210.84303350970018 float64\n",
      "-210.84303350958498 float64\n",
      "[[[[-210.84303351]]]] float64\n",
      "0.0007600784301757812 0.0004868507385253906 0.0023050308227539062\n"
     ]
    }
   ],
   "source": [
    "start = time.time()\n",
    "n = 10\n",
    "alpha = 10\n",
    "x = 10\n",
    "S1 = Sonin(n, alpha, x)\n",
    "print(S1, S1.dtype)\n",
    "t = time.time() - start\n",
    "S2 = Sonin2(n, alpha, x)\n",
    "print(S2, S2.dtype)\n",
    "t2 = time.time() - (start + t)\n",
    "S3 = Sonin_vec(n, alpha, x)\n",
    "print(S3, S3.dtype)\n",
    "t3 = time.time() - (start + t2)\n",
    "print(t, t2, t3)"
   ]
  },
  {
   "cell_type": "markdown",
   "metadata": {},
   "source": [
    "SoninとSonin2はほぼ同じ速さだが、numpy.frompyfuncでベクトライズするとなぜかSoninの方がはるかに早い"
   ]
  },
  {
   "cell_type": "code",
   "execution_count": 25,
   "metadata": {},
   "outputs": [],
   "source": [
    "def FockWignerElement_vec(xmat, pmat, l, m):\n",
    "    A = np.max(np.dstack([l, m]), axis=2)\n",
    "    B = np.abs(l - m)\n",
    "    C = np.min(np.dstack([l, m]), axis=2)\n",
    "    xmat = xmat[:, :, np.newaxis, np.newaxis]\n",
    "    pmat = pmat[:, :, np.newaxis, np.newaxis]\n",
    "    R = xmat**2 + pmat**2\n",
    "    X = xmat + np.sign(l-m) * 1j * pmat\n",
    "    W = 2 * (-1)**C * np.sqrt(2**(B) * special.factorial(C) / special.factorial(A)) * X**(B) * np.exp(-R)\n",
    "    S = Sonin_vec(C, B, 2 * R)\n",
    "    return W * S\n",
    "\n",
    "def FockWigner_vec(xmat, pmat, rho, tol=1e-10):\n",
    "    dim = rho.shape[0]\n",
    "    grid = np.indices([dim, dim])\n",
    "    W = FockWignerElement_vec(xmat, pmat, grid[0], grid[1])\n",
    "    W = rho * W\n",
    "    W = np.sum(np.sum(W, axis = -1), axis = -1)\n",
    "    if np.max(np.imag(W)) < tol:\n",
    "        W = np.real(W)\n",
    "    else:\n",
    "        raise ValueError(\"Wigner plot has imaginary value.\")\n",
    "    return W"
   ]
  },
  {
   "cell_type": "markdown",
   "metadata": {},
   "source": [
    "結局numpy関数で可能な限り配列演算にすると全然違う"
   ]
  },
  {
   "cell_type": "code",
   "execution_count": 26,
   "metadata": {},
   "outputs": [
    {
     "name": "stdout",
     "output_type": "stream",
     "text": [
      "0.33529019355773926\n"
     ]
    },
    {
     "data": {
      "image/png": "[encoded data removed]",
      "text/plain": [
       "<Figure size 432x288 with 1 Axes>"
      ]
     },
     "metadata": {
      "needs_background": "light"
     },
     "output_type": "display_data"
    }
   ],
   "source": [
    "x = np.arange(-5, 5, 0.1)\n",
    "p = np.arange(-5, 5, 0.1)\n",
    "rho = np.zeros([11, 11])\n",
    "rho[0, 0] = 1\n",
    "alpha = 1 - 1j\n",
    "rho = Displacement(rho, alpha)\n",
    "\n",
    "cutoff = 10\n",
    "fockState = np.zeros(10)\n",
    "fockState[0] = 1\n",
    "\n",
    "print(coherentState(alpha, cutoff))\n",
    "print(displacement(fockState, alpha, cutoff))\n",
    "\n",
    "m = len(x)\n",
    "xx, pp = np.meshgrid(x, p)\n",
    "xi_array = np.dstack((pp, xx))\n",
    "start = time.time()\n",
    "        \n",
    "W = FockWigner_vec(xx, pp, rho)\n",
    "\n",
    "h = plt.contourf(x, p, W)\n",
    "t = time.time() - start\n",
    "print(t)"
   ]
  },
  {
   "cell_type": "code",
   "execution_count": null,
   "metadata": {},
   "outputs": [],
   "source": []
  }
 ],
 "metadata": {
  "kernelspec": {
   "display_name": "Python 3",
   "language": "python",
   "name": "python3"
  },
  "language_info": {
   "codemirror_mode": {
    "name": "ipython",
    "version": 3
   },
   "file_extension": ".py",
   "mimetype": "text/x-python",
   "name": "python",
   "nbconvert_exporter": "python",
   "pygments_lexer": "ipython3",
   "version": "3.6.5"
  }
 },
 "nbformat": 4,
 "nbformat_minor": 2
}
