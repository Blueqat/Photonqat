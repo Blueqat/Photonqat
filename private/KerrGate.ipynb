{
 "cells": [
  {
   "cell_type": "code",
   "execution_count": 238,
   "metadata": {},
   "outputs": [],
   "source": [
    "import numpy as np\n",
    "from scipy import special\n",
    "from scipy.special import factorial as fact\n",
    "import matplotlib.pyplot as plt\n",
    "import time\n",
    "from scipy.linalg import expm as expm\n",
    "\n",
    "cutoff = 9"
   ]
  },
  {
   "cell_type": "code",
   "execution_count": 2,
   "metadata": {},
   "outputs": [],
   "source": [
    "def down(order, n):\n",
    "    n_ = n - order\n",
    "    n_ = np.clip(n_, 0, None)\n",
    "    coeff = np.sqrt(fact(n) / fact(n_))\n",
    "    coeff[(n - order) < 0] = 0\n",
    "    return [coeff, n_.astype(np.int)]\n",
    "\n",
    "def up(order, n, cutoff = 10):\n",
    "    n_ = n + order\n",
    "    n_[n_ > cutoff] = 0\n",
    "    coeff = np.sqrt(fact(n_) / fact(n))\n",
    "    coeff[(n + order) > cutoff] = 0\n",
    "    return [coeff, n_.astype(np.int)]\n",
    "\n",
    "def photonNum(order, n, cutoff = 10):\n",
    "    coeff = n ** order\n",
    "    return [coeff, n.astype(np.int)]\n",
    "\n",
    "def to_2d_ndarray(a):\n",
    "    if isinstance(a,(np.ndarray)):\n",
    "        return a\n",
    "    else:\n",
    "        return np.array([[a]])\n",
    "    \n",
    "def Sonin_vec(n, alpha, x):\n",
    "    start = time.time()\n",
    "    n = to_2d_ndarray(n)\n",
    "    alpha = to_2d_ndarray(alpha)\n",
    "    x = to_2d_ndarray(x)        \n",
    "    N = np.max(n)\n",
    "    a = special.factorial(n + alpha)\n",
    "    S = np.zeros([N + 1, x.shape[0], x.shape[0], n.shape[0], n.shape[0]], dtype = \"float64\")\n",
    "    print(time.time() - start)\n",
    "    for i in range(N + 1):\n",
    "        if i == 0:\n",
    "            S[0] = 1\n",
    "        elif i == 1:\n",
    "            I = np.ones(n.shape)\n",
    "            I[n - i < 0] = 0\n",
    "            I = I[np.newaxis, np.newaxis, :, :]\n",
    "            I_bar = np.logical_not(I)\n",
    "            S[1] = (alpha + 1 - x) * I + I_bar\n",
    "        else:\n",
    "            I = np.ones(n.shape)\n",
    "            I[n - i < 0] = 0\n",
    "            I = I[np.newaxis, np.newaxis, :, :]\n",
    "            I_bar = np.logical_not(I).astype(int)\n",
    "            res = (2 * i - 1 + alpha - x) * S[i - 1] - (i + alpha - 1) * S[i - 2]\n",
    "            S[i] = res / i * I + S[i -1] * I_bar\n",
    "        print(i, time.time() - start)\n",
    "    print(time.time() - start)\n",
    "    return S[N]\n",
    "\n",
    "def Sonin1_vec(n, alpha, x):\n",
    "    start = time.time()\n",
    "    n = to_2d_ndarray(n)\n",
    "    alpha = to_2d_ndarray(alpha)\n",
    "    x = to_2d_ndarray(x)\n",
    "    a = special.factorial(n + alpha)\n",
    "    k0 = np.arange(np.max(n) + 1)\n",
    "    k0 = k0[:, np.newaxis, np.newaxis]\n",
    "    k = k0 * np.ones([np.max(n) + 1, n.shape[0], n.shape[0]], dtype = np.int)\n",
    "    mask = np.ones(k.shape, dtype = np.int)\n",
    "    for i in range(k.shape[0]):\n",
    "        ind = (np.ones(n.shape) * i) > n\n",
    "        mask[i, ind] = 0\n",
    "    k *= mask\n",
    "    S = mask * (-1) ** k * a / special.factorial(n - k) / special.factorial(k + alpha) / special.factorial(k)\n",
    "    X = x ** k0\n",
    "    S = S[:, np.newaxis, np.newaxis, :, :] * X[:, :, :, np.newaxis, np.newaxis] # bottle neck\n",
    "    return np.sum(S, axis = 0)\n",
    "\n",
    "def FockWignerElement_vec(xmat, pmat, l, m):\n",
    "    A = np.max(np.dstack([l, m]), axis=2)\n",
    "    B = np.abs(l - m).astype(np.int)\n",
    "    C = np.min(np.dstack([l, m]), axis=2).astype(np.int)\n",
    "    R0 = xmat**2 + pmat**2\n",
    "    xmat = xmat[:, :, np.newaxis, np.newaxis]\n",
    "    pmat = pmat[:, :, np.newaxis, np.newaxis]\n",
    "    R = xmat**2 + pmat**2\n",
    "    X = xmat + np.sign(l-m) * 1j * pmat\n",
    "    factC = special.factorial(C)\n",
    "    factA = special.factorial(A)\n",
    "    W = 2 * (-1)**C * np.sqrt(2**(B) * factC / factA)\n",
    "    W = W * np.exp(-R) * X**(B)\n",
    "    S = Sonin1_vec(C, B, 2 * R0)\n",
    "    return W * S"
   ]
  },
  {
   "cell_type": "markdown",
   "metadata": {},
   "source": [
    "$n \\leq n'$の場合  \n",
    "$W_{nn'}(q, p) = \\frac{2(-1)^n}{\\pi} \\sqrt{\\frac{2^{n'} n!}{2^{n} n'!}} (q-ip)^{n'-n}e^{-(q^2+p^2)}L_{n}^{n'-n}(2(q^2+p^2))$  \n",
    "$n' \\leq n$の場合  \n",
    "$W_{nn'}(q, p) = \\frac{2(-1)^{n'}}{\\pi} \\sqrt{\\frac{2^{n} n'!}{2^{n'} n!}} (q+ip)^{n-n'}e^{-(q^2+p^2)}L_{n'}^{n-n'}(2(q^2+p^2))$  "
   ]
  },
  {
   "cell_type": "code",
   "execution_count": 3,
   "metadata": {},
   "outputs": [
    {
     "name": "stdout",
     "output_type": "stream",
     "text": [
      "0.7436449527740479\n"
     ]
    }
   ],
   "source": [
    "start = time.time()\n",
    "a = np.ones([10000, 10000], dtype = np.complex64)\n",
    "A = a * a\n",
    "print(time.time() - start)"
   ]
  },
  {
   "cell_type": "markdown",
   "metadata": {},
   "source": [
    "## Multi mode化"
   ]
  },
  {
   "cell_type": "markdown",
   "metadata": {},
   "source": [
    "prepare multi mode Fock state"
   ]
  },
  {
   "cell_type": "code",
   "execution_count": 4,
   "metadata": {},
   "outputs": [],
   "source": [
    "modeNum = 3\n",
    "cutoff = 9\n",
    "def vacuumState(modeNum, cutoff):\n",
    "    fockState = np.zeros([(cutoff + 1) ** modeNum])\n",
    "    fockState[0] = 1\n",
    "    return fockState.reshape([cutoff + 1] * modeNum)"
   ]
  },
  {
   "cell_type": "code",
   "execution_count": 5,
   "metadata": {},
   "outputs": [],
   "source": [
    "def singleGate_preProcess(fockState, mode):\n",
    "    cutoff = fockState.shape[-1] - 1\n",
    "    fockState = np.swapaxes(fockState, mode, fockState.ndim - 1)\n",
    "    return fockState.reshape(-1, cutoff + 1)\n",
    "\n",
    "def twoModeGate_preProcess(fockState, mode1, mode2):\n",
    "    cutoff = fockState.shape[-1] - 1\n",
    "    fockState = np.swapaxes(fockState, mode2, modeNum - 1)\n",
    "    fockState = np.swapaxes(fockState, mode1, modeNum - 2)\n",
    "    return fockState.reshape(-1, cutoff + 1, cutoff + 1)\n",
    "\n",
    "def singleGate_postProcess(fockState, mode, modeNum):\n",
    "    cutoff = fockState.shape[-1] - 1\n",
    "    fockState = fockState.reshape([cutoff + 1] * modeNum)\n",
    "    return np.swapaxes(fockState, mode, modeNum - 1)\n",
    "\n",
    "def twoModeGate_postProcess(fockState, mode1, mode2, modeNum):\n",
    "    cutoff = fockState.shape[-1] - 1\n",
    "    fockState = fockState.reshape([cutoff + 1] * modeNum)\n",
    "    fockState = np.swapaxes(fockState, mode1, modeNum - 2)\n",
    "    fockState = np.swapaxes(fockState, mode2, modeNum - 1)\n",
    "    return fockState\n",
    "\n",
    "def exp_annihiration(fockState, alpha, order = 1, cutoff = 10):\n",
    "    ind = np.arange(fockState.shape[-1])\n",
    "    state = np.zeros(fockState.shape) + 0j\n",
    "    for i in range(cutoff + 1):\n",
    "        tmp = down(order * i, ind)\n",
    "        state[:, tmp[1]] += tmp[0] * fockState[:, ind] / special.factorial([i]) * alpha ** i\n",
    "    return state\n",
    "\n",
    "def exp_creation(fockState, alpha, order = 1, cutoff = 10):\n",
    "    ind = np.arange(fockState.shape[-1])\n",
    "    state = np.zeros(fockState.shape) + 0j\n",
    "    for i in range(cutoff + 1):\n",
    "        tmp = up(order * i, ind, cutoff = cutoff)\n",
    "        state[:, tmp[1]] += tmp[0] * fockState[:, ind] / special.factorial([i]) * alpha ** i\n",
    "    return state\n",
    "\n",
    "def exp_photonNum(fockState, alpha, order = 1, cutoff = 10):\n",
    "    ind = np.arange(fockState.shape[-1])\n",
    "    state = np.zeros(fockState.shape) + 0j\n",
    "    for i in range(cutoff + 1):\n",
    "        tmp =  photonNum(order * i, ind, cutoff)  # (order, n)\n",
    "        state[:, tmp[1]] += tmp[0] * fockState[:, ind] / special.factorial([i]) * alpha ** i\n",
    "    return state"
   ]
  },
  {
   "cell_type": "code",
   "execution_count": 6,
   "metadata": {},
   "outputs": [],
   "source": [
    "def reduceState(fockState, mode):\n",
    "    modeNum = fockState.ndim\n",
    "    cutoff = fockState.shape[-1] - 1\n",
    "    fockState = np.swapaxes(fockState, mode, 0)\n",
    "    fockState = fockState.flatten()\n",
    "    rho = np.outer(np.conj(fockState), fockState)\n",
    "    for i in range(modeNum - 1):\n",
    "        rho = partialTrace(rho, cutoff)\n",
    "    return  rho\n",
    "\n",
    "def partialTrace(rho, cutoff):\n",
    "    split = np.int(rho.shape[-1] / (cutoff + 1))\n",
    "    rho = np.array(np.split(rho, split, axis = -1))\n",
    "    rho = np.array(np.split(rho, split, axis = -2))\n",
    "    rho = np.trace(rho, axis1 = -2, axis2 = -1)\n",
    "    return  rho"
   ]
  },
  {
   "cell_type": "code",
   "execution_count": 7,
   "metadata": {},
   "outputs": [],
   "source": [
    "def displacement(fockState, mode, alpha, cutoff):\n",
    "    modeNum = fockState.ndim\n",
    "    state = singleGate_preProcess(fockState, mode)\n",
    "    state = exp_annihiration(state, -np.conj(alpha), cutoff = cutoff)\n",
    "    state = exp_creation(state, alpha, cutoff = cutoff)\n",
    "    state = singleGate_postProcess(state, mode, modeNum)\n",
    "    return state * np.exp(-np.abs(alpha)**2 / 2)"
   ]
  },
  {
   "cell_type": "markdown",
   "metadata": {},
   "source": [
    "### 試してみる"
   ]
  },
  {
   "cell_type": "code",
   "execution_count": 8,
   "metadata": {},
   "outputs": [],
   "source": [
    "alpha1 = (1 - 1j)\n",
    "mode1 = 0\n",
    "alpha2 = (1 + 1j)\n",
    "mode2 = 1\n",
    "modeNum = 2\n",
    "cutoff = 20\n",
    "fockState = vacuumState(modeNum, cutoff)\n",
    "state = displacement(fockState, mode1, alpha1, cutoff)\n",
    "state = displacement(state, mode2, alpha2, cutoff)\n",
    "# reducedState0 = reduceState(state, 0)\n",
    "# reducedState1 = reduceState(state, 1)\n",
    "# reducedState2 = reduceState(state, 2)\n",
    "\n",
    "# print(reducedState0)\n",
    "# print(reducedState1)\n",
    "# print(reducedState2)"
   ]
  },
  {
   "cell_type": "code",
   "execution_count": 9,
   "metadata": {},
   "outputs": [],
   "source": [
    "def FockWigner_vec(xmat, pmat, fockState, mode, tol=1e-10):\n",
    "    if fockState.ndim < mode + 1:\n",
    "        raise  ValueError(\"The mode is not exist.\")\n",
    "    if fockState.ndim > 1:\n",
    "        rho = reduceState(fockState, mode)\n",
    "    else:\n",
    "        rho = np.outer(np.conj(fockState), fockState)\n",
    "    dim = len(fockState)\n",
    "    grid = np.indices([dim, dim])\n",
    "    W = FockWignerElement_vec(xmat, pmat, grid[0], grid[1])\n",
    "    W = rho * W\n",
    "    W = np.sum(np.sum(W, axis = -1), axis = -1)\n",
    "    if np.max(np.imag(W)) < tol:\n",
    "        W = np.real(W)\n",
    "    else:\n",
    "        raise ValueError(\"Wigner plot has imaginary value.\")\n",
    "    return W"
   ]
  },
  {
   "cell_type": "code",
   "execution_count": 10,
   "metadata": {},
   "outputs": [
    {
     "name": "stdout",
     "output_type": "stream",
     "text": [
      "0.7927761077880859\n"
     ]
    },
    {
     "data": {
      "image/png": "[encoded data removed]",
      "text/plain": [
       "<Figure size 432x288 with 1 Axes>"
      ]
     },
     "metadata": {
      "needs_background": "light"
     },
     "output_type": "display_data"
    }
   ],
   "source": [
    "x = np.arange(-5, 5, 0.1)\n",
    "p = np.arange(-5, 5, 0.1)\n",
    "m = len(x)\n",
    "xx, pp = np.meshgrid(x, p)\n",
    "xi_array = np.dstack((pp, xx))\n",
    "start = time.time()\n",
    "        \n",
    "W = FockWigner_vec(xx, pp, state, 0)\n",
    "\n",
    "h = plt.contourf(x, p, W)\n",
    "t = time.time() - start\n",
    "print(t)"
   ]
  },
  {
   "cell_type": "markdown",
   "metadata": {},
   "source": [
    "## Kerr gate \n",
    "\n",
    "$H = \\hbar \\frac{\\chi}{2} (\\hat{a}^{\\dagger})^2 \\hat{a}^2$\n",
    "\n",
    "$K = \\exp{(\\frac{i}{\\hbar}H)} = \\exp{(i\\frac{\\chi}{2} (\\hat{a}^{\\dagger})^2 \\hat{a}^2)} = \\exp{(i\\frac{\\chi}{2} \\hat{a}^{\\dagger} \\hat{n} \\hat{a})}$"
   ]
  },
  {
   "cell_type": "code",
   "execution_count": 11,
   "metadata": {},
   "outputs": [],
   "source": [
    "def squeeze(fockState, mode, r, phi, cutoff):\n",
    "    G = np.exp(2 * 1j * phi) * np.tanh(r)\n",
    "    modeNum = fockState.ndim\n",
    "    state = singleGate_preProcess(fockState, mode)\n",
    "    state = exp_annihiration(state, np.conj(G) / 2, order = 2, cutoff = cutoff)\n",
    "    state = exp_photonNum(state, -np.log(np.cosh(r)), cutoff = cutoff)\n",
    "    state = exp_creation(state, -G / 2, order = 2, cutoff = cutoff)\n",
    "    state = singleGate_postProcess(state, mode, modeNum)\n",
    "    return state / np.sqrt(np.cosh(r))"
   ]
  },
  {
   "cell_type": "code",
   "execution_count": 240,
   "metadata": {},
   "outputs": [
    {
     "data": {
      "text/plain": [
       "array([[2.71828183, 0.        ],\n",
       "       [0.        , 2.71828183]])"
      ]
     },
     "execution_count": 240,
     "metadata": {},
     "output_type": "execute_result"
    }
   ],
   "source": [
    "A = np.array([[1, 0], [0, 1]])\n",
    "expm(A)"
   ]
  },
  {
   "cell_type": "code",
   "execution_count": 197,
   "metadata": {},
   "outputs": [],
   "source": [
    "def AAaa(fockState, cutoff):\n",
    "    order = 2\n",
    "    ind = np.arange(fockState.shape[-1])\n",
    "    state = np.zeros(fockState.shape) + 0j\n",
    "    state0 = np.zeros(fockState.shape) + 0j\n",
    "    tmp = down(order, ind)\n",
    "    state0[:, tmp[1]] = tmp[0] * fockState[:, ind]\n",
    "    state0[:, (cutoff - order):cutoff] = 0\n",
    "    \n",
    "    tmp = up(order, ind, cutoff = cutoff)\n",
    "    state[:, tmp[1]] = tmp[0] * state0[:, ind]\n",
    "    state[:, 0:order] = 0\n",
    "    return state\n",
    "\n",
    "def pow_AAaa(fockState, n, cutoff):\n",
    "    state = np.copy(fockState)\n",
    "    if n == 0:\n",
    "        return state\n",
    "    else:\n",
    "        for i in range(n):\n",
    "            state = AAaa(state, cutoff)\n",
    "        return state\n",
    "\n",
    "def exp_AAaa(fockState, alpha, cutoff):\n",
    "    state = np.zeros(fockState.shape) + 0j\n",
    "    precision = 5\n",
    "    # precisionが小さいと結果が収束しない。逆に言うと、小さくても収束する形でHamiltonianを実装する必要がある。\n",
    "    # もしくは、指数関数の数値計算で行っているような工夫が必要。\n",
    "    for i in range(precision * cutoff + 1):\n",
    "        tmpstate = np.copy(fockState)\n",
    "        tmpstate = pow_AAaa(tmpstate, i, cutoff)\n",
    "        tmpstate = tmpstate / special.factorial([i]) * (alpha ** i)\n",
    "        state += tmpstate\n",
    "        #print(np.sum(np.abs(state)**2))\n",
    "    return state\n",
    "\n",
    "def exp_AAaa2(fockState, alpha, cutoff):\n",
    "    state = np.zeros(fockState.shape) + 0j\n",
    "    for i in range(3 * cutoff + 1):\n",
    "        tmpstate = np.copy(fockState)\n",
    "        tmpstate = pow_AAaa(tmpstate, i, cutoff)\n",
    "        tmpstate = tmpstate / special.factorial([i]) * (alpha ** i)\n",
    "        state += tmpstate\n",
    "        #print(np.sum(np.abs(state)**2))\n",
    "    return state"
   ]
  },
  {
   "cell_type": "code",
   "execution_count": 235,
   "metadata": {},
   "outputs": [
    {
     "name": "stdout",
     "output_type": "stream",
     "text": [
      "50876499.43526256 50876499.43526256\n",
      "485165195.4097903 485165195.4097903\n"
     ]
    }
   ],
   "source": [
    "def exp_maclaurin(x):\n",
    "    n = 15\n",
    "    res = 0\n",
    "    for i in range(n):\n",
    "        res += x ** i / special.factorial(i)\n",
    "    return res\n",
    "\n",
    "x = 20\n",
    "r = exp_maclaurin(x)\n",
    "print(r, np.abs(r))\n",
    "print(np.exp(x), np.abs(np.exp(x)))"
   ]
  },
  {
   "cell_type": "code",
   "execution_count": 198,
   "metadata": {},
   "outputs": [],
   "source": [
    "def kerr(fockState, mode, chi, cutoff):\n",
    "    modeNum = fockState.ndim\n",
    "    state = singleGate_preProcess(fockState, mode)\n",
    "    state = exp_AAaa(state, 1j * chi / 2, cutoff)\n",
    "    state = singleGate_postProcess(state, mode, modeNum)\n",
    "    return state"
   ]
  },
  {
   "cell_type": "code",
   "execution_count": 199,
   "metadata": {},
   "outputs": [
    {
     "name": "stdout",
     "output_type": "stream",
     "text": [
      "1.0\n",
      "1.0\n"
     ]
    }
   ],
   "source": [
    "chi = 0.2\n",
    "alpha = 1\n",
    "mode = 0\n",
    "modeNum = 1\n",
    "cutoff = 20\n",
    "state = vacuumState(modeNum, cutoff)\n",
    "print(np.sum(np.abs(state)**2))\n",
    "state = displacement(state, mode, alpha, cutoff)\n",
    "state = kerr(state, mode, chi, cutoff)\n",
    "print(np.sum(np.abs(state)**2))"
   ]
  },
  {
   "cell_type": "code",
   "execution_count": 200,
   "metadata": {},
   "outputs": [
    {
     "name": "stdout",
     "output_type": "stream",
     "text": [
      "0.6553080081939697\n"
     ]
    },
    {
     "data": {
      "image/png": "[encoded data removed]",
      "text/plain": [
       "<Figure size 432x288 with 1 Axes>"
      ]
     },
     "metadata": {
      "needs_background": "light"
     },
     "output_type": "display_data"
    }
   ],
   "source": [
    "x = np.arange(-5, 5, 0.1)\n",
    "p = np.arange(-5, 5, 0.1)\n",
    "m = len(x)\n",
    "xx, pp = np.meshgrid(x, p)\n",
    "xi_array = np.dstack((pp, xx))\n",
    "start = time.time()\n",
    "        \n",
    "W1 = FockWigner_vec(xx, pp, state, 0)\n",
    "#W2 = FockWigner_vec(xx, pp, state, 1)\n",
    "\n",
    "h = plt.contourf(x, p, W1)\n",
    "t = time.time() - start\n",
    "print(t)"
   ]
  },
  {
   "cell_type": "markdown",
   "metadata": {},
   "source": [
    "## For Check"
   ]
  },
  {
   "cell_type": "code",
   "execution_count": 48,
   "metadata": {},
   "outputs": [],
   "source": [
    "import sys\n",
    "sys.path.append('../')\n",
    "\n",
    "import photonqat as pq\n",
    "import strawberryfields as sf\n",
    "from strawberryfields.ops import *"
   ]
  },
  {
   "cell_type": "code",
   "execution_count": 55,
   "metadata": {},
   "outputs": [
    {
     "data": {
      "image/png": "[encoded data removed]",
      "text/plain": [
       "<Figure size 432x288 with 1 Axes>"
      ]
     },
     "metadata": {
      "needs_background": "light"
     },
     "output_type": "display_data"
    },
    {
     "name": "stdout",
     "output_type": "stream",
     "text": [
      "mu0 = [0. 0.]\n",
      "cov0 = [[0.06766764 0.        ]\n",
      " [0.         3.69452805]]\n"
     ]
    }
   ],
   "source": [
    "G = pq.Gaussian_trans(3)\n",
    "G.Xsqueeze(0, 1)\n",
    "\n",
    "G.plotGaussianWigner(0) # plot\n",
    "print('mu0 =', G.mean(0)) # mu of qumode 0\n",
    "print('cov0 =', G.cov(0)) # covarince of qumode 1"
   ]
  },
  {
   "cell_type": "code",
   "execution_count": 1264,
   "metadata": {},
   "outputs": [
    {
     "name": "stdout",
     "output_type": "stream",
     "text": [
      "mu0 = [0. 0.]\n",
      "mu1 = [-1. -1.]\n",
      "mu2 = [1. 1.]\n"
     ]
    }
   ],
   "source": [
    "eng = sf.Engine(backend=\"gaussian\")\n",
    "gaussian = sf.Program(3)\n",
    "\n",
    "with gaussian.context as q:\n",
    "        sf.hbar = 1\n",
    "        # prepare the initial states\n",
    "        Dgate(alpha) | q[2] # displacement gate\n",
    "        BSgate(np.pi/4, 0) | (q[1], q[2])  # 50-50 beamsplitter\n",
    "\n",
    "\n",
    "results = eng.run(gaussian)\n",
    "mu0, cov0 = results.state.reduced_gaussian([0])\n",
    "mu1, cov1 = results.state.reduced_gaussian([1])\n",
    "mu2, cov2 = results.state.reduced_gaussian([2])\n",
    "print('mu0 =', mu0)\n",
    "print('mu1 =', mu1)\n",
    "print('mu2 =', mu2)"
   ]
  },
  {
   "cell_type": "code",
   "execution_count": 80,
   "metadata": {},
   "outputs": [
    {
     "name": "stdout",
     "output_type": "stream",
     "text": [
      "[[0 1 0]\n",
      " [0 0 0]\n",
      " [0 0 0]]\n"
     ]
    },
    {
     "data": {
      "text/plain": [
       "array([[[0, 0, 0],\n",
       "        [0, 1, 1],\n",
       "        [0, 0, 0]],\n",
       "\n",
       "       [[0, 0, 0],\n",
       "        [0, 0, 0],\n",
       "        [0, 0, 0]],\n",
       "\n",
       "       [[0, 0, 0],\n",
       "        [0, 0, 0],\n",
       "        [0, 0, 0]]])"
      ]
     },
     "execution_count": 80,
     "metadata": {},
     "output_type": "execute_result"
    }
   ],
   "source": [
    "A = np.array([1, 0, 0])\n",
    "B = np.array([0, 1, 0])\n",
    "C = np.array([0, 1, 1])\n",
    "s = np.tensordot(A, B, axes=0)\n",
    "print(s)\n",
    "s = np.tensordot(s, C, axes=0)\n",
    "s"
   ]
  },
  {
   "cell_type": "code",
   "execution_count": null,
   "metadata": {},
   "outputs": [],
   "source": []
  }
 ],
 "metadata": {
  "kernelspec": {
   "display_name": "Python 3",
   "language": "python",
   "name": "python3"
  },
  "language_info": {
   "codemirror_mode": {
    "name": "ipython",
    "version": 3
   },
   "file_extension": ".py",
   "mimetype": "text/x-python",
   "name": "python",
   "nbconvert_exporter": "python",
   "pygments_lexer": "ipython3",
   "version": "3.6.5"
  }
 },
 "nbformat": 4,
 "nbformat_minor": 2
}
